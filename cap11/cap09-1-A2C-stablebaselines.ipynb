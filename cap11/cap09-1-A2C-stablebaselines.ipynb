{
  "cells": [
    {
      "cell_type": "markdown",
      "metadata": {
        "id": "hyyN-2qyK_T2"
      },
      "source": [
        "# A2C com Stable Baselines3\n",
        "\n",
        "[![Open In Colab](https://colab.research.google.com/assets/colab-badge.svg)](https://colab.research.google.com/github/pablo-sampaio/rl_facil/blob/main/cap09/cap09-1-A2C-stablebaselines.ipynb)\n",
        "\n",
        "Vamos usar o algoritmo **A2C** (*Advantage Actor Critic*) neste Google Colab.\n",
        "\n",
        "Referências:\n",
        "- Notebook baseado neste tutorial: https://github.com/araffin/rl-tutorial-jnrr19\n",
        "- Stable-Baselines3: https://github.com/DLR-RM/stable-baselines3\n",
        "- Documentação: https://stable-baselines3.readthedocs.io/en/master/index.html\n",
        "- Caso queira usar agentes pré-treinados, veja [RL Baselines3 Zoo](https://github.com/DLR-RM/rl-baselines3-zoo)\n",
        "\n",
        "Alguns textos do tutorial original foram mantidos.\n",
        "\n",
        "A seguir, instalamos as dependências necessárias."
      ]
    },
    {
      "cell_type": "code",
      "execution_count": null,
      "metadata": {
        "id": "gWskDE2c9WoN"
      },
      "outputs": [],
      "source": [
        "import sys\n",
        "from IPython.display import clear_output\n",
        "\n",
        "IN_COLAB = 'google.colab' in sys.modules\n",
        "\n",
        "if IN_COLAB:\n",
        "    !apt-get install ffmpeg\n",
        "    !pip install \"stable-baselines3[extra]==2.1.0\"\n",
        "    #clear_output()"
      ]
    },
    {
      "cell_type": "code",
      "execution_count": null,
      "metadata": {
        "id": "VwO0bAqmAPw0"
      },
      "outputs": [],
      "source": [
        "!mkdir log_dir"
      ]
    },
    {
      "cell_type": "markdown",
      "metadata": {
        "id": "FtY8FhliLsGm"
      },
      "source": [
        "## Imports"
      ]
    },
    {
      "cell_type": "code",
      "execution_count": null,
      "metadata": {
        "id": "BIedd7Pz9sOs"
      },
      "outputs": [],
      "source": [
        "import gymnasium as gym\n",
        "import numpy as np\n",
        "import tensorboard\n",
        "\n",
        "%load_ext tensorboard\n",
        "\n",
        "import stable_baselines3\n",
        "stable_baselines3.__version__"
      ]
    },
    {
      "cell_type": "markdown",
      "metadata": {
        "id": "Ae32CtgzTG3R"
      },
      "source": [
        "Vamos importar especificamente o algoritmo **A2C**. Você pode importar outros algoritmos, instanciar e usar de forma idêntica ou parecida."
      ]
    },
    {
      "cell_type": "code",
      "execution_count": null,
      "metadata": {
        "id": "wgAXxClR0BfH"
      },
      "outputs": [],
      "source": [
        "from stable_baselines3 import A2C"
      ]
    },
    {
      "cell_type": "markdown",
      "metadata": {
        "id": "-0_8OQbOTTNT"
      },
      "source": [
        "Você também precisa importar a classe que vai representar a **rede neural da política**. É recomendado importar do submódulo específico do algoritmo desejado. No caso, vamos usar uma rede com camadas totalmente conectadas (ou seja, MLP - Multi-Layer Perceptron)."
      ]
    },
    {
      "cell_type": "code",
      "execution_count": null,
      "metadata": {
        "id": "ROUJr675TT01"
      },
      "outputs": [],
      "source": [
        "from stable_baselines3.a2c import MlpPolicy"
      ]
    },
    {
      "cell_type": "markdown",
      "metadata": {
        "id": "RapkYvTXL7Cd"
      },
      "source": [
        "## 1 - Criar o ambiente e instanciar o agente\n",
        "\n",
        "Estamos criando o ambiente e passando para a classe **A2C**, que permite testar ou treinar o agente.\n",
        "\n",
        "Sobre os parâmetros:\n",
        "- `n_steps`: indica quantos passos vai fazer por atualização\n",
        "- `ent_coef`: indica o peso do \"bônus de exploração\" (coeficiente de entropia)\n",
        "- `tensorboard_log`: diretório para guardar os logs\n",
        "- mais informações: https://stable-baselines3.readthedocs.io/en/master/modules/a2c.html\n",
        "\n"
      ]
    },
    {
      "cell_type": "code",
      "execution_count": null,
      "metadata": {
        "id": "pUWGZp3i9wyf"
      },
      "outputs": [],
      "source": [
        "env = gym.make(\"Acrobot-v1\", render_mode=\"rgb_array\")\n",
        "#env = gym.make(\"LunarLander-v2\", render_mode=\"rgb_array\")\n",
        "\n",
        "model = A2C(MlpPolicy, env, n_steps=16, ent_coef=0.01, verbose=1, tensorboard_log=\"log_dir\")"
      ]
    },
    {
      "cell_type": "markdown",
      "metadata": {
        "id": "vhrgy_iIolTb"
      },
      "source": [
        "Mais alguns detalhes sobre o uso de `MlpPolicy`:\n",
        "- o tamanho da entrada será deduzido do espaço de *estados do ambiente*\n",
        "- o número de nós de saída será deduzido do *espaço de ações*\n",
        "\n",
        "Você também pode passar a string `\"MlpPolicy\"`, sem precisar importar a classe."
      ]
    },
    {
      "cell_type": "markdown",
      "metadata": {
        "id": "4efFdrQ7MBvl"
      },
      "source": [
        "## 2 - Função auxiliar para rodar e avaliar o agente\n",
        "\n",
        "Na verdade, Stable-Baselines3 já oferece função similar, que poderia ser importada assim:\n",
        "\n",
        "`from stable_baselines3.common.evaluation import evaluate_policy`\n",
        "\n",
        "Mas vamos usar uma versão própria:"
      ]
    },
    {
      "cell_type": "code",
      "execution_count": null,
      "metadata": {
        "id": "63M8mSKR-6Zt"
      },
      "outputs": [],
      "source": [
        "def evaluate(model, n_eval_episodes=100, deterministic=True):\n",
        "    \"\"\"\n",
        "    Evaluate a RL agent\n",
        "    :param model: (BaseRLModel object) the RL Agent\n",
        "    :param num_episodes: (int) number of episodes to evaluate it\n",
        "    :return: (float) Mean reward for the last num_episodes\n",
        "    \"\"\"\n",
        "    # This function will only work for a single environment\n",
        "    env = model.get_env()\n",
        "    all_episode_rewards = []\n",
        "    for i in range(n_eval_episodes):\n",
        "        episode_rewards = []\n",
        "        done = False\n",
        "        obs = env.reset()\n",
        "        while not done:\n",
        "            # _model_state is only useful when using LSTM policies\n",
        "            action, _model_state = model.predict(obs, deterministic=deterministic)\n",
        "            # here, action, rewards and dones are arrays\n",
        "            # because we are using vectorized env\n",
        "            # also note that the step only returns a 4-tuple, as the env that is returned\n",
        "            # by model.get_env() is an sb3 vecenv that wraps the >v0.26 API\n",
        "            obs, reward, done, info = env.step(action)\n",
        "            episode_rewards.append(reward)\n",
        "\n",
        "        all_episode_rewards.append(sum(episode_rewards))\n",
        "\n",
        "    mean_episode_reward = np.mean(all_episode_rewards)\n",
        "    std_episode_rewaard = np.std(all_episode_rewards)\n",
        "    #print(\"Reward: \", mean_episode_reward, \"+/-\", std_episode_rewaard)\n",
        "\n",
        "    return mean_episode_reward, std_episode_rewaard"
      ]
    },
    {
      "cell_type": "markdown",
      "metadata": {
        "id": "zjEVOIY8NVeK"
      },
      "source": [
        "Vamos avaliar o agente não-treinado:"
      ]
    },
    {
      "cell_type": "code",
      "execution_count": null,
      "metadata": {
        "id": "xDHLMA6NFk95"
      },
      "outputs": [],
      "source": [
        "# Random Agent, before training\n",
        "mean_reward, std_reward = evaluate(model, n_eval_episodes=50)\n",
        "\n",
        "print(f\"Retorno médio: {mean_reward:.2f} +/- {std_reward:.2f}\")"
      ]
    },
    {
      "cell_type": "markdown",
      "metadata": {
        "id": "r5UoXTZPNdFE"
      },
      "source": [
        "## 3 - Treina o agente e avalia"
      ]
    },
    {
      "cell_type": "markdown",
      "metadata": {
        "id": "estawiYlqeFz"
      },
      "source": [
        "Treinar é bem simples. Note que você precisa informar a quantidade de **passos** (e não de *episódios*)."
      ]
    },
    {
      "cell_type": "code",
      "execution_count": null,
      "metadata": {
        "id": "e4cfSXIB-pTF"
      },
      "outputs": [],
      "source": [
        "# Train the agent for 100 thousand steps\n",
        "model.learn(total_timesteps=100_000)"
      ]
    },
    {
      "cell_type": "code",
      "execution_count": null,
      "metadata": {
        "id": "ygl_gVmV_QP7"
      },
      "outputs": [],
      "source": [
        "# Evaluate the trained agent\n",
        "mean_reward, std_reward = evaluate(model, n_eval_episodes=50)\n",
        "\n",
        "print(f\"Retorno médio: {mean_reward:.2f} +/- {std_reward:.2f}\")"
      ]
    },
    {
      "cell_type": "markdown",
      "metadata": {
        "id": "A00W6yY3NkHG"
      },
      "source": [
        "## 4 - Visualizar treinamento no Tensorboard"
      ]
    },
    {
      "cell_type": "code",
      "execution_count": null,
      "metadata": {
        "id": "2MkjYOgx3itp"
      },
      "outputs": [],
      "source": [
        "#%tensorboard --logdir log_dir"
      ]
    },
    {
      "cell_type": "code",
      "execution_count": null,
      "metadata": {},
      "outputs": [],
      "source": [
        "tensorboard.notebook.display(height=550)"
      ]
    },
    {
      "cell_type": "markdown",
      "metadata": {
        "id": "2LSG9SuXrjQR"
      },
      "source": [
        "## 5 - Visualizar Agente"
      ]
    },
    {
      "cell_type": "markdown",
      "metadata": {
        "id": "xVm9QPNVwKXN"
      },
      "source": [
        "### 5.1 Definições necessárias\n",
        "\n",
        "Funções necessárias para salvar um vídeo."
      ]
    },
    {
      "cell_type": "code",
      "execution_count": null,
      "metadata": {
        "id": "SLzXxO8VMD6N"
      },
      "outputs": [],
      "source": [
        "import base64\n",
        "from pathlib import Path\n",
        "\n",
        "from IPython import display as ipythondisplay\n",
        "\n",
        "def show_videos(video_path='', prefix=''):\n",
        "  \"\"\"\n",
        "  Taken from https://github.com/eleurent/highway-env\n",
        "\n",
        "  :param video_path: (str) Path to the folder containing videos\n",
        "  :param prefix: (str) Filter the video, showing only the only starting with this prefix\n",
        "  \"\"\"\n",
        "  html = []\n",
        "  for mp4 in Path(video_path).glob(\"{}*.mp4\".format(prefix)):\n",
        "      video_b64 = base64.b64encode(mp4.read_bytes())\n",
        "      html.append('''<video alt=\"{}\" autoplay\n",
        "                    loop controls style=\"height: 400px;\">\n",
        "                    <source src=\"data:video/mp4;base64,{}\" type=\"video/mp4\" />\n",
        "                </video>'''.format(mp4, video_b64.decode('ascii')))\n",
        "  ipythondisplay.display(ipythondisplay.HTML(data=\"<br>\".join(html)))"
      ]
    },
    {
      "cell_type": "markdown",
      "metadata": {
        "id": "LTRNUfulOGaF"
      },
      "source": [
        "We will record a video using the [VecVideoRecorder](https://stable-baselines.readthedocs.io/en/master/guide/vec_envs.html#vecvideorecorder) wrapper."
      ]
    },
    {
      "cell_type": "code",
      "execution_count": null,
      "metadata": {
        "id": "Trag9dQpOIhx"
      },
      "outputs": [],
      "source": [
        "from stable_baselines3.common.vec_env import VecVideoRecorder, DummyVecEnv\n",
        "\n",
        "def record_video(env_id, model, video_length=500, prefix='', video_folder='videos/'):\n",
        "  \"\"\"\n",
        "  :param env_id: (str)\n",
        "  :param model: (RL model)\n",
        "  :param video_length: (int)\n",
        "  :param prefix: (str)\n",
        "  :param video_folder: (str)\n",
        "  \"\"\"\n",
        "  eval_env = DummyVecEnv([lambda: gym.make(env_id, render_mode=\"rgb_array\")])\n",
        "  # Start the video at step=0 and record the given number of steps\n",
        "  eval_env = VecVideoRecorder(eval_env, video_folder=video_folder,\n",
        "                              record_video_trigger=lambda step: step == 0, video_length=video_length,\n",
        "                              name_prefix=prefix)\n",
        "\n",
        "  obs = eval_env.reset()\n",
        "  for _ in range(video_length):\n",
        "    action, _ = model.predict(obs)\n",
        "    obs, _, done, _ = eval_env.step(action)\n",
        "\n",
        "  # Close the video recorder\n",
        "  eval_env.close()"
      ]
    },
    {
      "cell_type": "markdown",
      "metadata": {
        "id": "KOObbeu5MMlR"
      },
      "source": [
        "### 5.2 Grava e exibe vídeo\n",
        "\n"
      ]
    },
    {
      "cell_type": "code",
      "execution_count": null,
      "metadata": {
        "id": "iATu7AiyMQW2"
      },
      "outputs": [],
      "source": [
        "record_video(\"Acrobot-v1\", model, video_length=1000, prefix=\"a2c-acrobot\")\n",
        "#record_video(\"LunarLander-v2\", model, video_length=1000, prefix=\"a2c-lunar\")"
      ]
    },
    {
      "cell_type": "code",
      "execution_count": null,
      "metadata": {
        "id": "-n4i-fW3NojZ"
      },
      "outputs": [],
      "source": [
        "show_videos(\"videos\", prefix=\"a2c-acrobot\")\n",
        "#show_videos(\"videos\", prefix=\"a2c-lunar\")"
      ]
    },
    {
      "cell_type": "markdown",
      "metadata": {
        "id": "9Y8zg4V566qD"
      },
      "source": [
        "## Bônus: Treinar um modelo de RL em UMA linha\n",
        "\n",
        "Vamos treinar o **DQN**, para comparar com o *A2C*."
      ]
    },
    {
      "cell_type": "code",
      "execution_count": null,
      "metadata": {
        "id": "suj-oxBfTgFU"
      },
      "outputs": [],
      "source": [
        "from stable_baselines3 import DQN"
      ]
    },
    {
      "cell_type": "markdown",
      "metadata": {
        "id": "wKkF1rzUVSCW"
      },
      "source": [
        "Usaremos apenas uma linha de código. A classe da política será inferida e o ambiente será criado automaticamente a partir das strings dadas. Veja mais na [documentação](https://stable-baselines.readthedocs.io/en/master/guide/quickstart.html)."
      ]
    },
    {
      "cell_type": "code",
      "execution_count": null,
      "metadata": {
        "id": "iaOPfOrwWEP4"
      },
      "outputs": [],
      "source": [
        "model2 = DQN('MlpPolicy', \"CartPole-v1\", buffer_size=20_000, learning_starts=2_000, target_update_interval=4_000, tensorboard_log=\"log_dir\", verbose=1).learn(100_000)"
      ]
    },
    {
      "cell_type": "code",
      "execution_count": null,
      "metadata": {},
      "outputs": [],
      "source": [
        "# faça o código para testar 'model2' aqui"
      ]
    },
    {
      "cell_type": "code",
      "execution_count": null,
      "metadata": {},
      "outputs": [],
      "source": []
    }
  ],
  "metadata": {
    "accelerator": "GPU",
    "colab": {
      "collapsed_sections": [
        "FtY8FhliLsGm",
        "xVm9QPNVwKXN"
      ],
      "name": "cap09-1-A2C-stablebaselines.ipynb",
      "provenance": [],
      "toc_visible": true
    },
    "gpuClass": "standard",
    "kernelspec": {
      "display_name": "Python 3.9.13 ('rlx')",
      "language": "python",
      "name": "python3"
    },
    "language_info": {
      "codemirror_mode": {
        "name": "ipython",
        "version": 3
      },
      "file_extension": ".py",
      "mimetype": "text/x-python",
      "name": "python",
      "nbconvert_exporter": "python",
      "pygments_lexer": "ipython3",
      "version": "3.11.6"
    },
    "vscode": {
      "interpreter": {
        "hash": "27dbc9ce4cc602e4f15257b7b0018d8dff5b9ce9a7d73bc4399cb5afb1e02c4a"
      }
    }
  },
  "nbformat": 4,
  "nbformat_minor": 0
}
