{
  "cells": [
    {
      "cell_type": "markdown",
      "metadata": {
        "id": "SeJ3wCaKe2Wl"
      },
      "source": [
        "# Capítulo 7 - DQN\n"
      ]
    },
    {
      "cell_type": "markdown",
      "metadata": {
        "id": "3AT7LdIRGf4I"
      },
      "source": [
        "Você pode rodar este notebook no Colab ou localmente. Para abrir diretamente no Colab, basta clicar no link abaixo.\n",
        "\n",
        "[![Open In Colab](https://colab.research.google.com/assets/colab-badge.svg)](https://colab.research.google.com/github/pablo-sampaio/rl_facil/blob/main/cap07/cap07-main.ipynb)"
      ]
    },
    {
      "cell_type": "markdown",
      "metadata": {
        "id": "uAHITU7VhsM7"
      },
      "source": [
        "## 1 - Configurações Iniciais"
      ]
    },
    {
      "cell_type": "markdown",
      "metadata": {
        "id": "Pk1160jwoH9y"
      },
      "source": [
        "Instalação de pacotes e atribuição do caminho para o código do projeto."
      ]
    },
    {
      "cell_type": "code",
      "execution_count": 1,
      "metadata": {
        "id": "NS23BU8R1vq-"
      },
      "outputs": [],
      "source": [
        "import sys\n",
        "from IPython.display import clear_output\n",
        "\n",
        "IN_COLAB = 'google.colab' in sys.modules\n",
        "\n",
        "if IN_COLAB:\n",
        "    !pip install gym==0.23.1  # also works with 0.25.2\n",
        "    !pip install gym[box2d]\n",
        "    !pip install opencv-python\n",
        "    !pip install gym[atari,accept-rom-license]\n",
        "    !pip install tensorboard\n",
        "\n",
        "    # para salvar videos\n",
        "    !apt-get install -y ffmpeg xvfb x11-utils\n",
        "\n",
        "    !git clone https://github.com/pablo-sampaio/rl_facil\n",
        "    sys.path.append(\"/content/rl_facil\")\n",
        "\n",
        "    clear_output()\n",
        "else:\n",
        "    from os import path\n",
        "    sys.path.append( path.dirname( path.dirname( path.abspath(\"__main__\") ) ) )\n",
        "\n",
        "clear_output()"
      ]
    },
    {
      "cell_type": "markdown",
      "metadata": {},
      "source": [
        "Cria um falso dispositivo de vídeo."
      ]
    },
    {
      "cell_type": "code",
      "execution_count": 2,
      "metadata": {
        "id": "It9SF9Iw2zXq"
      },
      "outputs": [],
      "source": [
        "if IN_COLAB:\n",
        "    import os\n",
        "    os.system(\"Xvfb :1 -screen 0 1400x900x24 &\")\n",
        "    os.environ['DISPLAY'] = ':1'"
      ]
    },
    {
      "cell_type": "markdown",
      "metadata": {},
      "source": [
        "Carrega a extensão para visualizar o `tensorboard` em um notebook."
      ]
    },
    {
      "cell_type": "code",
      "execution_count": 3,
      "metadata": {
        "id": "N903Nh7fRL0S"
      },
      "outputs": [],
      "source": [
        "%load_ext tensorboard"
      ]
    },
    {
      "cell_type": "markdown",
      "metadata": {},
      "source": [
        "Importa pacotes."
      ]
    },
    {
      "cell_type": "code",
      "execution_count": 4,
      "metadata": {
        "id": "0Gzf7VhkiHxQ"
      },
      "outputs": [],
      "source": [
        "import time\n",
        "from datetime import datetime\n",
        "import collections\n",
        "\n",
        "import numpy as np\n",
        "import torch\n",
        "import torch.nn as nn\n",
        "import torch.optim as optim\n",
        "\n",
        "#from tensorboardX import SummaryWriter\n",
        "from torch.utils.tensorboard import SummaryWriter\n",
        "import tensorboard\n",
        "\n",
        "import matplotlib.pyplot as plt"
      ]
    },
    {
      "cell_type": "code",
      "execution_count": 5,
      "metadata": {
        "id": "__2WQEWRk2a4"
      },
      "outputs": [],
      "source": [
        "import gym\n",
        "from gym.wrappers.monitoring.video_recorder import VideoRecorder"
      ]
    },
    {
      "cell_type": "code",
      "execution_count": 6,
      "metadata": {
        "id": "0jXaW5bSkf-_"
      },
      "outputs": [],
      "source": [
        "from cap07 import dqn_models\n",
        "from cap07.atari_wrappers import *\n",
        "\n",
        "from util.notebook import display_videos_from_path, display_videos_from_path_widgets, display_video"
      ]
    },
    {
      "cell_type": "markdown",
      "metadata": {
        "id": "ztvJdbKVh20Y"
      },
      "source": [
        "## 2 - DQN - Definições Auxiliares"
      ]
    },
    {
      "cell_type": "markdown",
      "metadata": {},
      "source": [
        "Adaptado do código explicado no livro **\"Deep Reinforcement Learning Hands On\"** (Maxim Lapan), Chapter 6."
      ]
    },
    {
      "cell_type": "markdown",
      "metadata": {
        "id": "_79PzMRmndhC"
      },
      "source": [
        "### Classes Auxiliares"
      ]
    },
    {
      "cell_type": "code",
      "execution_count": 7,
      "metadata": {
        "id": "8OACm0r-iuh2"
      },
      "outputs": [],
      "source": [
        "Experience = collections.namedtuple('Experience', field_names=['state', 'action', 'reward', 'done', 'new_state'])\n",
        "\n",
        "class DQNExperienceBuffer:\n",
        "    def __init__(self, capacity):\n",
        "        self.buffer = collections.deque(maxlen=capacity)\n",
        "\n",
        "    def __len__(self):\n",
        "        return len(self.buffer)\n",
        "\n",
        "    def append(self, s1, a, r, done, s2):\n",
        "        experience = Experience(s1, a, r, done, s2)\n",
        "        self.buffer.append(experience)\n",
        "\n",
        "    def sample(self, batch_size):\n",
        "        indices = np.random.choice(len(self.buffer), batch_size, replace=False)\n",
        "        states, actions, rewards, dones, next_states = zip(*[self.buffer[idx] for idx in indices])\n",
        "        return np.array(states), np.array(actions), np.array(rewards, dtype=np.float32), \\\n",
        "               np.array(dones, dtype=np.uint8), np.array(next_states)"
      ]
    },
    {
      "cell_type": "markdown",
      "metadata": {
        "id": "XzwVdZIf3xi6"
      },
      "source": [
        "### Funções Auxiliares"
      ]
    },
    {
      "cell_type": "code",
      "execution_count": 8,
      "metadata": {
        "id": "tGMkPSqg3wNx"
      },
      "outputs": [],
      "source": [
        "# Faz uma escolha epsilon-greedy\n",
        "def choose_action(qnet, env, state, epsilon, device):\n",
        "    done_reward = None\n",
        "    if np.random.random() < epsilon:\n",
        "        action = env.action_space.sample()\n",
        "    else:\n",
        "        state_a = np.array([state], copy=False)\n",
        "        state_v = torch.tensor(state_a, dtype=torch.float32).to(device)\n",
        "        q_vals_v = qnet(state_v)\n",
        "        _, act_v = torch.max(q_vals_v, dim=1)\n",
        "        action = int(act_v.item())\n",
        "    return action"
      ]
    },
    {
      "cell_type": "code",
      "execution_count": 9,
      "metadata": {
        "id": "3PH-mJQ6ndhD"
      },
      "outputs": [],
      "source": [
        "# loss function, para treinamento da rede no DQN\n",
        "def calc_loss(batch, net, tgt_net, gamma, device=\"cpu\"):\n",
        "    states, actions, rewards, dones, next_states = batch\n",
        "\n",
        "    states_v = torch.tensor(states, dtype=torch.float32).to(device)\n",
        "    next_states_v = torch.tensor(next_states, dtype=torch.float32).to(device)\n",
        "    actions_v = torch.tensor(actions, dtype=torch.int64).to(device)\n",
        "    rewards_v = torch.tensor(rewards).to(device)\n",
        "    done_mask = torch.tensor(dones, dtype=torch.bool).to(device)\n",
        "\n",
        "    state_action_values = net(states_v).gather(1, actions_v.unsqueeze(-1)).squeeze(-1)\n",
        "    next_state_values = tgt_net(next_states_v).max(dim=1)[0]\n",
        "    next_state_values[done_mask] = 0.0\n",
        "    next_state_values = next_state_values.detach()\n",
        "\n",
        "    target_state_action_values = rewards_v + gamma * next_state_values\n",
        "    return nn.MSELoss()(state_action_values, target_state_action_values)"
      ]
    },
    {
      "cell_type": "code",
      "execution_count": 10,
      "metadata": {
        "id": "NFI9Q2h4yfhw"
      },
      "outputs": [],
      "source": [
        "# Função para testar a política, rodando alguns episódios. Pode, também, renderizar ou gravar um vídeo.\n",
        "def test_Qpolicy(env, Qpolicy, epsilon=0.0, num_episodes=5, render=False, videorec=None):\n",
        "    episodes_returns = []\n",
        "    total_steps = 0\n",
        "    #num_actions = env.action_space.n\n",
        "    device = torch.device(\"cuda\" if torch.cuda.is_available() else \"cpu\")\n",
        "    for i in range(num_episodes):\n",
        "        obs = env.reset()\n",
        "        if render:\n",
        "            env.render()\n",
        "        if videorec is not None:\n",
        "            videorec.capture_frame()\n",
        "        done = False\n",
        "        steps = 0\n",
        "        episodes_returns.append(0.0)\n",
        "        while not done:\n",
        "            action = choose_action(Qpolicy, env, obs, epsilon, device)\n",
        "            obs, reward, done, _ = env.step(action)\n",
        "            if render:\n",
        "                env.render()\n",
        "            if videorec is not None:\n",
        "                videorec.capture_frame()\n",
        "            total_steps += 1\n",
        "            episodes_returns[-1] += reward\n",
        "            steps += 1\n",
        "        print(f\"EPISODE {i+1}\")\n",
        "        print(\"- steps:\", steps)\n",
        "        print(\"- return:\", episodes_returns[-1])\n",
        "    mean_return = round(np.mean(episodes_returns), 1)\n",
        "    print(\"RESULTADO FINAL: média (por episódio):\", mean_return, end=\"\")\n",
        "    print(\", episódios:\", len(episodes_returns), end=\"\")\n",
        "    print(\", total de passos:\", total_steps)\n",
        "    if videorec is not None:\n",
        "        videorec.close()\n",
        "    return mean_return, episodes_returns\n"
      ]
    },
    {
      "cell_type": "markdown",
      "metadata": {
        "id": "c241EVuundhE"
      },
      "source": [
        "## 3 - DQN - Função Principal"
      ]
    },
    {
      "cell_type": "markdown",
      "metadata": {
        "id": "bsqgk9RNndhE"
      },
      "source": [
        "Esta é a função que faz o aprendizado. (Porém, o DQN é uma solução maior, pensada para jogos de Atari, e que inclui também os wrappers, que serão usados na seção 6.)"
      ]
    },
    {
      "cell_type": "code",
      "execution_count": 11,
      "metadata": {
        "id": "JO3eR_sfndhE"
      },
      "outputs": [],
      "source": [
        "def DQN_TRAIN(env, env_name, gamma, qnet, qnet_lr, target_qnet, target_update_freq, replay_size, batch_size, epsilon_f, epsilon_decay_period, GOAL_REWARD):\n",
        "    # Passa as redes neurais para GPU, se tiver\n",
        "    device = torch.device(\"cuda\" if torch.cuda.is_available() else \"cpu\")\n",
        "    qnet.to(device)\n",
        "    target_qnet.to(device)\n",
        "    print(qnet)\n",
        "\n",
        "    # Cria o otimizador, que vai fazer o ajuste dos pesos da 'qnet', \n",
        "    # Usa uma técnica de gradiente descendente de destaque, chamada ADAM\n",
        "    optimizer = optim.Adam(qnet.parameters(), lr=qnet_lr)\n",
        "\n",
        "    # Para o logging de dados, para serem exibidos no tensorboard\n",
        "    writer = SummaryWriter(comment=\"-\" + env_name)\n",
        "\n",
        "    buffer = DQNExperienceBuffer(replay_size)\n",
        "\n",
        "    start_time_str = datetime.now().strftime(\"%Y-%m-%d,%H-%M-%S\")\n",
        "    episode_reward_list = []\n",
        "    step = 0\n",
        "    epsilon = 1.0\n",
        "\n",
        "    state = env.reset()\n",
        "    episode_reward = 0.0\n",
        "    episode_start_step = 0\n",
        "    episode_start_time = time.time()\n",
        "\n",
        "    while True:\n",
        "        step += 1\n",
        "        \n",
        "        # Decaimento linear do epsilon\n",
        "        epsilon = max(epsilon_f, 1.0 - step / epsilon_decay_period)\n",
        "\n",
        "        action = choose_action(qnet, env, state, epsilon, device)\n",
        "\n",
        "        # Faz um passo / Aplica uma ação no ambiente\n",
        "        new_state, reward, is_done, _ = env.step(action)\n",
        "        episode_reward += reward\n",
        "\n",
        "        # Adiciona no buffer\n",
        "        buffer.append(state, action, reward, is_done, new_state)\n",
        "        state = new_state\n",
        "\n",
        "        if is_done:\n",
        "            episode_reward_list.append(episode_reward)\n",
        "            speed = (step - episode_start_step) / (time.time() - episode_start_time)\n",
        "            \n",
        "            state = env.reset()\n",
        "            episode_reward = 0.0\n",
        "            episode_start_step = step\n",
        "            episode_start_time = time.time()\n",
        "\n",
        "            # Abaixo, faz vários loggings de dados\n",
        "            mean_reward = np.mean(episode_reward_list[-100:])\n",
        "            print(f\"{step}: finished {len(episode_reward_list)} episodes, mean reward {mean_reward:.3f}, eps {epsilon:.2f}, speed {speed:.2f} steps/s\")\n",
        "            writer.add_scalar(\"epsilon\", epsilon, step)\n",
        "            writer.add_scalar(\"epi_reward_100\", mean_reward, step)\n",
        "            writer.add_scalar(\"epi_reward\", episode_reward, step)\n",
        "\n",
        "            # Testa se \"resolveu\" o ambiente\n",
        "            if mean_reward > GOAL_REWARD:\n",
        "                print(f\"Solved in {step} steps with mean reward {mean_reward:.3f}\")\n",
        "                filename = env_name + \"-\" + start_time_str + \".dat\"\n",
        "                torch.save(qnet.state_dict(), filename)\n",
        "                print(f\"Model saved as {filename}\")\n",
        "                break\n",
        "\n",
        "        if len(buffer) < replay_size:\n",
        "            continue\n",
        "\n",
        "        # Faz a 'tgt_net' receber os mesmos valores de pesos da 'qnet', na frequência indicada\n",
        "        if step % target_update_freq == 0:\n",
        "            target_qnet.load_state_dict(qnet.state_dict())\n",
        "\n",
        "        if step % 10000 == 0:\n",
        "            clear_output()\n",
        "\n",
        "        # Escolhendo amostras aleatórios do buffer e faz uma atualização dos pesos da rede\n",
        "        optimizer.zero_grad()\n",
        "        batch = buffer.sample(batch_size)\n",
        "        loss_t = calc_loss(batch, qnet, target_qnet, gamma, device=device)\n",
        "        loss_t.backward()\n",
        "        optimizer.step()\n",
        "\n",
        "    writer.close()"
      ]
    },
    {
      "cell_type": "markdown",
      "metadata": {
        "id": "pZq9U2FGndhF"
      },
      "source": [
        "## 4 - Treinando em um Ambientes Simples"
      ]
    },
    {
      "cell_type": "code",
      "execution_count": 18,
      "metadata": {
        "id": "SigPdPRcndhF"
      },
      "outputs": [],
      "source": [
        "SIMPLE_ENV_NAME = \"MountainCar-v0\"\n",
        "GOAL_REWARD = -120\n",
        "\n",
        "#ENV_NAME = \"CartPole-v0\"\n",
        "#GOAL_REWARD = 200\n",
        "\n",
        "GAMMA = 0.999\n",
        "REPLAY_SIZE = 2_000\n",
        "BATCH_SIZE = 32\n",
        "LEARNING_RATE = 0.001\n",
        "SYNC_TARGET_FRAMES = 250\n",
        "\n",
        "EPSILON_DECAY_PERIOD = 60_000\n",
        "EPSILON_FINAL = 0.02"
      ]
    },
    {
      "cell_type": "code",
      "execution_count": 19,
      "metadata": {
        "id": "P0XKgIXSKdQV"
      },
      "outputs": [],
      "source": [
        "# Cria o ambiente\n",
        "env1 = gym.make(SIMPLE_ENV_NAME)\n",
        "\n",
        "# Cria as redes neurais\n",
        "qnet1 = dqn_models.MLP(env1.observation_space.shape[0], [128,256], env1.action_space.n)\n",
        "qtarget1 = dqn_models.MLP(env1.observation_space.shape[0], [128,256], env1.action_space.n)"
      ]
    },
    {
      "cell_type": "code",
      "execution_count": 20,
      "metadata": {
        "id": "nY2pju8dymgV"
      },
      "outputs": [
        {
          "name": "stdout",
          "output_type": "stream",
          "text": [
            "0125079: finished 758 episodes, mean reward -126.820, eps 0.02, speed 211.30 steps/s\n",
            "0125185: finished 759 episodes, mean reward -125.880, eps 0.02, speed 162.26 steps/s\n",
            "0125290: finished 760 episodes, mean reward -124.930, eps 0.02, speed 120.87 steps/s\n",
            "0125395: finished 761 episodes, mean reward -124.610, eps 0.02, speed 165.11 steps/s\n",
            "0125504: finished 762 episodes, mean reward -124.310, eps 0.02, speed 184.19 steps/s\n",
            "0125610: finished 763 episodes, mean reward -123.980, eps 0.02, speed 177.43 steps/s\n",
            "0125696: finished 764 episodes, mean reward -123.290, eps 0.02, speed 177.43 steps/s\n",
            "0125819: finished 765 episodes, mean reward -123.090, eps 0.02, speed 180.57 steps/s\n",
            "0125932: finished 766 episodes, mean reward -122.800, eps 0.02, speed 179.84 steps/s\n",
            "0126040: finished 767 episodes, mean reward -122.380, eps 0.02, speed 175.09 steps/s\n",
            "0126144: finished 768 episodes, mean reward -122.020, eps 0.02, speed 204.47 steps/s\n",
            "0126228: finished 769 episodes, mean reward -121.870, eps 0.02, speed 201.49 steps/s\n",
            "0126329: finished 770 episodes, mean reward -120.880, eps 0.02, speed 204.17 steps/s\n",
            "0126434: finished 771 episodes, mean reward -119.930, eps 0.02, speed 204.43 steps/s\n",
            "Solved in 126434 steps with mean reward -119.930\n",
            "Model saved as MountainCar-v0-2023-07-25,19-32-04.dat\n"
          ]
        }
      ],
      "source": [
        "DQN_TRAIN(\n",
        "    env = env1,\n",
        "    env_name = SIMPLE_ENV_NAME,\n",
        "    gamma = GAMMA,\n",
        "    qnet = qnet1,\n",
        "    qnet_lr = LEARNING_RATE,\n",
        "    target_qnet = qtarget1,\n",
        "    target_update_freq = SYNC_TARGET_FRAMES,\n",
        "    replay_size = REPLAY_SIZE,\n",
        "    batch_size = BATCH_SIZE,\n",
        "    epsilon_f = EPSILON_FINAL,\n",
        "    epsilon_decay_period = EPSILON_DECAY_PERIOD,\n",
        "    GOAL_REWARD = GOAL_REWARD)"
      ]
    },
    {
      "cell_type": "code",
      "execution_count": 15,
      "metadata": {
        "id": "BZ2hasvindhG"
      },
      "outputs": [],
      "source": [
        "# Para carregar uma rede salva de arquivo\n",
        "#qnet1.load_state_dict(torch.load(\"/content/MountainCar-v0-XXXXXX.dat\", map_location=lambda storage,loc: storage))"
      ]
    },
    {
      "cell_type": "code",
      "execution_count": 21,
      "metadata": {
        "id": "NFZ6eQeFIBA-"
      },
      "outputs": [
        {
          "name": "stderr",
          "output_type": "stream",
          "text": [
            "d:\\Pablo\\anaconda3\\envs\\rlx\\lib\\site-packages\\gym\\wrappers\\record_video.py:41: UserWarning: \u001b[33mWARN: Overwriting existing videos at d:\\Pablo\\Documents\\Projects\\pablo-sampaio\\rl_facil\\cap07\\dqn-simple folder (try specifying a different `video_folder` for the `RecordVideo` wrapper if this is not desired)\u001b[0m\n",
            "  logger.warn(\n",
            "d:\\Pablo\\anaconda3\\envs\\rlx\\lib\\site-packages\\gym\\wrappers\\monitoring\\video_recorder.py:421: DeprecationWarning: distutils Version classes are deprecated. Use packaging.version instead.\n",
            "  if distutils.version.LooseVersion(\n"
          ]
        },
        {
          "name": "stdout",
          "output_type": "stream",
          "text": [
            "EPISODE 1\n",
            "- steps: 85\n",
            "- return: -85.0\n",
            "EPISODE 2\n",
            "- steps: 100\n",
            "- return: -100.0\n",
            "EPISODE 3\n",
            "- steps: 105\n",
            "- return: -105.0\n",
            "RESULTADO FINAL: média (por episódio): -96.7, episódios: 3, total de passos: 290\n"
          ]
        }
      ],
      "source": [
        "# Roda alguns episódigos com o modelo e salva os vídeos em arquivos\n",
        "env1 = gym.make(SIMPLE_ENV_NAME)\n",
        "video_env=gym.wrappers.RecordVideo(env1, \"./dqn-simple\", episode_trigger=(lambda ep : True))\n",
        "test_Qpolicy(video_env, qnet1, 0.0, 3, render=False)\n",
        "video_env.close()"
      ]
    },
    {
      "cell_type": "code",
      "execution_count": 22,
      "metadata": {
        "id": "cijxLQTqt0Ja"
      },
      "outputs": [
        {
          "data": {
            "text/html": [
              "<video alt=\"dqn-simple\\rl-video-episode-0.mp4\" autoplay \n",
              "                    loop controls style=\"height: 400px;\">\n",
              "                    <source src=\"data:video/mp4;base64,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\" type=\"video/mp4\" />\n",
              "                    </video><br><video alt=\"dqn-simple\\rl-video-episode-1.mp4\" autoplay \n",
              "                    loop controls style=\"height: 400px;\">\n",
              "                    <source src=\"data:video/mp4;base64,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\" type=\"video/mp4\" />\n",
              "                    </video><br><video alt=\"dqn-simple\\rl-video-episode-2.mp4\" autoplay \n",
              "                    loop controls style=\"height: 400px;\">\n",
              "                    <source src=\"data:video/mp4;base64,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\" type=\"video/mp4\" />\n",
              "                    </video>"
            ],
            "text/plain": [
              "<IPython.core.display.HTML object>"
            ]
          },
          "metadata": {},
          "output_type": "display_data"
        },
        {
          "data": {
            "text/html": [
              "\n",
              "        <script>\n",
              "        var videos = document.getElementsByTagName('video');\n",
              "        for (var i = 0; i < videos.length; i++) {\n",
              "            videos[i].playbackRate = 1.0;\n",
              "        }\n",
              "        </script>\n",
              "        "
            ],
            "text/plain": [
              "<IPython.core.display.HTML object>"
            ]
          },
          "metadata": {},
          "output_type": "display_data"
        }
      ],
      "source": [
        "display_videos_from_path('./dqn-simple')"
      ]
    },
    {
      "cell_type": "markdown",
      "metadata": {
        "id": "fttzaanEMzvF"
      },
      "source": [
        "## 5 - Visualização dos Resultados dos Treinamentos"
      ]
    },
    {
      "cell_type": "markdown",
      "metadata": {
        "id": "o_iUaT7nM4ZV"
      },
      "source": [
        "Estamos, aqui, usando o **Tensorboard** para acompanhar os dados do treinamento em tempo real. Este módulo foi criado para o Tensorflow, mas é compatível com Pytorch.\n",
        "\n",
        "Basta rodar uma vez e acompanhar. Ele pode também ser executado antes da seção 4, para acompanhar.\n"
      ]
    },
    {
      "cell_type": "code",
      "execution_count": 25,
      "metadata": {
        "id": "Wk0UohtUjSnb"
      },
      "outputs": [
        {
          "data": {
            "text/html": [
              "\n",
              "      <iframe id=\"tensorboard-frame-908aedfe11399f96\" width=\"100%\" height=\"800\" frameborder=\"0\">\n",
              "      </iframe>\n",
              "      <script>\n",
              "        (function() {\n",
              "          const frame = document.getElementById(\"tensorboard-frame-908aedfe11399f96\");\n",
              "          const url = new URL(\"/\", window.location);\n",
              "          const port = 6006;\n",
              "          if (port) {\n",
              "            url.port = port;\n",
              "          }\n",
              "          frame.src = url;\n",
              "        })();\n",
              "      </script>\n",
              "    "
            ],
            "text/plain": [
              "<IPython.core.display.HTML object>"
            ]
          },
          "metadata": {},
          "output_type": "display_data"
        }
      ],
      "source": [
        "if IN_COLAB:\n",
        "    %tensorboard --logdir runs\n",
        "else:\n",
        "    %tensorboard --logdir cap07/runs\n",
        "    # Mostra o Tensorboard com a altura indicada\n",
        "    tensorboard.notebook.display(height=500)"
      ]
    },
    {
      "cell_type": "markdown",
      "metadata": {
        "id": "wP1Xyu4wndhH"
      },
      "source": [
        "## 6 - Treinando no Jogo Pong (Atari)"
      ]
    },
    {
      "cell_type": "code",
      "execution_count": 27,
      "metadata": {
        "id": "MvEJ8CNvndhH"
      },
      "outputs": [],
      "source": [
        "# Veja outros em: https://www.gymlibrary.dev/environments/atari/complete_list/\n",
        "# Se mudar o jogo, lembre-se de alterar também o GOAL_REWARD abaixo!\n",
        "ATARI_ENV_NAME = \"PongNoFrameskip-v4\"\n",
        "\n",
        "# Recompensa alvo; no Pong, esta é a diferença de pontos do player para a \"cpu\", sendo +21.0 o máximo e -21.0 o mínimo\n",
        "# Tente com algum valor negativo (e.g. -15.0) para um treinamento mais rápido, ou algum valor positivo (+15.0) para ver o agent ganhar da \"cpu\"\n",
        "GOAL_REWARD = 0.0\n",
        "\n",
        "# Parâmetros do DQN\n",
        "GAMMA = 0.99\n",
        "BATCH_SIZE = 32\n",
        "REPLAY_SIZE = 20_000\n",
        "LEARNING_RATE = 1e-4\n",
        "SYNC_TARGET_FRAMES = 1_000\n",
        "\n",
        "EPSILON_DECAY_PERIOD = 100_000\n",
        "EPSILON_FINAL = 0.02\n",
        "\n",
        "env2 = gym.make(ATARI_ENV_NAME)"
      ]
    },
    {
      "cell_type": "code",
      "execution_count": 28,
      "metadata": {
        "id": "OxNw6F_hywXV"
      },
      "outputs": [],
      "source": [
        "# Aplica os wrappers do DQN para ambientes Atari\n",
        "env2a = MaxAndSkipEnv(env2)\n",
        "env2b = FireResetEnv(env2a)\n",
        "env2c = ProcessFrame84(env2b)\n",
        "env2d = ImageToPyTorch(env2c)\n",
        "env2e = BufferWrapper(env2d, 4)\n",
        "env2f = ScaledFloatFrame(env2e)\n",
        "\n",
        "# Cria as redes neurais\n",
        "qnet2 = dqn_models.DQNNet(env2f.observation_space.shape, env2f.action_space.n)\n",
        "qtarget2 = dqn_models.DQNNet(env2f.observation_space.shape, env2f.action_space.n)"
      ]
    },
    {
      "cell_type": "code",
      "execution_count": 29,
      "metadata": {
        "id": "_CGUxgf_iiOU"
      },
      "outputs": [
        {
          "data": {
            "image/png": "[encoded data removed]",
            "text/plain": [
              "<Figure size 1200x500 with 3 Axes>"
            ]
          },
          "metadata": {},
          "output_type": "display_data"
        }
      ],
      "source": [
        "# Mostrando a tela do ambiente original, e outras telas após passar por alguns wrappers\n",
        "f, (ax1, ax2, ax3) = plt.subplots(1, 3, figsize=(12,5))\n",
        "\n",
        "s = env2.reset()\n",
        "ax1.imshow(s)\n",
        "ax1.set_title('Tela antes de iniciar')\n",
        "\n",
        "s = env2b.reset()\n",
        "ax2.imshow(s)\n",
        "ax2.set_title('Tela da partida iniciada automaticamente')\n",
        "\n",
        "s = env2d.reset()\n",
        "ax3.imshow(s[0], cmap='gray', vmin=0, vmax=255)  # exibe em escala de cinza\n",
        "ax3.set_title('Imagem processada');"
      ]
    },
    {
      "cell_type": "code",
      "execution_count": 30,
      "metadata": {
        "id": "umDKxHFVndhK"
      },
      "outputs": [
        {
          "name": "stdout",
          "output_type": "stream",
          "text": [
            "DQNNet(\n",
            "  (conv): Sequential(\n",
            "    (0): Conv2d(4, 32, kernel_size=(8, 8), stride=(4, 4))\n",
            "    (1): ReLU()\n",
            "    (2): Conv2d(32, 64, kernel_size=(4, 4), stride=(2, 2))\n",
            "    (3): ReLU()\n",
            "    (4): Conv2d(64, 64, kernel_size=(3, 3), stride=(1, 1))\n",
            "    (5): ReLU()\n",
            "  )\n",
            "  (fc): Sequential(\n",
            "    (0): Linear(in_features=3136, out_features=512, bias=True)\n",
            "    (1): ReLU()\n",
            "    (2): Linear(in_features=512, out_features=6, bias=True)\n",
            "  )\n",
            ")\n",
            "0000810: finished 1 episodes, mean reward -21.000, eps 0.99, speed 537.93 steps/s\n",
            "0001573: finished 2 episodes, mean reward -21.000, eps 0.98, speed 682.94 steps/s\n",
            "0002336: finished 3 episodes, mean reward -21.000, eps 0.98, speed 690.17 steps/s\n",
            "0003331: finished 4 episodes, mean reward -20.750, eps 0.97, speed 577.68 steps/s\n",
            "0004094: finished 5 episodes, mean reward -20.800, eps 0.96, speed 682.65 steps/s\n",
            "0004929: finished 6 episodes, mean reward -20.833, eps 0.95, speed 688.19 steps/s\n",
            "0005848: finished 7 episodes, mean reward -20.714, eps 0.94, speed 659.35 steps/s\n",
            "0006847: finished 8 episodes, mean reward -20.500, eps 0.93, speed 655.93 steps/s\n",
            "0007810: finished 9 episodes, mean reward -20.333, eps 0.92, speed 667.41 steps/s\n",
            "0008601: finished 10 episodes, mean reward -20.400, eps 0.91, speed 630.77 steps/s\n",
            "0009364: finished 11 episodes, mean reward -20.455, eps 0.91, speed 640.65 steps/s\n",
            "0010127: finished 12 episodes, mean reward -20.500, eps 0.90, speed 363.84 steps/s\n",
            "0011010: finished 13 episodes, mean reward -20.538, eps 0.89, speed 371.17 steps/s\n"
          ]
        },
        {
          "ename": "KeyboardInterrupt",
          "evalue": "",
          "output_type": "error",
          "traceback": [
            "\u001b[1;31m---------------------------------------------------------------------------\u001b[0m",
            "\u001b[1;31mKeyboardInterrupt\u001b[0m                         Traceback (most recent call last)",
            "Cell \u001b[1;32mIn[30], line 1\u001b[0m\n\u001b[1;32m----> 1\u001b[0m DQN_TRAIN(\n\u001b[0;32m      2\u001b[0m     env \u001b[39m=\u001b[39;49m env2f,\n\u001b[0;32m      3\u001b[0m     env_name \u001b[39m=\u001b[39;49m ATARI_ENV_NAME,\n\u001b[0;32m      4\u001b[0m     gamma \u001b[39m=\u001b[39;49m GAMMA,\n\u001b[0;32m      5\u001b[0m     qnet \u001b[39m=\u001b[39;49m qnet2,\n\u001b[0;32m      6\u001b[0m     qnet_lr \u001b[39m=\u001b[39;49m LEARNING_RATE,\n\u001b[0;32m      7\u001b[0m     target_qnet \u001b[39m=\u001b[39;49m qtarget2,\n\u001b[0;32m      8\u001b[0m     target_update_freq \u001b[39m=\u001b[39;49m SYNC_TARGET_FRAMES,\n\u001b[0;32m      9\u001b[0m     replay_size \u001b[39m=\u001b[39;49m REPLAY_SIZE,\n\u001b[0;32m     10\u001b[0m     batch_size \u001b[39m=\u001b[39;49m BATCH_SIZE,\n\u001b[0;32m     11\u001b[0m     epsilon_f \u001b[39m=\u001b[39;49m EPSILON_FINAL,\n\u001b[0;32m     12\u001b[0m     epsilon_decay_period \u001b[39m=\u001b[39;49m EPSILON_DECAY_PERIOD,\n\u001b[0;32m     13\u001b[0m     GOAL_REWARD \u001b[39m=\u001b[39;49m GOAL_REWARD)\n",
            "Cell \u001b[1;32mIn[11], line 36\u001b[0m, in \u001b[0;36mDQN_TRAIN\u001b[1;34m(env, env_name, gamma, qnet, qnet_lr, target_qnet, target_update_freq, replay_size, batch_size, epsilon_f, epsilon_decay_period, GOAL_REWARD)\u001b[0m\n\u001b[0;32m     33\u001b[0m action \u001b[39m=\u001b[39m choose_action(qnet, env, state, epsilon, device)\n\u001b[0;32m     35\u001b[0m \u001b[39m# Faz um passo / Aplica uma ação no ambiente\u001b[39;00m\n\u001b[1;32m---> 36\u001b[0m new_state, reward, is_done, _ \u001b[39m=\u001b[39m env\u001b[39m.\u001b[39;49mstep(action)\n\u001b[0;32m     37\u001b[0m episode_reward \u001b[39m+\u001b[39m\u001b[39m=\u001b[39m reward\n\u001b[0;32m     39\u001b[0m \u001b[39m# Adiciona no buffer\u001b[39;00m\n",
            "File \u001b[1;32md:\\Pablo\\anaconda3\\envs\\rlx\\lib\\site-packages\\gym\\core.py:314\u001b[0m, in \u001b[0;36mObservationWrapper.step\u001b[1;34m(self, action)\u001b[0m\n\u001b[0;32m    313\u001b[0m \u001b[39mdef\u001b[39;00m \u001b[39mstep\u001b[39m(\u001b[39mself\u001b[39m, action):\n\u001b[1;32m--> 314\u001b[0m     observation, reward, done, info \u001b[39m=\u001b[39m \u001b[39mself\u001b[39;49m\u001b[39m.\u001b[39;49menv\u001b[39m.\u001b[39;49mstep(action)\n\u001b[0;32m    315\u001b[0m     \u001b[39mreturn\u001b[39;00m \u001b[39mself\u001b[39m\u001b[39m.\u001b[39mobservation(observation), reward, done, info\n",
            "File \u001b[1;32md:\\Pablo\\anaconda3\\envs\\rlx\\lib\\site-packages\\gym\\core.py:314\u001b[0m, in \u001b[0;36mObservationWrapper.step\u001b[1;34m(self, action)\u001b[0m\n\u001b[0;32m    313\u001b[0m \u001b[39mdef\u001b[39;00m \u001b[39mstep\u001b[39m(\u001b[39mself\u001b[39m, action):\n\u001b[1;32m--> 314\u001b[0m     observation, reward, done, info \u001b[39m=\u001b[39m \u001b[39mself\u001b[39;49m\u001b[39m.\u001b[39;49menv\u001b[39m.\u001b[39;49mstep(action)\n\u001b[0;32m    315\u001b[0m     \u001b[39mreturn\u001b[39;00m \u001b[39mself\u001b[39m\u001b[39m.\u001b[39mobservation(observation), reward, done, info\n",
            "    \u001b[1;31m[... skipping similar frames: ObservationWrapper.step at line 314 (1 times)]\u001b[0m\n",
            "File \u001b[1;32md:\\Pablo\\anaconda3\\envs\\rlx\\lib\\site-packages\\gym\\core.py:314\u001b[0m, in \u001b[0;36mObservationWrapper.step\u001b[1;34m(self, action)\u001b[0m\n\u001b[0;32m    313\u001b[0m \u001b[39mdef\u001b[39;00m \u001b[39mstep\u001b[39m(\u001b[39mself\u001b[39m, action):\n\u001b[1;32m--> 314\u001b[0m     observation, reward, done, info \u001b[39m=\u001b[39m \u001b[39mself\u001b[39;49m\u001b[39m.\u001b[39;49menv\u001b[39m.\u001b[39;49mstep(action)\n\u001b[0;32m    315\u001b[0m     \u001b[39mreturn\u001b[39;00m \u001b[39mself\u001b[39m\u001b[39m.\u001b[39mobservation(observation), reward, done, info\n",
            "File \u001b[1;32md:\\Pablo\\Documents\\Projects\\pablo-sampaio\\rl_facil\\cap07\\atari_wrappers.py:16\u001b[0m, in \u001b[0;36mFireResetEnv.step\u001b[1;34m(self, action)\u001b[0m\n\u001b[0;32m     15\u001b[0m \u001b[39mdef\u001b[39;00m \u001b[39mstep\u001b[39m(\u001b[39mself\u001b[39m, action):\n\u001b[1;32m---> 16\u001b[0m     \u001b[39mreturn\u001b[39;00m \u001b[39mself\u001b[39;49m\u001b[39m.\u001b[39;49menv\u001b[39m.\u001b[39;49mstep(action)\n",
            "File \u001b[1;32md:\\Pablo\\Documents\\Projects\\pablo-sampaio\\rl_facil\\cap07\\atari_wrappers.py:46\u001b[0m, in \u001b[0;36mMaxAndSkipEnv.step\u001b[1;34m(self, action)\u001b[0m\n\u001b[0;32m     44\u001b[0m     \u001b[39mif\u001b[39;00m done:\n\u001b[0;32m     45\u001b[0m         \u001b[39mbreak\u001b[39;00m\n\u001b[1;32m---> 46\u001b[0m max_frame \u001b[39m=\u001b[39m np\u001b[39m.\u001b[39mmax(np\u001b[39m.\u001b[39;49mstack(\u001b[39mself\u001b[39;49m\u001b[39m.\u001b[39;49m_obs_buffer), axis\u001b[39m=\u001b[39m\u001b[39m0\u001b[39m)\n\u001b[0;32m     47\u001b[0m \u001b[39mreturn\u001b[39;00m max_frame, total_reward, done, info\n",
            "File \u001b[1;32m<__array_function__ internals>:180\u001b[0m, in \u001b[0;36mstack\u001b[1;34m(*args, **kwargs)\u001b[0m\n",
            "File \u001b[1;32md:\\Pablo\\anaconda3\\envs\\rlx\\lib\\site-packages\\numpy\\core\\shape_base.py:433\u001b[0m, in \u001b[0;36mstack\u001b[1;34m(arrays, axis, out)\u001b[0m\n\u001b[0;32m    431\u001b[0m sl \u001b[39m=\u001b[39m (\u001b[39mslice\u001b[39m(\u001b[39mNone\u001b[39;00m),) \u001b[39m*\u001b[39m axis \u001b[39m+\u001b[39m (_nx\u001b[39m.\u001b[39mnewaxis,)\n\u001b[0;32m    432\u001b[0m expanded_arrays \u001b[39m=\u001b[39m [arr[sl] \u001b[39mfor\u001b[39;00m arr \u001b[39min\u001b[39;00m arrays]\n\u001b[1;32m--> 433\u001b[0m \u001b[39mreturn\u001b[39;00m _nx\u001b[39m.\u001b[39;49mconcatenate(expanded_arrays, axis\u001b[39m=\u001b[39;49maxis, out\u001b[39m=\u001b[39;49mout)\n",
            "File \u001b[1;32m<__array_function__ internals>:180\u001b[0m, in \u001b[0;36mconcatenate\u001b[1;34m(*args, **kwargs)\u001b[0m\n",
            "\u001b[1;31mKeyboardInterrupt\u001b[0m: "
          ]
        }
      ],
      "source": [
        "DQN_TRAIN(\n",
        "    env = env2f,\n",
        "    env_name = ATARI_ENV_NAME,\n",
        "    gamma = GAMMA,\n",
        "    qnet = qnet2,\n",
        "    qnet_lr = LEARNING_RATE,\n",
        "    target_qnet = qtarget2,\n",
        "    target_update_freq = SYNC_TARGET_FRAMES,\n",
        "    replay_size = REPLAY_SIZE,\n",
        "    batch_size = BATCH_SIZE,\n",
        "    epsilon_f = EPSILON_FINAL,\n",
        "    epsilon_decay_period = EPSILON_DECAY_PERIOD,\n",
        "    GOAL_REWARD = GOAL_REWARD)"
      ]
    },
    {
      "cell_type": "code",
      "execution_count": null,
      "metadata": {
        "id": "jtPoS4t5b3d5"
      },
      "outputs": [],
      "source": [
        "# Para carregar uma rede salva de arquivo\n",
        "# Permite continuar um treinamento, ou permite carregar para salvar o vídeo\n",
        "#filename = \"/content/PongNoFrameskip-v4-agente-treinado.net\"\n",
        "#dqn_net2.load_state_dict(torch.load(filename, map_location=lambda storage,loc: storage))"
      ]
    },
    {
      "cell_type": "code",
      "execution_count": 31,
      "metadata": {
        "id": "uzVZv90bvG1x"
      },
      "outputs": [
        {
          "name": "stderr",
          "output_type": "stream",
          "text": [
            "d:\\Pablo\\anaconda3\\envs\\rlx\\lib\\site-packages\\gym\\wrappers\\record_video.py:41: UserWarning: \u001b[33mWARN: Overwriting existing videos at d:\\Pablo\\Documents\\Projects\\pablo-sampaio\\rl_facil\\cap07\\dqn-atari folder (try specifying a different `video_folder` for the `RecordVideo` wrapper if this is not desired)\u001b[0m\n",
            "  logger.warn(\n",
            "d:\\Pablo\\anaconda3\\envs\\rlx\\lib\\site-packages\\gym\\wrappers\\monitoring\\video_recorder.py:421: DeprecationWarning: distutils Version classes are deprecated. Use packaging.version instead.\n",
            "  if distutils.version.LooseVersion(\n"
          ]
        },
        {
          "name": "stdout",
          "output_type": "stream",
          "text": [
            "EPISODE 1\n",
            "- steps: 763\n",
            "- return: -21.0\n",
            "EPISODE 2\n",
            "- steps: 763\n",
            "- return: -21.0\n",
            "RESULTADO FINAL: média (por episódio): -21.0, episódios: 2, total de passos: 1526\n"
          ]
        }
      ],
      "source": [
        "# Roda alguns episódigos com o modelo e salva os vídeos em arquivos\n",
        "# Atenção: precisa rodar com os wrappers aplicados!\n",
        "env2 = gym.make(ATARI_ENV_NAME)\n",
        "env2a = MaxAndSkipEnv(env2)\n",
        "env2b = FireResetEnv(env2a)\n",
        "env2c = ProcessFrame84(env2b)\n",
        "env2d = ImageToPyTorch(env2c)\n",
        "env2e = BufferWrapper(env2d, 4)\n",
        "env2f = ScaledFloatFrame(env2e)\n",
        "\n",
        "video_env=gym.wrappers.RecordVideo(env2f, \"./dqn-atari\", episode_trigger=(lambda ep : True))\n",
        "test_Qpolicy(video_env, qnet2, 0.0, 2, render=False)\n",
        "video_env.close()"
      ]
    },
    {
      "cell_type": "code",
      "execution_count": 32,
      "metadata": {
        "id": "-lYCL7Plv3RY"
      },
      "outputs": [
        {
          "data": {
            "application/vnd.jupyter.widget-view+json": {
              "model_id": "18519fb0ce694a2fbb5ca97a7ee7cd35",
              "version_major": 2,
              "version_minor": 0
            },
            "text/plain": [
              "HBox(children=(Button(description='Video 0', style=ButtonStyle()), Button(description='Video 1', style=ButtonS…"
            ]
          },
          "metadata": {},
          "output_type": "display_data"
        },
        {
          "name": "stdout",
          "output_type": "stream",
          "text": [
            "Playing dqn-atari\\rl-video-episode-1.mp4\n"
          ]
        },
        {
          "data": {
            "application/vnd.jupyter.widget-view+json": {
              "model_id": "c1d77f2284bd4ff5a9a2417b3cde057c",
              "version_major": 2,
              "version_minor": 0
            },
            "text/plain": [
              "Video(value=b'\\x00\\x00\\x00 ftypisom\\x00\\x00\\x02\\x00isomiso2avc1mp41\\x00\\x00\\x00\\x08free\\x00\\x00jamdat\\x00\\x00\\…"
            ]
          },
          "metadata": {},
          "output_type": "display_data"
        }
      ],
      "source": [
        "#display_videos_from_path('./dqn-atari')\n",
        "display_videos_from_path_widgets('./dqn-atari')"
      ]
    }
  ],
  "metadata": {
    "accelerator": "GPU",
    "colab": {
      "name": "cap07-main.ipynb",
      "provenance": [],
      "toc_visible": true
    },
    "gpuClass": "standard",
    "kernelspec": {
      "display_name": "Python 3.9.13 ('rlx')",
      "language": "python",
      "name": "python3"
    },
    "language_info": {
      "codemirror_mode": {
        "name": "ipython",
        "version": 3
      },
      "file_extension": ".py",
      "mimetype": "text/x-python",
      "name": "python",
      "nbconvert_exporter": "python",
      "pygments_lexer": "ipython3",
      "version": "3.9.17"
    },
    "vscode": {
      "interpreter": {
        "hash": "27dbc9ce4cc602e4f15257b7b0018d8dff5b9ce9a7d73bc4399cb5afb1e02c4a"
      }
    }
  },
  "nbformat": 4,
  "nbformat_minor": 0
}
