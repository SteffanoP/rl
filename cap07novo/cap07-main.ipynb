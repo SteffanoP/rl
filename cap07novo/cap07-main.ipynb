{
  "cells": [
    {
      "cell_type": "markdown",
      "metadata": {
        "id": "SeJ3wCaKe2Wl"
      },
      "source": [
        "[![Open In Colab](https://colab.research.google.com/assets/colab-badge.svg)](https://colab.research.google.com/github/pablo-sampaio/rl_facil/blob/main/cap07/cap07-main.ipynb)\n",
        "\n",
        "# Capítulo 7 - Algoritmos com Modelo\n"
      ]
    },
    {
      "cell_type": "markdown",
      "metadata": {
        "id": "uAHITU7VhsM7"
      },
      "source": [
        "## Configurações Iniciais"
      ]
    },
    {
      "cell_type": "code",
      "execution_count": 1,
      "metadata": {
        "id": "NS23BU8R1vq-"
      },
      "outputs": [],
      "source": [
        "from IPython.display import clear_output\n",
        "import sys\n",
        "\n",
        "IN_COLAB = 'google.colab' in sys.modules\n",
        "\n",
        "if IN_COLAB:\n",
        "    # for saving videos\n",
        "    !apt-get install ffmpeg #freeglut3\n",
        "\n",
        "    !pip install gymnasium\n",
        "    !pip install optuna\n",
        "\n",
        "    # clone repository\n",
        "    !git clone https://github.com/pablo-sampaio/rl_facil\n",
        "    sys.path.append(\"/content/rl_facil\")\n",
        "\n",
        "else:\n",
        "    from os import path\n",
        "    sys.path.append( path.dirname( path.dirname( path.abspath(\"__main__\") ) ) )\n",
        "\n",
        "#clear_output()"
      ]
    },
    {
      "cell_type": "code",
      "execution_count": 2,
      "metadata": {
        "id": "S0vjjot4zl77"
      },
      "outputs": [
        {
          "data": {
            "text/plain": [
              "'if IN_COLAB:\\n    # Set up fake display; otherwise rendering will fail\\n    import os\\n    os.system(\"Xvfb :1 -screen 0 1024x768x24 &\")\\n    os.environ[\\'DISPLAY\\'] = \\':1\\'\\n\\n    from util.notebook import display_videos_from_path'"
            ]
          },
          "execution_count": 2,
          "metadata": {},
          "output_type": "execute_result"
        }
      ],
      "source": [
        "'''if IN_COLAB:\n",
        "    # Set up fake display; otherwise rendering will fail\n",
        "    import os\n",
        "    os.system(\"Xvfb :1 -screen 0 1024x768x24 &\")\n",
        "    os.environ['DISPLAY'] = ':1'\n",
        "\n",
        "    from util.notebook import display_videos_from_path'''"
      ]
    },
    {
      "cell_type": "code",
      "execution_count": 3,
      "metadata": {
        "id": "0Gzf7VhkiHxQ"
      },
      "outputs": [],
      "source": [
        "import random as rand\n",
        "import gymnasium as gym\n",
        "import numpy as np\n",
        "\n",
        "from util.experiments import repeated_exec\n",
        "from util.plot import plot_result, plot_multiple_results\n",
        "from util.notebook import display_videos_from_path\n",
        "\n",
        "from util.qtable_helper import evaluate_qtable, record_video_qtable"
      ]
    },
    {
      "cell_type": "code",
      "execution_count": 4,
      "metadata": {},
      "outputs": [],
      "source": [
        "from gymnasium.envs import register\n",
        "\n",
        "#from envs import RacetrackEnv\n",
        "\n",
        "register(\n",
        "    id='Racetrack',  # Use a unique string ID for your environment\n",
        "    entry_point='envs:RacetrackEnv',  # Specify the module and class name\n",
        "    max_episode_steps=300,\n",
        ")\n"
      ]
    },
    {
      "cell_type": "markdown",
      "metadata": {
        "id": "L15104fKzl7_"
      },
      "source": [
        "## 1 - Q-Learning"
      ]
    },
    {
      "cell_type": "markdown",
      "metadata": {
        "id": "XSWJnQFw2fvZ"
      },
      "source": [
        "O *Q-Learning* é um algoritmo **livre de modelo**, mas estamos relembrando aqui, primeiramente, com o **desempenho** do do próximo algoritmo´.\n",
        "\n",
        "Também recomendamos relembrar o **código** do Q-Learning, pois o Dyna-Q é um extensão simples dele.\n",
        "\n",
        "Ambos os algoritmos serão executados (em um teste simples) com o ambiente e os parâmetros dados abaixo."
      ]
    },
    {
      "cell_type": "code",
      "execution_count": 5,
      "metadata": {
        "id": "x0dKiIRh2fva"
      },
      "outputs": [],
      "source": [
        "# escolha o ambiente descomentando uma das linhas abaixo\n",
        "#ENV_NAME = 'Taxi-v3'\n",
        "ENV_NAME = 'Racetrack'\n",
        "\n",
        "LR = 0.3\n",
        "GAMMA = 0.90\n",
        "EPSILON = 0.1\n",
        "\n",
        "#VERBOSE = True"
      ]
    },
    {
      "cell_type": "code",
      "execution_count": 6,
      "metadata": {
        "id": "jc5RKqrpzl8E"
      },
      "outputs": [],
      "source": [
        "from cap05.qlearning_sarsa import run_qlearning"
      ]
    },
    {
      "cell_type": "code",
      "execution_count": 7,
      "metadata": {
        "id": "4x5E-zx85J_u"
      },
      "outputs": [
        {
          "name": "stdout",
          "output_type": "stream",
          "text": [
            "Últimos resultados: media = -66.05 , desvio padrao = 57.920182147503645\n"
          ]
        }
      ],
      "source": [
        "if ENV_NAME == \"Taxi-v3\":\n",
        "    rmax = 10.0\n",
        "    env = gym.make(\"Taxi-v3\")\n",
        "    EPISODES = 700\n",
        "else:\n",
        "    rmax = 0.0\n",
        "    env = gym.make(\"Racetrack\")\n",
        "    EPISODES = 3_000\n",
        "\n",
        "rewards1, qtable1 = run_qlearning(env, EPISODES, LR, GAMMA, EPSILON)\n",
        "print(\"Últimos resultados: media =\", np.mean(rewards1[-20:]), \", desvio padrao =\", np.std(rewards1[-20:]))"
      ]
    },
    {
      "cell_type": "code",
      "execution_count": 8,
      "metadata": {
        "id": "Jfj6LvPI5J_u"
      },
      "outputs": [
        {
          "data": {
            "image/png": "[encoded data removed]",
            "text/plain": [
              "<Figure size 1200x700 with 1 Axes>"
            ]
          },
          "metadata": {},
          "output_type": "display_data"
        }
      ],
      "source": [
        "# Mostra um gráfico de passos x retornos não descontados acumulados\n",
        "plot_result(rewards1, rmax, cumulative=False, window=30)"
      ]
    },
    {
      "cell_type": "code",
      "execution_count": 9,
      "metadata": {
        "id": "tJ7DZk4J2fvi"
      },
      "outputs": [
        {
          "name": "stdout",
          "output_type": "stream",
          "text": [
            "Episódio 1: -300.0\n",
            "Episódio 2: -300.0\n",
            "Episódio 3: -14.0\n",
            "Episódio 4: -29.0\n",
            "Episódio 5: -14.0\n",
            "Episódio 6: -31.0\n",
            "Episódio 7: -14.0\n",
            "Episódio 8: -300.0\n",
            "Episódio 9: -300.0\n",
            "Episódio 10: -300.0\n",
            "Retorno médio (por episódio): -160.2, episódios: 10, total de passos: 1607\n"
          ]
        }
      ],
      "source": [
        "evaluate_qtable(env, qtable1, 10, verbose=True);"
      ]
    },
    {
      "cell_type": "code",
      "execution_count": 10,
      "metadata": {},
      "outputs": [
        {
          "name": "stderr",
          "output_type": "stream",
          "text": [
            "c:\\ProgramData\\anaconda3\\envs\\rl23\\lib\\site-packages\\gymnasium\\wrappers\\record_video.py:87: UserWarning: \u001b[33mWARN: Overwriting existing videos at d:\\Pablo\\Documents\\Projects\\pablo-sampaio\\rl_facil\\cap07novo\\videos-qlearn folder (try specifying a different `video_folder` for the `RecordVideo` wrapper if this is not desired)\u001b[0m\n",
            "  logger.warn(\n"
          ]
        },
        {
          "name": "stdout",
          "output_type": "stream",
          "text": [
            "Moviepy - Building video d:\\Pablo\\Documents\\Projects\\pablo-sampaio\\rl_facil\\cap07novo\\videos-qlearn\\rl-video-episode-0.mp4.\n",
            "Moviepy - Writing video d:\\Pablo\\Documents\\Projects\\pablo-sampaio\\rl_facil\\cap07novo\\videos-qlearn\\rl-video-episode-0.mp4\n",
            "\n"
          ]
        },
        {
          "name": "stderr",
          "output_type": "stream",
          "text": [
            "                                                               "
          ]
        },
        {
          "name": "stdout",
          "output_type": "stream",
          "text": [
            "Moviepy - Done !\n",
            "Moviepy - video ready d:\\Pablo\\Documents\\Projects\\pablo-sampaio\\rl_facil\\cap07novo\\videos-qlearn\\rl-video-episode-0.mp4\n"
          ]
        },
        {
          "name": "stderr",
          "output_type": "stream",
          "text": [
            "\r"
          ]
        }
      ],
      "source": [
        "record_video_qtable(env, qtable1, length=500, folder='./videos-qlearn')"
      ]
    },
    {
      "cell_type": "code",
      "execution_count": 11,
      "metadata": {},
      "outputs": [
        {
          "data": {
            "text/html": [
              "<video alt=\"videos-qlearn\\rl-video-episode-0.mp4\" autoplay \n",
              "                    loop controls style=\"height: 400px;\">\n",
              "                    <source src=\"data:video/mp4;base64,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\" type=\"video/mp4\" />\n",
              "                    </video>"
            ],
            "text/plain": [
              "<IPython.core.display.HTML object>"
            ]
          },
          "metadata": {},
          "output_type": "display_data"
        },
        {
          "data": {
            "text/html": [
              "\n",
              "        <script>\n",
              "        var videos = document.getElementsByTagName('video');\n",
              "        for (var i = 0; i < videos.length; i++) {\n",
              "            videos[i].playbackRate = 0.5;\n",
              "        }\n",
              "        </script>\n",
              "        "
            ],
            "text/plain": [
              "<IPython.core.display.HTML object>"
            ]
          },
          "metadata": {},
          "output_type": "display_data"
        }
      ],
      "source": [
        "display_videos_from_path('./videos-qlearn', speed=0.5)"
      ]
    },
    {
      "cell_type": "markdown",
      "metadata": {
        "id": "rEeLJzatzl8H"
      },
      "source": [
        "## 2 - Dyna-Q"
      ]
    },
    {
      "cell_type": "markdown",
      "metadata": {
        "id": "kO52zy36zl8H"
      },
      "source": [
        "O *Dyna-Q* é um algoritmo **com modelo** que é uma extensão do *Q-Learning*. Compare os códigos para entender o Dyna-Q."
      ]
    },
    {
      "cell_type": "code",
      "execution_count": 12,
      "metadata": {
        "id": "NFVuYF92zl8I"
      },
      "outputs": [],
      "source": [
        "def planning(model, planning_steps, Q, lr, gamma):\n",
        "    all_s_a = list(model.keys())\n",
        "    if len(all_s_a) < planning_steps:\n",
        "        samples = rand.choices(all_s_a, k=planning_steps)\n",
        "    else:\n",
        "        samples = rand.sample(all_s_a, k=planning_steps)\n",
        "\n",
        "    for s, a in samples:\n",
        "        r, next_s, is_terminal = model[(s,a)]\n",
        "        if is_terminal:\n",
        "            V_next_s = 0\n",
        "        else:\n",
        "            V_next_s = np.max(Q[next_s])\n",
        "        delta = (r + gamma * V_next_s) - Q[s,a]\n",
        "        Q[s,a] = Q[s,a] + lr * delta"
      ]
    },
    {
      "cell_type": "code",
      "execution_count": 13,
      "metadata": {},
      "outputs": [],
      "source": [
        "# Esta é a política. Neste caso, escolhe uma ação com base nos valores da tabela Q, usando uma estratégia epsilon-greedy, \n",
        "# dividindo a probabilidade igualmente em caso de empates entre ações de valor máximo.\n",
        "from util.qtable_helper import epsilon_greedy_random_tiebreak"
      ]
    },
    {
      "cell_type": "code",
      "execution_count": 14,
      "metadata": {
        "id": "pVmOdi4zzl8J"
      },
      "outputs": [],
      "source": [
        "# Algoritmo Dyna Q\n",
        "def run_dyna_q(env, episodes, lr=0.1, gamma=0.95, epsilon=0.1, planning_steps=5):\n",
        "    assert isinstance(env.observation_space, gym.spaces.Discrete)\n",
        "    assert isinstance(env.action_space, gym.spaces.Discrete)\n",
        "\n",
        "    num_actions = env.action_space.n\n",
        "\n",
        "    # inicializa a tabela Q\n",
        "    Q = np.zeros(shape=(env.observation_space.n, num_actions))\n",
        "\n",
        "    model = dict({})\n",
        "\n",
        "    # para cada episódio, guarda sua soma de recompensas (retorno não-descontado)\n",
        "    sum_rewards_per_ep = []\n",
        "\n",
        "    # loop principal\n",
        "    for i in range(episodes):\n",
        "        done = False\n",
        "        sum_rewards, reward = 0, 0\n",
        "\n",
        "        state, _ = env.reset()\n",
        "\n",
        "        # executa 1 episódio completo, fazendo atualizações na Q-table\n",
        "        while not done:\n",
        "\n",
        "            # escolhe a próxima ação -- usa epsilon-greedy\n",
        "            action = epsilon_greedy_random_tiebreak(Q, state, epsilon)\n",
        "\n",
        "            # realiza a ação, ou seja, dá um passo no ambiente\n",
        "            next_state, reward, terminated, truncated, _ = env.step(action)\n",
        "            done = terminated or truncated\n",
        "\n",
        "            if terminated:\n",
        "                # para estados terminais\n",
        "                V_next_state = 0\n",
        "                next_state = env.reset()\n",
        "            else:\n",
        "                # para estados não-terminais -- valor máximo (melhor ação)\n",
        "                V_next_state = np.max(Q[next_state])\n",
        "\n",
        "            # atualiza a Q-table / direct RL\n",
        "            delta = (reward + gamma * V_next_state) - Q[state,action]\n",
        "            Q[state,action] = Q[state,action] + lr * delta\n",
        "\n",
        "            # atualiza o modelo\n",
        "            model[state,action] = (reward, next_state, done)\n",
        "\n",
        "            # planejamento / indirect RL\n",
        "            planning(model, planning_steps, Q, lr, gamma)\n",
        "\n",
        "            sum_rewards += reward\n",
        "            state = next_state\n",
        "\n",
        "        sum_rewards_per_ep.append(sum_rewards)\n",
        "\n",
        "        # a cada 1000 passos, imprime informação sobre o progresso\n",
        "        if VERBOSE and ((i+1) % 1000 == 0):\n",
        "            avg_reward = np.mean(sum_rewards_per_ep[-100:])\n",
        "            print(f\"Step {i+1} Average Reward (last 100): {avg_reward:.3f}\")\n",
        "\n",
        "    state = env.reset()\n",
        "    reward = 0\n",
        "\n",
        "    return sum_rewards_per_ep, Q"
      ]
    },
    {
      "cell_type": "code",
      "execution_count": 15,
      "metadata": {
        "id": "vCdswbdqzl8K"
      },
      "outputs": [
        {
          "ename": "NameError",
          "evalue": "name 'VERBOSE' is not defined",
          "output_type": "error",
          "traceback": [
            "\u001b[1;31m---------------------------------------------------------------------------\u001b[0m",
            "\u001b[1;31mNameError\u001b[0m                                 Traceback (most recent call last)",
            "\u001b[1;32md:\\Pablo\\Documents\\Projects\\pablo-sampaio\\rl_facil\\cap07novo\\cap07-main.ipynb Cell 21\u001b[0m line \u001b[0;36m1\n\u001b[0;32m      <a href='vscode-notebook-cell:/d%3A/Pablo/Documents/Projects/pablo-sampaio/rl_facil/cap07novo/cap07-main.ipynb#X26sZmlsZQ%3D%3D?line=6'>7</a>\u001b[0m     rmax \u001b[39m=\u001b[39m \u001b[39m0.0\u001b[39m\n\u001b[0;32m      <a href='vscode-notebook-cell:/d%3A/Pablo/Documents/Projects/pablo-sampaio/rl_facil/cap07novo/cap07-main.ipynb#X26sZmlsZQ%3D%3D?line=7'>8</a>\u001b[0m     EPISODES \u001b[39m=\u001b[39m \u001b[39m3_000\u001b[39m\n\u001b[1;32m---> <a href='vscode-notebook-cell:/d%3A/Pablo/Documents/Projects/pablo-sampaio/rl_facil/cap07novo/cap07-main.ipynb#X26sZmlsZQ%3D%3D?line=9'>10</a>\u001b[0m rewards2, qtable2 \u001b[39m=\u001b[39m run_dyna_q(env, EPISODES, LR, GAMMA, EPSILON, planning_steps\u001b[39m=\u001b[39;49m\u001b[39m10\u001b[39;49m)\n\u001b[0;32m     <a href='vscode-notebook-cell:/d%3A/Pablo/Documents/Projects/pablo-sampaio/rl_facil/cap07novo/cap07-main.ipynb#X26sZmlsZQ%3D%3D?line=10'>11</a>\u001b[0m \u001b[39mprint\u001b[39m(\u001b[39m\"\u001b[39m\u001b[39mÚltimos resultados: media =\u001b[39m\u001b[39m\"\u001b[39m, np\u001b[39m.\u001b[39mmean(rewards2[\u001b[39m-\u001b[39m\u001b[39m20\u001b[39m:]), \u001b[39m\"\u001b[39m\u001b[39m, desvio padrao =\u001b[39m\u001b[39m\"\u001b[39m, np\u001b[39m.\u001b[39mstd(rewards2[\u001b[39m-\u001b[39m\u001b[39m20\u001b[39m:]))\n",
            "\u001b[1;32md:\\Pablo\\Documents\\Projects\\pablo-sampaio\\rl_facil\\cap07novo\\cap07-main.ipynb Cell 21\u001b[0m line \u001b[0;36m5\n\u001b[0;32m     <a href='vscode-notebook-cell:/d%3A/Pablo/Documents/Projects/pablo-sampaio/rl_facil/cap07novo/cap07-main.ipynb#X26sZmlsZQ%3D%3D?line=53'>54</a>\u001b[0m sum_rewards_per_ep\u001b[39m.\u001b[39mappend(sum_rewards)\n\u001b[0;32m     <a href='vscode-notebook-cell:/d%3A/Pablo/Documents/Projects/pablo-sampaio/rl_facil/cap07novo/cap07-main.ipynb#X26sZmlsZQ%3D%3D?line=55'>56</a>\u001b[0m \u001b[39m# a cada 1000 passos, imprime informação sobre o progresso\u001b[39;00m\n\u001b[1;32m---> <a href='vscode-notebook-cell:/d%3A/Pablo/Documents/Projects/pablo-sampaio/rl_facil/cap07novo/cap07-main.ipynb#X26sZmlsZQ%3D%3D?line=56'>57</a>\u001b[0m \u001b[39mif\u001b[39;00m VERBOSE \u001b[39mand\u001b[39;00m ((i\u001b[39m+\u001b[39m\u001b[39m1\u001b[39m) \u001b[39m%\u001b[39m \u001b[39m1000\u001b[39m \u001b[39m==\u001b[39m \u001b[39m0\u001b[39m):\n\u001b[0;32m     <a href='vscode-notebook-cell:/d%3A/Pablo/Documents/Projects/pablo-sampaio/rl_facil/cap07novo/cap07-main.ipynb#X26sZmlsZQ%3D%3D?line=57'>58</a>\u001b[0m     avg_reward \u001b[39m=\u001b[39m np\u001b[39m.\u001b[39mmean(sum_rewards_per_ep[\u001b[39m-\u001b[39m\u001b[39m100\u001b[39m:])\n\u001b[0;32m     <a href='vscode-notebook-cell:/d%3A/Pablo/Documents/Projects/pablo-sampaio/rl_facil/cap07novo/cap07-main.ipynb#X26sZmlsZQ%3D%3D?line=58'>59</a>\u001b[0m     \u001b[39mprint\u001b[39m(\u001b[39mf\u001b[39m\u001b[39m\"\u001b[39m\u001b[39mStep \u001b[39m\u001b[39m{\u001b[39;00mi\u001b[39m+\u001b[39m\u001b[39m1\u001b[39m\u001b[39m}\u001b[39;00m\u001b[39m Average Reward (last 100): \u001b[39m\u001b[39m{\u001b[39;00mavg_reward\u001b[39m:\u001b[39;00m\u001b[39m.3f\u001b[39m\u001b[39m}\u001b[39;00m\u001b[39m\"\u001b[39m)\n",
            "\u001b[1;31mNameError\u001b[0m: name 'VERBOSE' is not defined"
          ]
        }
      ],
      "source": [
        "env = gym.make(ENV_NAME)\n",
        "\n",
        "if ENV_NAME == 'Taxi-v3':\n",
        "    rmax = 10.0\n",
        "    EPISODES = 700\n",
        "else:\n",
        "    rmax = 0.0\n",
        "    EPISODES = 3_000\n",
        "\n",
        "rewards2, qtable2 = run_dyna_q(env, EPISODES, LR, GAMMA, EPSILON, planning_steps=10)\n",
        "print(\"Últimos resultados: media =\", np.mean(rewards2[-20:]), \", desvio padrao =\", np.std(rewards2[-20:]))"
      ]
    },
    {
      "cell_type": "code",
      "execution_count": null,
      "metadata": {
        "id": "wxeaJNc2zl8K"
      },
      "outputs": [],
      "source": [
        "# Mostra um gráfico de passos x retornos não descontados acumulados\n",
        "plot_result(rewards2, rmax, cumulative='no', window=30)"
      ]
    },
    {
      "cell_type": "code",
      "execution_count": null,
      "metadata": {},
      "outputs": [],
      "source": [
        "evaluate_qtable(env, qtable2, 10, verbose=True);"
      ]
    },
    {
      "cell_type": "code",
      "execution_count": null,
      "metadata": {},
      "outputs": [],
      "source": [
        "record_video_qtable(env, qtable2, length=500, folder='./videos-dynaq')"
      ]
    },
    {
      "cell_type": "code",
      "execution_count": null,
      "metadata": {},
      "outputs": [],
      "source": [
        "display_videos_from_path('./videos-dynaq', speed=0.5)"
      ]
    },
    {
      "cell_type": "markdown",
      "metadata": {
        "id": "M8roKzCgsuCl"
      },
      "source": [
        "## 3 - Experimentos com \"Taxi-v3\" (ou o \"Racetrack\")"
      ]
    },
    {
      "cell_type": "markdown",
      "metadata": {
        "id": "rDa_GxSu2fvs"
      },
      "source": [
        "Nesta seção, você pode fazer experimentos no `Taxi-v3` ou no `Racetrack`, como preferir. Porém, sabia que o treinamento com Racetrack é bem mais demorado.\n",
        "\n",
        "Escolha o ambiente na célula de código abaixo.\n",
        "\n",
        "Os experimentos têm duas partes:\n",
        "- Na seção 3.1, vamos otimizar os parâmetros do Q-Learning\n",
        "- Na seção 3.2, vamos rodar o Q-Learning e o Dyna-Q (ambos com os parâmetros do Q-Learning), para comparar\n"
      ]
    },
    {
      "cell_type": "code",
      "execution_count": null,
      "metadata": {
        "id": "SvFQZWsG2fvt"
      },
      "outputs": [],
      "source": [
        "# Escolha abaixo o ambiente\n",
        "ENV_NAME_EXPERIMENT = 'Taxi-v3'\n",
        "#ENV_NAME_EXPERIMENT = 'Racetrack'"
      ]
    },
    {
      "cell_type": "markdown",
      "metadata": {
        "id": "ZDfuPn7azl8L"
      },
      "source": [
        "### 3.1 - Otimizando Parâmetros do Q-Learning"
      ]
    },
    {
      "cell_type": "code",
      "execution_count": null,
      "metadata": {},
      "outputs": [],
      "source": [
        "import optuna"
      ]
    },
    {
      "cell_type": "code",
      "execution_count": null,
      "metadata": {
        "id": "DqXaA24Pzl8L"
      },
      "outputs": [],
      "source": [
        "if ENV_NAME_EXPERIMENT == 'Taxi-v3':\n",
        "    EPISODES_PER_TRIAL = 200\n",
        "else:\n",
        "    EPISODES_PER_TRIAL = 800\n",
        "\n",
        "RUNS_PER_TRIAL = 3"
      ]
    },
    {
      "cell_type": "code",
      "execution_count": null,
      "metadata": {
        "id": "aU8DNpphvcRa"
      },
      "outputs": [],
      "source": [
        "def train(trial : optuna.Trial):\n",
        "    # chama os métodos do \"trial\" (tentativa) para sugerir valores para os parâmetros\n",
        "    lr = trial.suggest_uniform('lr', 0.1, 1.0)\n",
        "    eps = trial.suggest_uniform('epsilon', 0.01, 0.2)\n",
        "    gamma = trial.suggest_uniform('gamma', 0.5, 1.0)\n",
        "\n",
        "    print(f\"\\nTRIAL #{trial.number}: lr={lr}, eps={eps}, gamma={gamma}\")\n",
        "\n",
        "    # roda o algoritmo várias vezes\n",
        "    global RUNS_PER_TRIAL, EPISODES_PER_TRIAL\n",
        "    \n",
        "    env = gym.make(ENV_NAME_EXPERIMENT)\n",
        "    results = repeated_exec(RUNS_PER_TRIAL, \"qlearn-optuna\", run_qlearning, env, EPISODES_PER_TRIAL, lr=lr, epsilon=eps, gamma=gamma)\n",
        "\n",
        "    # soma dos retornos não-descontado finais (dos últimos 20 episódios)\n",
        "    return np.sum(results[1][:,-20:])"
      ]
    },
    {
      "cell_type": "code",
      "execution_count": null,
      "metadata": {
        "id": "ZTVBjiirtOUP"
      },
      "outputs": [],
      "source": [
        "study = optuna.create_study(direction='maximize',\n",
        "                        storage='sqlite:///optuna_planning.db',\n",
        "                        study_name=f'qlearning_{ENV_NAME_EXPERIMENT}',\n",
        "                        load_if_exists=True)\n",
        "\n",
        "study.optimize(train, n_trials=30)\n",
        "clear_output()\n",
        "\n",
        "print(f\"MELHORES PARÂMETROS PARA {ENV_NAME_EXPERIMENT}:\")\n",
        "print(study.best_params)\n",
        "qlearn_params_taxi = study.best_params"
      ]
    },
    {
      "cell_type": "markdown",
      "metadata": {
        "id": "yJ-IKYWszl8M"
      },
      "source": [
        "### 3.2 - Experimentos Comparativos"
      ]
    },
    {
      "cell_type": "code",
      "execution_count": null,
      "metadata": {
        "id": "jYSG9xiHxBKe"
      },
      "outputs": [],
      "source": [
        "environment = gym.make(ENV_NAME_EXPERIMENT)\n",
        "\n",
        "if ENV_NAME_EXPERIMENT == 'Taxi-v3':\n",
        "    EPISODES = 1000\n",
        "    RUNS  = 5\n",
        "else:\n",
        "    EPISODES = 4_000\n",
        "    RUNS = 3\n",
        "\n",
        "AUTO_LOAD = True\n",
        "\n",
        "results_t = []\n",
        "\n",
        "results_t.append( repeated_exec(RUNS, f\"Q-Learning \", run_qlearning, environment, EPISODES, **qlearn_params_taxi, auto_load=AUTO_LOAD) )\n",
        "clear_output()\n",
        "\n",
        "#plan_steps = 1\n",
        "#results_t.append( repeated_exec(RUNS, f\"Dyna-Q ({plan_steps} passo)\", run_dyna_q, environment, EPISODES, **qlearn_params_taxi, planning_steps=plan_steps, auto_load=AUTO_LOAD) )\n",
        "#clear_output()\n",
        "\n",
        "plan_steps = 10\n",
        "results_t.append( repeated_exec(RUNS, f\"Dyna-Q ({plan_steps} passos)\", run_dyna_q, environment, EPISODES, **qlearn_params_taxi, planning_steps=plan_steps, auto_load=AUTO_LOAD) )\n",
        "clear_output()\n"
      ]
    },
    {
      "cell_type": "code",
      "execution_count": null,
      "metadata": {
        "id": "UgbhKstd8iNB"
      },
      "outputs": [],
      "source": [
        "plot_multiple_results(results_t, cumulative='avg', x_log_scale=False)"
      ]
    },
    {
      "cell_type": "code",
      "execution_count": null,
      "metadata": {
        "id": "yLE-Ehfhzl8N"
      },
      "outputs": [],
      "source": [
        "plot_multiple_results(results_t, cumulative='no', x_log_scale=False, window=100)"
      ]
    },
    {
      "cell_type": "markdown",
      "metadata": {
        "id": "yF9fggfZzFVV"
      },
      "source": [
        "## 4 - Experimentos com \"FrozenLake-v1\""
      ]
    },
    {
      "cell_type": "markdown",
      "metadata": {
        "id": "Le9b63TX2fv6"
      },
      "source": [
        "Nesta seção, vamos fazer experimentos similares aos da seção 3, mas focando no ambiente `FrozenLake`.\n",
        "\n",
        "Este ambiente tem como diferencial o fato de ser **não-determinístico**:\n",
        "- uma ação tem 1/3 de chance de dar o resultado correto\n",
        "- e 1/3 de fazer o agente mover em cada direção perpendicular à desejada.\n",
        "\n",
        "Isso afeta um pouco os resultados, como veremos."
      ]
    },
    {
      "cell_type": "markdown",
      "metadata": {
        "id": "YfDdxxuJzl8O"
      },
      "source": [
        "### 4.1 - Otimizando Parâmetros do Q-Learning"
      ]
    },
    {
      "cell_type": "code",
      "execution_count": null,
      "metadata": {
        "id": "X1dyVqhczl8O"
      },
      "outputs": [],
      "source": [
        "# Ao setar as variáveis abaixo, a função 'train' vai servir para a otimização neste ambiente\n",
        "ENV = gym.make(\"FrozenLake-v1\")\n",
        "RUNS_PER_TRIAL = 7\n",
        "EPISODES_PER_TRIAL = 1_000"
      ]
    },
    {
      "cell_type": "code",
      "execution_count": null,
      "metadata": {
        "id": "wzQXmLPPzl8O"
      },
      "outputs": [],
      "source": [
        "study = optuna.create_study(direction='maximize',\n",
        "                        storage='sqlite:///optuna_planning.db',\n",
        "                        study_name=f'qlearning_frozen',\n",
        "                        load_if_exists=True)\n",
        "\n",
        "study.optimize(train, n_trials=50)\n",
        "clear_output()\n",
        "\n",
        "print(\"MELHORES PARÂMETROS:\")\n",
        "print(study.best_params)\n",
        "qlearn_params_frozen = study.best_params"
      ]
    },
    {
      "cell_type": "markdown",
      "metadata": {
        "id": "0vTgo1ODzl8P"
      },
      "source": [
        "### 4.2 - Experimentos Comparativos"
      ]
    },
    {
      "cell_type": "code",
      "execution_count": null,
      "metadata": {
        "id": "J9g5jvhGzl8P"
      },
      "outputs": [],
      "source": [
        "environment = gym.make(\"FrozenLake-v1\")\n",
        "EPISODES = 7_000\n",
        "RUNS = 20\n",
        "AUTO_LOAD = True\n",
        "\n",
        "results_f = []\n",
        "\n",
        "results_f.append( repeated_exec(RUNS, f\"Q-Learning \", run_qlearning, environment, EPISODES, **qlearn_params_frozen, auto_load=AUTO_LOAD) )\n",
        "clear_output()\n",
        "\n",
        "#plan_steps = 1\n",
        "#results_f.append( repeated_exec(RUNS, f\"Dyna-Q ({plan_steps} passo)\", run_dyna_q, environment, EPISODES, **qlearn_params_frozen, planning_steps=plan_steps, auto_load=AUTO_LOAD) )\n",
        "#clear_output()\n",
        "\n",
        "plan_steps = 5\n",
        "results_f.append( repeated_exec(RUNS, f\"Dyna-Q ({plan_steps} passo)\", run_dyna_q, environment, EPISODES, **qlearn_params_frozen, planning_steps=plan_steps, auto_load=AUTO_LOAD) )\n",
        "clear_output()"
      ]
    },
    {
      "cell_type": "code",
      "execution_count": null,
      "metadata": {
        "id": "s7H6WAj9zl8P"
      },
      "outputs": [],
      "source": [
        "plot_multiple_results(results_f, cumulative='avg', x_log_scale=False)"
      ]
    },
    {
      "cell_type": "code",
      "execution_count": null,
      "metadata": {
        "id": "Yzf8o9ea27Tp"
      },
      "outputs": [],
      "source": [
        "plot_multiple_results(results_f, cumulative='no', x_log_scale=False, window=100)"
      ]
    },
    {
      "cell_type": "markdown",
      "metadata": {
        "id": "NqpKymDJzl8Q"
      },
      "source": [
        "## 5 - Desafio"
      ]
    },
    {
      "cell_type": "markdown",
      "metadata": {
        "id": "K0LpaQbBzl8Q"
      },
      "source": [
        "O Dyna-Q foi bem no ambiente `FrozenLake-v1`?\n",
        "\n",
        "Apesar de variar entre execuções, ele não costuma ser muito bom para quantidades altas de \"passos de planejamento\".\n",
        "\n",
        "**Você acha que isso aconteceu por qual motivo?**\n",
        "\n",
        "Proponha uma modificação simples no *modelo* e no *planejamento* do Dyna-Q para melhorar o desempenho dele nesse ambiente.\n",
        "\n",
        "Depois, refaça os experimentos da seção 4.2 para conferir se deu certo."
      ]
    },
    {
      "cell_type": "code",
      "execution_count": null,
      "metadata": {
        "id": "Rymv-G0Szl8Q"
      },
      "outputs": [],
      "source": [
        "def planning_new(model, planning_steps, Q, lr, gamma):\n",
        "    # altere aqui !!!\n",
        "    pass"
      ]
    },
    {
      "cell_type": "code",
      "execution_count": null,
      "metadata": {
        "id": "I4B7DBrQzl8W"
      },
      "outputs": [],
      "source": [
        "# Algoritmo Dyna Q\n",
        "def run_dyna_q_new(env, episodes, lr=0.1, gamma=0.95, epsilon=0.1, planning_steps=5):\n",
        "    assert isinstance(env.observation_space, gym.spaces.Discrete)\n",
        "    assert isinstance(env.action_space, gym.spaces.Discrete)\n",
        "\n",
        "    num_actions = env.action_space.n\n",
        "\n",
        "   # inicializa a tabela Q\n",
        "    Q = np.zeros(shape=(env.observation_space.n, num_actions))\n",
        "\n",
        "    model = dict({})\n",
        "\n",
        "    # para cada episódio, guarda sua soma de recompensas (retorno não-descontado)\n",
        "    sum_rewards_per_ep = []\n",
        "\n",
        "    # loop principal\n",
        "    for i in range(episodes):\n",
        "        done = False\n",
        "        sum_rewards, reward = 0, 0\n",
        "\n",
        "        state = env.reset()\n",
        "\n",
        "        # executa 1 episódio completo, fazendo atualizações na Q-table\n",
        "        while not done:\n",
        "\n",
        "            # escolhe a próxima ação -- usa epsilon-greedy\n",
        "            action = epsilon_greedy_random_tiebreak(Q, state, epsilon)\n",
        "\n",
        "            # realiza a ação, ou seja, dá um passo no ambiente\n",
        "            next_state, reward, done, _ = env.step(action)\n",
        "\n",
        "            if done:\n",
        "                # para estados terminais\n",
        "                V_next_state = 0\n",
        "                next_state = env.reset()\n",
        "            else:\n",
        "                # para estados não-terminais -- valor máximo (melhor ação)\n",
        "                V_next_state = np.max(Q[next_state])\n",
        "\n",
        "            # atualiza a Q-table / direct RL\n",
        "            delta = (reward + gamma * V_next_state) - Q[state,action]\n",
        "            Q[state,action] = Q[state,action] + lr * delta\n",
        "\n",
        "            # atualiza o modelo\n",
        "            # ALTERE AQUI !!!\n",
        "\n",
        "            # planejamento / indirect RL\n",
        "            planning_new(model, planning_steps, Q, lr, gamma)\n",
        "\n",
        "            sum_rewards += reward\n",
        "            state = next_state\n",
        "\n",
        "        sum_rewards_per_ep.append(sum_rewards)\n",
        "\n",
        "        # a cada 1000 passos, imprime informação sobre o progresso\n",
        "        if VERBOSE and ((i+1) % 1000 == 0):\n",
        "            avg_reward = np.mean(sum_rewards_per_ep[-100:])\n",
        "            print(f\"Step {i+1} Average Reward (last 100): {avg_reward:.3f}\")\n",
        "\n",
        "    state = env.reset()\n",
        "    reward = 0\n",
        "\n",
        "    return sum_rewards_per_ep, Q"
      ]
    },
    {
      "cell_type": "code",
      "execution_count": null,
      "metadata": {
        "id": "7w8GPbGNzl8Y"
      },
      "outputs": [],
      "source": []
    }
  ],
  "metadata": {
    "accelerator": "TPU",
    "colab": {
      "name": "cap06-main-1.ipynb",
      "provenance": []
    },
    "gpuClass": "standard",
    "kernelspec": {
      "display_name": "Python 3.9.13 ('rlx')",
      "language": "python",
      "name": "python3"
    },
    "language_info": {
      "codemirror_mode": {
        "name": "ipython",
        "version": 3
      },
      "file_extension": ".py",
      "mimetype": "text/x-python",
      "name": "python",
      "nbconvert_exporter": "python",
      "pygments_lexer": "ipython3",
      "version": "3.10.13"
    },
    "vscode": {
      "interpreter": {
        "hash": "27dbc9ce4cc602e4f15257b7b0018d8dff5b9ce9a7d73bc4399cb5afb1e02c4a"
      }
    }
  },
  "nbformat": 4,
  "nbformat_minor": 0
}
