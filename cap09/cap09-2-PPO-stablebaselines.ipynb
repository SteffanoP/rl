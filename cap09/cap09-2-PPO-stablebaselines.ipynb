{
  "cells": [
    {
      "cell_type": "markdown",
      "metadata": {
        "id": "hyyN-2qyK_T2"
      },
      "source": [
        "# PPO com Stable Baselines3\n",
        "\n",
        "[![Open In Colab](https://colab.research.google.com/assets/colab-badge.svg)](https://colab.research.google.com/github/pablo-sampaio/rl_facil/blob/main/cap09/cap09-2-PPO-stablebaselines.ipynb)\n",
        "\n",
        "Vamos usar o algoritmo **PPO** (*Proximal Policy Optimization*) neste Google Colab.\n",
        "\n",
        "Referências:\n",
        "- Stable-Baselines3: https://github.com/DLR-RM/stable-baselines3\n",
        "- Documentação: https://stable-baselines3.readthedocs.io/en/master/index.html\n"
      ]
    },
    {
      "cell_type": "markdown",
      "metadata": {
        "id": "xVm9QPNVwKXN"
      },
      "source": [
        "## 1 - Configurações necessárias"
      ]
    },
    {
      "cell_type": "markdown",
      "metadata": {
        "id": "thRA4CT9kH4G"
      },
      "source": [
        "### 1.1 Instalação de pacotes"
      ]
    },
    {
      "cell_type": "code",
      "execution_count": 40,
      "metadata": {
        "id": "gWskDE2c9WoN"
      },
      "outputs": [],
      "source": [
        "import sys\n",
        "from IPython.display import clear_output\n",
        "\n",
        "IN_COLAB = 'google.colab' in sys.modules\n",
        "\n",
        "if IN_COLAB:\n",
        "    !apt-get install ffmpeg freeglut3-dev xvfb  # For visualization\n",
        "    !pip install \"stable-baselines3[extra]==2.0.0\"\n",
        "    !pip install swig\n",
        "    !pip install gymnasium[box2d]   # works with gymnasium version 0.28.1\n",
        "    !pip install gymnasium[atari,accept-rom-license]\n",
        "    #clear_output()"
      ]
    },
    {
      "cell_type": "code",
      "execution_count": 41,
      "metadata": {
        "id": "lRWPtPCsKiRI"
      },
      "outputs": [
        {
          "name": "stderr",
          "output_type": "stream",
          "text": [
            "J� existe uma subpasta ou um arquivo log_dir.\n"
          ]
        }
      ],
      "source": [
        "!mkdir log_dir"
      ]
    },
    {
      "cell_type": "markdown",
      "metadata": {
        "id": "pLlWktrRj9GZ"
      },
      "source": [
        "### 1.2 Para salvar vídeo"
      ]
    },
    {
      "cell_type": "markdown",
      "metadata": {
        "id": "m7Rmi1TTvBQk"
      },
      "source": [
        "*Atenção*: Reinicie o ambiente de execução antes de continuar."
      ]
    },
    {
      "cell_type": "code",
      "execution_count": 42,
      "metadata": {
        "id": "MPyfQxD5z26J"
      },
      "outputs": [],
      "source": [
        "if IN_COLAB:\n",
        "    # Set up fake display; otherwise rendering will fail\n",
        "    import os\n",
        "    os.system(\"Xvfb :1 -screen 0 1024x768x24 &\")\n",
        "    os.environ['DISPLAY'] = ':1'"
      ]
    },
    {
      "cell_type": "markdown",
      "metadata": {
        "id": "LTRNUfulOGaF"
      },
      "source": [
        "A gravação é feita com o wrapper [VecVideoRecorder](https://stable-baselines.readthedocs.io/en/master/guide/vec_envs.html#vecvideorecorder)."
      ]
    },
    {
      "cell_type": "code",
      "execution_count": 43,
      "metadata": {
        "id": "Trag9dQpOIhx"
      },
      "outputs": [],
      "source": [
        "from stable_baselines3.common.vec_env import VecVideoRecorder, DummyVecEnv\n",
        "\n",
        "def record_video(env_id, model, video_length=500, prefix='', video_folder='videos/'):\n",
        "  \"\"\"\n",
        "  :param env_id: (str)\n",
        "  :param model: (RL model)\n",
        "  :param video_length: (int)\n",
        "  :param prefix: (str)\n",
        "  :param video_folder: (str)\n",
        "  \"\"\"\n",
        "  eval_env = DummyVecEnv([lambda: gym.make(env_id, render_mode=\"rgb_array\")])\n",
        "  # Start the video at step=0 and record the given number of steps\n",
        "  eval_env = VecVideoRecorder(eval_env, video_folder=video_folder,\n",
        "                              record_video_trigger=lambda step: step == 0, video_length=video_length,\n",
        "                              name_prefix=prefix)\n",
        "\n",
        "  obs = eval_env.reset()\n",
        "  for _ in range(video_length):\n",
        "    action, _ = model.predict(obs)\n",
        "    obs, _, _, _ = eval_env.step(action)\n",
        "\n",
        "  # Close the video recorder\n",
        "  eval_env.close()"
      ]
    },
    {
      "cell_type": "code",
      "execution_count": 44,
      "metadata": {
        "id": "SLzXxO8VMD6N"
      },
      "outputs": [],
      "source": [
        "import base64\n",
        "from pathlib import Path\n",
        "\n",
        "from IPython import display as ipythondisplay\n",
        "\n",
        "def show_videos(video_path='', prefix=''):\n",
        "  \"\"\"\n",
        "  Taken from https://github.com/eleurent/highway-env\n",
        "\n",
        "  :param video_path: (str) Path to the folder containing videos\n",
        "  :param prefix: (str) Filter the video, showing only the only starting with this prefix\n",
        "  \"\"\"\n",
        "  html = []\n",
        "  for mp4 in Path(video_path).glob(\"{}*.mp4\".format(prefix)):\n",
        "      video_b64 = base64.b64encode(mp4.read_bytes())\n",
        "      html.append('''<video alt=\"{}\" autoplay\n",
        "                    loop controls style=\"height: 400px;\">\n",
        "                    <source src=\"data:video/mp4;base64,{}\" type=\"video/mp4\" />\n",
        "                </video>'''.format(mp4, video_b64.decode('ascii')))\n",
        "  ipythondisplay.display(ipythondisplay.HTML(data=\"<br>\".join(html)))"
      ]
    },
    {
      "cell_type": "markdown",
      "metadata": {
        "id": "FtY8FhliLsGm"
      },
      "source": [
        "### 1.3 Imports"
      ]
    },
    {
      "cell_type": "code",
      "execution_count": 45,
      "metadata": {
        "id": "BIedd7Pz9sOs"
      },
      "outputs": [
        {
          "name": "stdout",
          "output_type": "stream",
          "text": [
            "The tensorboard extension is already loaded. To reload it, use:\n",
            "  %reload_ext tensorboard\n"
          ]
        },
        {
          "data": {
            "text/plain": [
              "'2.1.0'"
            ]
          },
          "execution_count": 45,
          "metadata": {},
          "output_type": "execute_result"
        }
      ],
      "source": [
        "import gymnasium as gym\n",
        "import numpy as np\n",
        "import tensorboard\n",
        "\n",
        "%load_ext tensorboard\n",
        "\n",
        "import stable_baselines3\n",
        "stable_baselines3.__version__"
      ]
    },
    {
      "cell_type": "markdown",
      "metadata": {
        "id": "JmKML-NNXibO"
      },
      "source": [
        "Abaixo, importamos a classe que representa o algoritmo **PPO** e diversas funções auxiliares."
      ]
    },
    {
      "cell_type": "code",
      "execution_count": 46,
      "metadata": {
        "id": "wgAXxClR0BfH"
      },
      "outputs": [],
      "source": [
        "from stable_baselines3 import PPO\n",
        "from stable_baselines3.common.evaluation import evaluate_policy\n",
        "\n",
        "# para treinar com ambientes Atari\n",
        "from stable_baselines3.common.env_util import make_atari_env\n",
        "from stable_baselines3.common.vec_env import VecFrameStack"
      ]
    },
    {
      "cell_type": "markdown",
      "metadata": {
        "id": "-0_8OQbOTTNT"
      },
      "source": [
        "Abaixo, importamos a classe que vai representar a **rede neural da política**. No caso, importamos uma rede com camadas totalmente conectadas (MLP) e uma rede convolucional (CNN), com arquiteturas (camadas, etc) pré-definidas."
      ]
    },
    {
      "cell_type": "code",
      "execution_count": 47,
      "metadata": {
        "id": "ROUJr675TT01"
      },
      "outputs": [],
      "source": [
        "from stable_baselines3.ppo import MlpPolicy, CnnPolicy"
      ]
    },
    {
      "cell_type": "markdown",
      "metadata": {
        "id": "RapkYvTXL7Cd"
      },
      "source": [
        "## 2 - Cria o ambiente e instancia o agente"
      ]
    },
    {
      "cell_type": "markdown",
      "metadata": {
        "id": "V0wyWYEKa5xo"
      },
      "source": [
        "Estamos criando o ambiente e passando para a classe **PPO**, que permite testar ou treinar o agente.\n",
        "\n",
        "Abaixo, criamos o PPO com os valores default dos seus parâmetros mais importantes. Definimos apenas estes:\n",
        "- `MlpPolicy`, para usar uma MLP com arquitetura pré-definida; para personalizar a arquitetura [veja aqui](https://stable-baselines3.readthedocs.io/en/master/guide/custom_policy.html)\n",
        "- `tensorboard_log`, que indica o diretório dos logs\n",
        "- `verbose=0` para evitar mostrar muitas mensagens.\n",
        "- para mais informações, veja [a documentação](https://stable-baselines3.readthedocs.io/en/master/modules/ppo.html)\n",
        "\n"
      ]
    },
    {
      "cell_type": "code",
      "execution_count": 48,
      "metadata": {
        "id": "pUWGZp3i9wyf"
      },
      "outputs": [
        {
          "ename": "DependencyNotInstalled",
          "evalue": "Box2D is not installed, run `pip install gymnasium[box2d]`",
          "output_type": "error",
          "traceback": [
            "\u001b[1;31m---------------------------------------------------------------------------\u001b[0m",
            "\u001b[1;31mModuleNotFoundError\u001b[0m                       Traceback (most recent call last)",
            "File \u001b[1;32mc:\\Users\\pablo\\.conda\\envs\\rl23x\\lib\\site-packages\\gymnasium\\envs\\box2d\\bipedal_walker.py:15\u001b[0m\n\u001b[0;32m     14\u001b[0m \u001b[39mtry\u001b[39;00m:\n\u001b[1;32m---> 15\u001b[0m     \u001b[39mimport\u001b[39;00m \u001b[39mBox2D\u001b[39;00m\n\u001b[0;32m     16\u001b[0m     \u001b[39mfrom\u001b[39;00m \u001b[39mBox2D\u001b[39;00m\u001b[39m.\u001b[39;00m\u001b[39mb2\u001b[39;00m \u001b[39mimport\u001b[39;00m (\n\u001b[0;32m     17\u001b[0m         circleShape,\n\u001b[0;32m     18\u001b[0m         contactListener,\n\u001b[1;32m   (...)\u001b[0m\n\u001b[0;32m     22\u001b[0m         revoluteJointDef,\n\u001b[0;32m     23\u001b[0m     )\n",
            "\u001b[1;31mModuleNotFoundError\u001b[0m: No module named 'Box2D'",
            "\nThe above exception was the direct cause of the following exception:\n",
            "\u001b[1;31mDependencyNotInstalled\u001b[0m                    Traceback (most recent call last)",
            "\u001b[1;32mc:\\Users\\pablo\\Documents\\Projetos\\pablo-sampaio\\rl_facil\\cap09\\cap09-2-PPO-stablebaselines.ipynb Cell 20\u001b[0m line \u001b[0;36m5\n\u001b[0;32m      <a href='vscode-notebook-cell:/c%3A/Users/pablo/Documents/Projetos/pablo-sampaio/rl_facil/cap09/cap09-2-PPO-stablebaselines.ipynb#X25sZmlsZQ%3D%3D?line=1'>2</a>\u001b[0m ENV_NAME \u001b[39m=\u001b[39m \u001b[39m\"\u001b[39m\u001b[39mLunarLander-v2\u001b[39m\u001b[39m\"\u001b[39m\n\u001b[0;32m      <a href='vscode-notebook-cell:/c%3A/Users/pablo/Documents/Projetos/pablo-sampaio/rl_facil/cap09/cap09-2-PPO-stablebaselines.ipynb#X25sZmlsZQ%3D%3D?line=2'>3</a>\u001b[0m \u001b[39m#ENV_NAME = \"BipedalWalker-v3\"\u001b[39;00m\n\u001b[1;32m----> <a href='vscode-notebook-cell:/c%3A/Users/pablo/Documents/Projetos/pablo-sampaio/rl_facil/cap09/cap09-2-PPO-stablebaselines.ipynb#X25sZmlsZQ%3D%3D?line=4'>5</a>\u001b[0m env \u001b[39m=\u001b[39m gym\u001b[39m.\u001b[39;49mmake(ENV_NAME)\n\u001b[0;32m      <a href='vscode-notebook-cell:/c%3A/Users/pablo/Documents/Projetos/pablo-sampaio/rl_facil/cap09/cap09-2-PPO-stablebaselines.ipynb#X25sZmlsZQ%3D%3D?line=6'>7</a>\u001b[0m model \u001b[39m=\u001b[39m PPO(MlpPolicy, env, tensorboard_log\u001b[39m=\u001b[39m\u001b[39m\"\u001b[39m\u001b[39mlog_dir\u001b[39m\u001b[39m\"\u001b[39m, verbose\u001b[39m=\u001b[39m\u001b[39m0\u001b[39m)\n",
            "File \u001b[1;32mc:\\Users\\pablo\\.conda\\envs\\rl23x\\lib\\site-packages\\gymnasium\\envs\\registration.py:755\u001b[0m, in \u001b[0;36mmake\u001b[1;34m(id, max_episode_steps, autoreset, apply_api_compatibility, disable_env_checker, **kwargs)\u001b[0m\n\u001b[0;32m    752\u001b[0m     env_creator \u001b[39m=\u001b[39m env_spec\u001b[39m.\u001b[39mentry_point\n\u001b[0;32m    753\u001b[0m \u001b[39melse\u001b[39;00m:\n\u001b[0;32m    754\u001b[0m     \u001b[39m# Assume it's a string\u001b[39;00m\n\u001b[1;32m--> 755\u001b[0m     env_creator \u001b[39m=\u001b[39m load_env_creator(env_spec\u001b[39m.\u001b[39;49mentry_point)\n\u001b[0;32m    757\u001b[0m \u001b[39m# Determine if to use the rendering\u001b[39;00m\n\u001b[0;32m    758\u001b[0m render_modes: \u001b[39mlist\u001b[39m[\u001b[39mstr\u001b[39m] \u001b[39m|\u001b[39m \u001b[39mNone\u001b[39;00m \u001b[39m=\u001b[39m \u001b[39mNone\u001b[39;00m\n",
            "File \u001b[1;32mc:\\Users\\pablo\\.conda\\envs\\rl23x\\lib\\site-packages\\gymnasium\\envs\\registration.py:553\u001b[0m, in \u001b[0;36mload_env_creator\u001b[1;34m(name)\u001b[0m\n\u001b[0;32m    544\u001b[0m \u001b[39m\u001b[39m\u001b[39m\"\"\"Loads an environment with name of style ``\"(import path):(environment name)\"`` and returns the environment creation function, normally the environment class type.\u001b[39;00m\n\u001b[0;32m    545\u001b[0m \n\u001b[0;32m    546\u001b[0m \u001b[39mArgs:\u001b[39;00m\n\u001b[1;32m   (...)\u001b[0m\n\u001b[0;32m    550\u001b[0m \u001b[39m    The environment constructor for the given environment name.\u001b[39;00m\n\u001b[0;32m    551\u001b[0m \u001b[39m\"\"\"\u001b[39;00m\n\u001b[0;32m    552\u001b[0m mod_name, attr_name \u001b[39m=\u001b[39m name\u001b[39m.\u001b[39msplit(\u001b[39m\"\u001b[39m\u001b[39m:\u001b[39m\u001b[39m\"\u001b[39m)\n\u001b[1;32m--> 553\u001b[0m mod \u001b[39m=\u001b[39m importlib\u001b[39m.\u001b[39;49mimport_module(mod_name)\n\u001b[0;32m    554\u001b[0m fn \u001b[39m=\u001b[39m \u001b[39mgetattr\u001b[39m(mod, attr_name)\n\u001b[0;32m    555\u001b[0m \u001b[39mreturn\u001b[39;00m fn\n",
            "File \u001b[1;32mc:\\Users\\pablo\\.conda\\envs\\rl23x\\lib\\importlib\\__init__.py:126\u001b[0m, in \u001b[0;36mimport_module\u001b[1;34m(name, package)\u001b[0m\n\u001b[0;32m    124\u001b[0m             \u001b[39mbreak\u001b[39;00m\n\u001b[0;32m    125\u001b[0m         level \u001b[39m+\u001b[39m\u001b[39m=\u001b[39m \u001b[39m1\u001b[39m\n\u001b[1;32m--> 126\u001b[0m \u001b[39mreturn\u001b[39;00m _bootstrap\u001b[39m.\u001b[39;49m_gcd_import(name[level:], package, level)\n",
            "File \u001b[1;32m<frozen importlib._bootstrap>:1050\u001b[0m, in \u001b[0;36m_gcd_import\u001b[1;34m(name, package, level)\u001b[0m\n",
            "File \u001b[1;32m<frozen importlib._bootstrap>:1027\u001b[0m, in \u001b[0;36m_find_and_load\u001b[1;34m(name, import_)\u001b[0m\n",
            "File \u001b[1;32m<frozen importlib._bootstrap>:992\u001b[0m, in \u001b[0;36m_find_and_load_unlocked\u001b[1;34m(name, import_)\u001b[0m\n",
            "File \u001b[1;32m<frozen importlib._bootstrap>:241\u001b[0m, in \u001b[0;36m_call_with_frames_removed\u001b[1;34m(f, *args, **kwds)\u001b[0m\n",
            "File \u001b[1;32m<frozen importlib._bootstrap>:1050\u001b[0m, in \u001b[0;36m_gcd_import\u001b[1;34m(name, package, level)\u001b[0m\n",
            "File \u001b[1;32m<frozen importlib._bootstrap>:1027\u001b[0m, in \u001b[0;36m_find_and_load\u001b[1;34m(name, import_)\u001b[0m\n",
            "File \u001b[1;32m<frozen importlib._bootstrap>:1006\u001b[0m, in \u001b[0;36m_find_and_load_unlocked\u001b[1;34m(name, import_)\u001b[0m\n",
            "File \u001b[1;32m<frozen importlib._bootstrap>:688\u001b[0m, in \u001b[0;36m_load_unlocked\u001b[1;34m(spec)\u001b[0m\n",
            "File \u001b[1;32m<frozen importlib._bootstrap_external>:883\u001b[0m, in \u001b[0;36mexec_module\u001b[1;34m(self, module)\u001b[0m\n",
            "File \u001b[1;32m<frozen importlib._bootstrap>:241\u001b[0m, in \u001b[0;36m_call_with_frames_removed\u001b[1;34m(f, *args, **kwds)\u001b[0m\n",
            "File \u001b[1;32mc:\\Users\\pablo\\.conda\\envs\\rl23x\\lib\\site-packages\\gymnasium\\envs\\box2d\\__init__.py:1\u001b[0m\n\u001b[1;32m----> 1\u001b[0m \u001b[39mfrom\u001b[39;00m \u001b[39mgymnasium\u001b[39;00m\u001b[39m.\u001b[39;00m\u001b[39menvs\u001b[39;00m\u001b[39m.\u001b[39;00m\u001b[39mbox2d\u001b[39;00m\u001b[39m.\u001b[39;00m\u001b[39mbipedal_walker\u001b[39;00m \u001b[39mimport\u001b[39;00m BipedalWalker, BipedalWalkerHardcore\n\u001b[0;32m      2\u001b[0m \u001b[39mfrom\u001b[39;00m \u001b[39mgymnasium\u001b[39;00m\u001b[39m.\u001b[39;00m\u001b[39menvs\u001b[39;00m\u001b[39m.\u001b[39;00m\u001b[39mbox2d\u001b[39;00m\u001b[39m.\u001b[39;00m\u001b[39mcar_racing\u001b[39;00m \u001b[39mimport\u001b[39;00m CarRacing\n\u001b[0;32m      3\u001b[0m \u001b[39mfrom\u001b[39;00m \u001b[39mgymnasium\u001b[39;00m\u001b[39m.\u001b[39;00m\u001b[39menvs\u001b[39;00m\u001b[39m.\u001b[39;00m\u001b[39mbox2d\u001b[39;00m\u001b[39m.\u001b[39;00m\u001b[39mlunar_lander\u001b[39;00m \u001b[39mimport\u001b[39;00m LunarLander, LunarLanderContinuous\n",
            "File \u001b[1;32mc:\\Users\\pablo\\.conda\\envs\\rl23x\\lib\\site-packages\\gymnasium\\envs\\box2d\\bipedal_walker.py:25\u001b[0m\n\u001b[0;32m     16\u001b[0m     \u001b[39mfrom\u001b[39;00m \u001b[39mBox2D\u001b[39;00m\u001b[39m.\u001b[39;00m\u001b[39mb2\u001b[39;00m \u001b[39mimport\u001b[39;00m (\n\u001b[0;32m     17\u001b[0m         circleShape,\n\u001b[0;32m     18\u001b[0m         contactListener,\n\u001b[1;32m   (...)\u001b[0m\n\u001b[0;32m     22\u001b[0m         revoluteJointDef,\n\u001b[0;32m     23\u001b[0m     )\n\u001b[0;32m     24\u001b[0m \u001b[39mexcept\u001b[39;00m \u001b[39mImportError\u001b[39;00m \u001b[39mas\u001b[39;00m e:\n\u001b[1;32m---> 25\u001b[0m     \u001b[39mraise\u001b[39;00m DependencyNotInstalled(\n\u001b[0;32m     26\u001b[0m         \u001b[39m\"\u001b[39m\u001b[39mBox2D is not installed, run `pip install gymnasium[box2d]`\u001b[39m\u001b[39m\"\u001b[39m\n\u001b[0;32m     27\u001b[0m     ) \u001b[39mfrom\u001b[39;00m \u001b[39me\u001b[39;00m\n\u001b[0;32m     30\u001b[0m \u001b[39mif\u001b[39;00m TYPE_CHECKING:\n\u001b[0;32m     31\u001b[0m     \u001b[39mimport\u001b[39;00m \u001b[39mpygame\u001b[39;00m\n",
            "\u001b[1;31mDependencyNotInstalled\u001b[0m: Box2D is not installed, run `pip install gymnasium[box2d]`"
          ]
        }
      ],
      "source": [
        "# escolha um ID de ambiente do gymnasium\n",
        "ENV_NAME = \"LunarLander-v2\"\n",
        "#ENV_NAME = \"BipedalWalker-v3\"\n",
        "\n",
        "env = gym.make(ENV_NAME)\n",
        "\n",
        "model = PPO(MlpPolicy, env, tensorboard_log=\"log_dir\", verbose=0)"
      ]
    },
    {
      "cell_type": "markdown",
      "metadata": {
        "id": "rAM4wBawmNex"
      },
      "source": [
        "Para rodar com **jogos de Atari**, descomente o código abaixo.\n",
        "\n",
        "*Observação*: Talvez você não consiga usar a função para gerar os vídeos."
      ]
    },
    {
      "cell_type": "code",
      "execution_count": 49,
      "metadata": {
        "id": "8Wdw9LzwaFeN"
      },
      "outputs": [
        {
          "ename": "NameNotFound",
          "evalue": "Environment `PongNoFrameskip` doesn't exist.",
          "output_type": "error",
          "traceback": [
            "\u001b[1;31m---------------------------------------------------------------------------\u001b[0m",
            "\u001b[1;31mNameNotFound\u001b[0m                              Traceback (most recent call last)",
            "\u001b[1;32mc:\\Users\\pablo\\Documents\\Projetos\\pablo-sampaio\\rl_facil\\cap09\\cap09-2-PPO-stablebaselines.ipynb Cell 22\u001b[0m line \u001b[0;36m7\n\u001b[0;32m      <a href='vscode-notebook-cell:/c%3A/Users/pablo/Documents/Projetos/pablo-sampaio/rl_facil/cap09/cap09-2-PPO-stablebaselines.ipynb#X30sZmlsZQ%3D%3D?line=3'>4</a>\u001b[0m ENV_NAME \u001b[39m=\u001b[39m \u001b[39m'\u001b[39m\u001b[39mPongNoFrameskip-v4\u001b[39m\u001b[39m'\u001b[39m \u001b[39m#'ALE/Pong-v5' \u001b[39;00m\n\u001b[0;32m      <a href='vscode-notebook-cell:/c%3A/Users/pablo/Documents/Projetos/pablo-sampaio/rl_facil/cap09/cap09-2-PPO-stablebaselines.ipynb#X30sZmlsZQ%3D%3D?line=5'>6</a>\u001b[0m \u001b[39m# Esta função cria o ambiente, junto com wrappers especializados\u001b[39;00m\n\u001b[1;32m----> <a href='vscode-notebook-cell:/c%3A/Users/pablo/Documents/Projetos/pablo-sampaio/rl_facil/cap09/cap09-2-PPO-stablebaselines.ipynb#X30sZmlsZQ%3D%3D?line=6'>7</a>\u001b[0m env \u001b[39m=\u001b[39m make_atari_env(ENV_NAME, n_envs\u001b[39m=\u001b[39;49m\u001b[39m4\u001b[39;49m, seed\u001b[39m=\u001b[39;49m\u001b[39m0\u001b[39;49m)\n\u001b[0;32m      <a href='vscode-notebook-cell:/c%3A/Users/pablo/Documents/Projetos/pablo-sampaio/rl_facil/cap09/cap09-2-PPO-stablebaselines.ipynb#X30sZmlsZQ%3D%3D?line=8'>9</a>\u001b[0m \u001b[39m# Wrapper para fazer cada estado ser uma \"pilha\" de 4 frames\u001b[39;00m\n\u001b[0;32m     <a href='vscode-notebook-cell:/c%3A/Users/pablo/Documents/Projetos/pablo-sampaio/rl_facil/cap09/cap09-2-PPO-stablebaselines.ipynb#X30sZmlsZQ%3D%3D?line=9'>10</a>\u001b[0m env \u001b[39m=\u001b[39m VecFrameStack(env, n_stack\u001b[39m=\u001b[39m\u001b[39m4\u001b[39m)\n",
            "File \u001b[1;32mc:\\Users\\pablo\\.conda\\envs\\rl23x\\lib\\site-packages\\stable_baselines3\\common\\env_util.py:161\u001b[0m, in \u001b[0;36mmake_atari_env\u001b[1;34m(env_id, n_envs, seed, start_index, monitor_dir, wrapper_kwargs, env_kwargs, vec_env_cls, vec_env_kwargs, monitor_kwargs)\u001b[0m\n\u001b[0;32m    131\u001b[0m \u001b[39mdef\u001b[39;00m \u001b[39mmake_atari_env\u001b[39m(\n\u001b[0;32m    132\u001b[0m     env_id: Union[\u001b[39mstr\u001b[39m, Callable[\u001b[39m.\u001b[39m\u001b[39m.\u001b[39m\u001b[39m.\u001b[39m, gym\u001b[39m.\u001b[39mEnv]],\n\u001b[0;32m    133\u001b[0m     n_envs: \u001b[39mint\u001b[39m \u001b[39m=\u001b[39m \u001b[39m1\u001b[39m,\n\u001b[1;32m   (...)\u001b[0m\n\u001b[0;32m    141\u001b[0m     monitor_kwargs: Optional[Dict[\u001b[39mstr\u001b[39m, Any]] \u001b[39m=\u001b[39m \u001b[39mNone\u001b[39;00m,\n\u001b[0;32m    142\u001b[0m ) \u001b[39m-\u001b[39m\u001b[39m>\u001b[39m VecEnv:\n\u001b[0;32m    143\u001b[0m \u001b[39m    \u001b[39m\u001b[39m\"\"\"\u001b[39;00m\n\u001b[0;32m    144\u001b[0m \u001b[39m    Create a wrapped, monitored VecEnv for Atari.\u001b[39;00m\n\u001b[0;32m    145\u001b[0m \u001b[39m    It is a wrapper around ``make_vec_env`` that includes common preprocessing for Atari games.\u001b[39;00m\n\u001b[1;32m   (...)\u001b[0m\n\u001b[0;32m    159\u001b[0m \u001b[39m    :return: The wrapped environment\u001b[39;00m\n\u001b[0;32m    160\u001b[0m \u001b[39m    \"\"\"\u001b[39;00m\n\u001b[1;32m--> 161\u001b[0m     \u001b[39mreturn\u001b[39;00m make_vec_env(\n\u001b[0;32m    162\u001b[0m         env_id,\n\u001b[0;32m    163\u001b[0m         n_envs\u001b[39m=\u001b[39;49mn_envs,\n\u001b[0;32m    164\u001b[0m         seed\u001b[39m=\u001b[39;49mseed,\n\u001b[0;32m    165\u001b[0m         start_index\u001b[39m=\u001b[39;49mstart_index,\n\u001b[0;32m    166\u001b[0m         monitor_dir\u001b[39m=\u001b[39;49mmonitor_dir,\n\u001b[0;32m    167\u001b[0m         wrapper_class\u001b[39m=\u001b[39;49mAtariWrapper,\n\u001b[0;32m    168\u001b[0m         env_kwargs\u001b[39m=\u001b[39;49menv_kwargs,\n\u001b[0;32m    169\u001b[0m         vec_env_cls\u001b[39m=\u001b[39;49mvec_env_cls,\n\u001b[0;32m    170\u001b[0m         vec_env_kwargs\u001b[39m=\u001b[39;49mvec_env_kwargs,\n\u001b[0;32m    171\u001b[0m         monitor_kwargs\u001b[39m=\u001b[39;49mmonitor_kwargs,\n\u001b[0;32m    172\u001b[0m         wrapper_kwargs\u001b[39m=\u001b[39;49mwrapper_kwargs,\n\u001b[0;32m    173\u001b[0m     )\n",
            "File \u001b[1;32mc:\\Users\\pablo\\.conda\\envs\\rl23x\\lib\\site-packages\\stable_baselines3\\common\\env_util.py:125\u001b[0m, in \u001b[0;36mmake_vec_env\u001b[1;34m(env_id, n_envs, seed, start_index, monitor_dir, wrapper_class, env_kwargs, vec_env_cls, vec_env_kwargs, monitor_kwargs, wrapper_kwargs)\u001b[0m\n\u001b[0;32m    121\u001b[0m \u001b[39mif\u001b[39;00m vec_env_cls \u001b[39mis\u001b[39;00m \u001b[39mNone\u001b[39;00m:\n\u001b[0;32m    122\u001b[0m     \u001b[39m# Default: use a DummyVecEnv\u001b[39;00m\n\u001b[0;32m    123\u001b[0m     vec_env_cls \u001b[39m=\u001b[39m DummyVecEnv\n\u001b[1;32m--> 125\u001b[0m vec_env \u001b[39m=\u001b[39m vec_env_cls([make_env(i \u001b[39m+\u001b[39m start_index) \u001b[39mfor\u001b[39;00m i \u001b[39min\u001b[39;00m \u001b[39mrange\u001b[39m(n_envs)], \u001b[39m*\u001b[39m\u001b[39m*\u001b[39mvec_env_kwargs)\n\u001b[0;32m    126\u001b[0m \u001b[39m# Prepare the seeds for the first reset\u001b[39;00m\n\u001b[0;32m    127\u001b[0m vec_env\u001b[39m.\u001b[39mseed(seed)\n",
            "File \u001b[1;32mc:\\Users\\pablo\\.conda\\envs\\rl23x\\lib\\site-packages\\stable_baselines3\\common\\vec_env\\dummy_vec_env.py:30\u001b[0m, in \u001b[0;36mDummyVecEnv.__init__\u001b[1;34m(self, env_fns)\u001b[0m\n\u001b[0;32m     29\u001b[0m \u001b[39mdef\u001b[39;00m \u001b[39m__init__\u001b[39m(\u001b[39mself\u001b[39m, env_fns: List[Callable[[], gym\u001b[39m.\u001b[39mEnv]]):\n\u001b[1;32m---> 30\u001b[0m     \u001b[39mself\u001b[39m\u001b[39m.\u001b[39menvs \u001b[39m=\u001b[39m [_patch_env(fn()) \u001b[39mfor\u001b[39;00m fn \u001b[39min\u001b[39;00m env_fns]\n\u001b[0;32m     31\u001b[0m     \u001b[39mif\u001b[39;00m \u001b[39mlen\u001b[39m(\u001b[39mset\u001b[39m([\u001b[39mid\u001b[39m(env\u001b[39m.\u001b[39munwrapped) \u001b[39mfor\u001b[39;00m env \u001b[39min\u001b[39;00m \u001b[39mself\u001b[39m\u001b[39m.\u001b[39menvs])) \u001b[39m!=\u001b[39m \u001b[39mlen\u001b[39m(\u001b[39mself\u001b[39m\u001b[39m.\u001b[39menvs):\n\u001b[0;32m     32\u001b[0m         \u001b[39mraise\u001b[39;00m \u001b[39mValueError\u001b[39;00m(\n\u001b[0;32m     33\u001b[0m             \u001b[39m\"\u001b[39m\u001b[39mYou tried to create multiple environments, but the function to create them returned the same instance \u001b[39m\u001b[39m\"\u001b[39m\n\u001b[0;32m     34\u001b[0m             \u001b[39m\"\u001b[39m\u001b[39minstead of creating different objects. \u001b[39m\u001b[39m\"\u001b[39m\n\u001b[1;32m   (...)\u001b[0m\n\u001b[0;32m     39\u001b[0m             \u001b[39m\"\u001b[39m\u001b[39mPlease read https://github.com/DLR-RM/stable-baselines3/issues/1151 for more information.\u001b[39m\u001b[39m\"\u001b[39m\n\u001b[0;32m     40\u001b[0m         )\n",
            "File \u001b[1;32mc:\\Users\\pablo\\.conda\\envs\\rl23x\\lib\\site-packages\\stable_baselines3\\common\\vec_env\\dummy_vec_env.py:30\u001b[0m, in \u001b[0;36m<listcomp>\u001b[1;34m(.0)\u001b[0m\n\u001b[0;32m     29\u001b[0m \u001b[39mdef\u001b[39;00m \u001b[39m__init__\u001b[39m(\u001b[39mself\u001b[39m, env_fns: List[Callable[[], gym\u001b[39m.\u001b[39mEnv]]):\n\u001b[1;32m---> 30\u001b[0m     \u001b[39mself\u001b[39m\u001b[39m.\u001b[39menvs \u001b[39m=\u001b[39m [_patch_env(fn()) \u001b[39mfor\u001b[39;00m fn \u001b[39min\u001b[39;00m env_fns]\n\u001b[0;32m     31\u001b[0m     \u001b[39mif\u001b[39;00m \u001b[39mlen\u001b[39m(\u001b[39mset\u001b[39m([\u001b[39mid\u001b[39m(env\u001b[39m.\u001b[39munwrapped) \u001b[39mfor\u001b[39;00m env \u001b[39min\u001b[39;00m \u001b[39mself\u001b[39m\u001b[39m.\u001b[39menvs])) \u001b[39m!=\u001b[39m \u001b[39mlen\u001b[39m(\u001b[39mself\u001b[39m\u001b[39m.\u001b[39menvs):\n\u001b[0;32m     32\u001b[0m         \u001b[39mraise\u001b[39;00m \u001b[39mValueError\u001b[39;00m(\n\u001b[0;32m     33\u001b[0m             \u001b[39m\"\u001b[39m\u001b[39mYou tried to create multiple environments, but the function to create them returned the same instance \u001b[39m\u001b[39m\"\u001b[39m\n\u001b[0;32m     34\u001b[0m             \u001b[39m\"\u001b[39m\u001b[39minstead of creating different objects. \u001b[39m\u001b[39m\"\u001b[39m\n\u001b[1;32m   (...)\u001b[0m\n\u001b[0;32m     39\u001b[0m             \u001b[39m\"\u001b[39m\u001b[39mPlease read https://github.com/DLR-RM/stable-baselines3/issues/1151 for more information.\u001b[39m\u001b[39m\"\u001b[39m\n\u001b[0;32m     40\u001b[0m         )\n",
            "File \u001b[1;32mc:\\Users\\pablo\\.conda\\envs\\rl23x\\lib\\site-packages\\stable_baselines3\\common\\env_util.py:94\u001b[0m, in \u001b[0;36mmake_vec_env.<locals>.make_env.<locals>._init\u001b[1;34m()\u001b[0m\n\u001b[0;32m     92\u001b[0m kwargs\u001b[39m.\u001b[39mupdate(env_kwargs)\n\u001b[0;32m     93\u001b[0m \u001b[39mtry\u001b[39;00m:\n\u001b[1;32m---> 94\u001b[0m     env \u001b[39m=\u001b[39m gym\u001b[39m.\u001b[39mmake(env_id, \u001b[39m*\u001b[39m\u001b[39m*\u001b[39mkwargs)  \u001b[39m# type: ignore[arg-type]\u001b[39;00m\n\u001b[0;32m     95\u001b[0m \u001b[39mexcept\u001b[39;00m \u001b[39mTypeError\u001b[39;00m:\n\u001b[0;32m     96\u001b[0m     env \u001b[39m=\u001b[39m gym\u001b[39m.\u001b[39mmake(env_id, \u001b[39m*\u001b[39m\u001b[39m*\u001b[39menv_kwargs)\n",
            "File \u001b[1;32mc:\\Users\\pablo\\.conda\\envs\\rl23x\\lib\\site-packages\\gymnasium\\envs\\registration.py:740\u001b[0m, in \u001b[0;36mmake\u001b[1;34m(id, max_episode_steps, autoreset, apply_api_compatibility, disable_env_checker, **kwargs)\u001b[0m\n\u001b[0;32m    737\u001b[0m     \u001b[39massert\u001b[39;00m \u001b[39misinstance\u001b[39m(\u001b[39mid\u001b[39m, \u001b[39mstr\u001b[39m)\n\u001b[0;32m    739\u001b[0m     \u001b[39m# The environment name can include an unloaded module in \"module:env_name\" style\u001b[39;00m\n\u001b[1;32m--> 740\u001b[0m     env_spec \u001b[39m=\u001b[39m _find_spec(\u001b[39mid\u001b[39;49m)\n\u001b[0;32m    742\u001b[0m \u001b[39massert\u001b[39;00m \u001b[39misinstance\u001b[39m(env_spec, EnvSpec)\n\u001b[0;32m    744\u001b[0m \u001b[39m# Update the env spec kwargs with the `make` kwargs\u001b[39;00m\n",
            "File \u001b[1;32mc:\\Users\\pablo\\.conda\\envs\\rl23x\\lib\\site-packages\\gymnasium\\envs\\registration.py:537\u001b[0m, in \u001b[0;36m_find_spec\u001b[1;34m(env_id)\u001b[0m\n\u001b[0;32m    531\u001b[0m     logger\u001b[39m.\u001b[39mwarn(\n\u001b[0;32m    532\u001b[0m         \u001b[39mf\u001b[39m\u001b[39m\"\u001b[39m\u001b[39mUsing the latest versioned environment `\u001b[39m\u001b[39m{\u001b[39;00mnew_env_id\u001b[39m}\u001b[39;00m\u001b[39m` \u001b[39m\u001b[39m\"\u001b[39m\n\u001b[0;32m    533\u001b[0m         \u001b[39mf\u001b[39m\u001b[39m\"\u001b[39m\u001b[39minstead of the unversioned environment `\u001b[39m\u001b[39m{\u001b[39;00menv_name\u001b[39m}\u001b[39;00m\u001b[39m`.\u001b[39m\u001b[39m\"\u001b[39m\n\u001b[0;32m    534\u001b[0m     )\n\u001b[0;32m    536\u001b[0m \u001b[39mif\u001b[39;00m env_spec \u001b[39mis\u001b[39;00m \u001b[39mNone\u001b[39;00m:\n\u001b[1;32m--> 537\u001b[0m     _check_version_exists(ns, name, version)\n\u001b[0;32m    538\u001b[0m     \u001b[39mraise\u001b[39;00m error\u001b[39m.\u001b[39mError(\u001b[39mf\u001b[39m\u001b[39m\"\u001b[39m\u001b[39mNo registered env with id: \u001b[39m\u001b[39m{\u001b[39;00menv_name\u001b[39m}\u001b[39;00m\u001b[39m\"\u001b[39m)\n\u001b[0;32m    540\u001b[0m \u001b[39mreturn\u001b[39;00m env_spec\n",
            "File \u001b[1;32mc:\\Users\\pablo\\.conda\\envs\\rl23x\\lib\\site-packages\\gymnasium\\envs\\registration.py:403\u001b[0m, in \u001b[0;36m_check_version_exists\u001b[1;34m(ns, name, version)\u001b[0m\n\u001b[0;32m    400\u001b[0m \u001b[39mif\u001b[39;00m get_env_id(ns, name, version) \u001b[39min\u001b[39;00m registry:\n\u001b[0;32m    401\u001b[0m     \u001b[39mreturn\u001b[39;00m\n\u001b[1;32m--> 403\u001b[0m _check_name_exists(ns, name)\n\u001b[0;32m    404\u001b[0m \u001b[39mif\u001b[39;00m version \u001b[39mis\u001b[39;00m \u001b[39mNone\u001b[39;00m:\n\u001b[0;32m    405\u001b[0m     \u001b[39mreturn\u001b[39;00m\n",
            "File \u001b[1;32mc:\\Users\\pablo\\.conda\\envs\\rl23x\\lib\\site-packages\\gymnasium\\envs\\registration.py:380\u001b[0m, in \u001b[0;36m_check_name_exists\u001b[1;34m(ns, name)\u001b[0m\n\u001b[0;32m    377\u001b[0m namespace_msg \u001b[39m=\u001b[39m \u001b[39mf\u001b[39m\u001b[39m\"\u001b[39m\u001b[39m in namespace \u001b[39m\u001b[39m{\u001b[39;00mns\u001b[39m}\u001b[39;00m\u001b[39m\"\u001b[39m \u001b[39mif\u001b[39;00m ns \u001b[39melse\u001b[39;00m \u001b[39m\"\u001b[39m\u001b[39m\"\u001b[39m\n\u001b[0;32m    378\u001b[0m suggestion_msg \u001b[39m=\u001b[39m \u001b[39mf\u001b[39m\u001b[39m\"\u001b[39m\u001b[39m Did you mean: `\u001b[39m\u001b[39m{\u001b[39;00msuggestion[\u001b[39m0\u001b[39m]\u001b[39m}\u001b[39;00m\u001b[39m`?\u001b[39m\u001b[39m\"\u001b[39m \u001b[39mif\u001b[39;00m suggestion \u001b[39melse\u001b[39;00m \u001b[39m\"\u001b[39m\u001b[39m\"\u001b[39m\n\u001b[1;32m--> 380\u001b[0m \u001b[39mraise\u001b[39;00m error\u001b[39m.\u001b[39mNameNotFound(\n\u001b[0;32m    381\u001b[0m     \u001b[39mf\u001b[39m\u001b[39m\"\u001b[39m\u001b[39mEnvironment `\u001b[39m\u001b[39m{\u001b[39;00mname\u001b[39m}\u001b[39;00m\u001b[39m` doesn\u001b[39m\u001b[39m'\u001b[39m\u001b[39mt exist\u001b[39m\u001b[39m{\u001b[39;00mnamespace_msg\u001b[39m}\u001b[39;00m\u001b[39m.\u001b[39m\u001b[39m{\u001b[39;00msuggestion_msg\u001b[39m}\u001b[39;00m\u001b[39m\"\u001b[39m\n\u001b[0;32m    382\u001b[0m )\n",
            "\u001b[1;31mNameNotFound\u001b[0m: Environment `PongNoFrameskip` doesn't exist."
          ]
        }
      ],
      "source": [
        "#'''\n",
        "# escolha um ID de ambiente correspondente a um game de Atari\n",
        "# veja em https://gymnasium.farama.org/environments/atari/\n",
        "ENV_NAME = 'PongNoFrameskip-v4' #'ALE/Pong-v5' \n",
        "\n",
        "# Esta função cria o ambiente, junto com wrappers especializados\n",
        "env = make_atari_env(ENV_NAME, n_envs=4, seed=0)\n",
        "\n",
        "# Wrapper para fazer cada estado ser uma \"pilha\" de 4 frames\n",
        "env = VecFrameStack(env, n_stack=4)\n",
        "\n",
        "# Cria com uma rede convolucional como política\n",
        "model = PPO(CnnPolicy, env, tensorboard_log=\"log_dir\", verbose=1)\n",
        "#'''"
      ]
    },
    {
      "cell_type": "markdown",
      "metadata": {
        "id": "zjEVOIY8NVeK"
      },
      "source": [
        "Vamos avaliar o agente não-treinado:"
      ]
    },
    {
      "cell_type": "code",
      "execution_count": null,
      "metadata": {
        "id": "xDHLMA6NFk95"
      },
      "outputs": [],
      "source": [
        "# Random Agent, before training\n",
        "mean_reward, std_reward = evaluate_policy(model, env, n_eval_episodes=30)\n",
        "\n",
        "print(f\"Retorno médio: {mean_reward:.2f} +/- {std_reward:.2f}\")"
      ]
    },
    {
      "cell_type": "markdown",
      "metadata": {
        "id": "BTbAq8Ji_EBf"
      },
      "source": [
        "E agora vamos gravar um vídeo para vê-lo em ação, antes de treinado."
      ]
    },
    {
      "cell_type": "code",
      "execution_count": null,
      "metadata": {
        "id": "OKo8i2aw_Iz5"
      },
      "outputs": [],
      "source": [
        "record_video(ENV_NAME, model, video_length=1_000, prefix='ppo-sem-treino')\n",
        "show_videos('videos', prefix='ppo-sem-treino')"
      ]
    },
    {
      "cell_type": "markdown",
      "metadata": {
        "id": "A00W6yY3NkHG"
      },
      "source": [
        "## 3 - Ativa Tensorboard"
      ]
    },
    {
      "cell_type": "markdown",
      "metadata": {
        "id": "A0ZVznfSt_AL"
      },
      "source": [
        "O comando abaixo abre o **Tensorboard**. Depois, execute o treinamento e acompanhe aqui os resultados, em tempo real."
      ]
    },
    {
      "cell_type": "code",
      "execution_count": null,
      "metadata": {
        "id": "2MkjYOgx3itp"
      },
      "outputs": [],
      "source": [
        "%tensorboard --logdir log_dir"
      ]
    },
    {
      "cell_type": "markdown",
      "metadata": {
        "id": "r5UoXTZPNdFE"
      },
      "source": [
        "## 4 - Treina e salva o agente"
      ]
    },
    {
      "cell_type": "markdown",
      "metadata": {
        "id": "qT-lCHMOAHR3"
      },
      "source": [
        "Abaixo, rodamos a função de treinamento."
      ]
    },
    {
      "cell_type": "code",
      "execution_count": null,
      "metadata": {
        "id": "e4cfSXIB-pTF"
      },
      "outputs": [],
      "source": [
        "# Treina por 200 mil passos -- pode demorar mais de 5 min!\n",
        "model.learn(total_timesteps=200_000)"
      ]
    },
    {
      "cell_type": "markdown",
      "metadata": {
        "id": "MF5htH8TAK8m"
      },
      "source": [
        "Depois, gravamos o vídeo do agente treinado."
      ]
    },
    {
      "cell_type": "code",
      "execution_count": null,
      "metadata": {
        "id": "olb37dOk_rgz"
      },
      "outputs": [],
      "source": [
        "record_video(ENV_NAME, model, video_length=1_500, prefix='ppo-treinado')\n",
        "show_videos('videos', prefix='ppo-treinado')"
      ]
    },
    {
      "cell_type": "markdown",
      "metadata": {
        "id": "FN7XVTupAN-g"
      },
      "source": [
        "Por fim, salvamos o agente treinado em arquivo."
      ]
    },
    {
      "cell_type": "code",
      "execution_count": null,
      "metadata": {
        "id": "ygl_gVmV_QP7"
      },
      "outputs": [],
      "source": [
        "model.save(\"ppo_model\")\n",
        "del model  # delete trained model from memory to demonstrate loading\n"
      ]
    },
    {
      "cell_type": "markdown",
      "metadata": {
        "id": "SwbRZv1yiUO3"
      },
      "source": [
        "## 5 - Carrega e avalia o agente"
      ]
    },
    {
      "cell_type": "code",
      "execution_count": null,
      "metadata": {
        "id": "INlUVon9iflA"
      },
      "outputs": [],
      "source": [
        "model = PPO.load(\"ppo_model\")"
      ]
    },
    {
      "cell_type": "code",
      "execution_count": null,
      "metadata": {
        "id": "5SoCtCVAiX0O"
      },
      "outputs": [],
      "source": [
        "# Evaluate the trained agent\n",
        "mean_reward, std_reward = evaluate_policy(model, env, n_eval_episodes=30)\n",
        "\n",
        "print(f\"Retorno médio: {mean_reward:.2f} +/- {std_reward:.2f}\")"
      ]
    },
    {
      "cell_type": "markdown",
      "metadata": {
        "id": "6LYtT21aOs1l"
      },
      "source": [
        "## 6 - Treinar por mais alguns passos"
      ]
    },
    {
      "cell_type": "markdown",
      "metadata": {
        "id": "aAdGk2ZFk0a2"
      },
      "source": [
        "Para treinar por mais alguns passos, use `.set_env()` para definir o ambiente e chame novamente `.learn()`."
      ]
    },
    {
      "cell_type": "code",
      "execution_count": null,
      "metadata": {
        "id": "cfv5y7qmkvRT"
      },
      "outputs": [],
      "source": [
        "model.set_env(gym.make(ENV_NAME))\n",
        "model.learn(total_timesteps=100_000)"
      ]
    },
    {
      "cell_type": "code",
      "execution_count": null,
      "metadata": {
        "id": "SC5yuXefO2Nx"
      },
      "outputs": [],
      "source": []
    }
  ],
  "metadata": {
    "accelerator": "GPU",
    "colab": {
      "collapsed_sections": [
        "FtY8FhliLsGm",
        "xVm9QPNVwKXN"
      ],
      "name": "cap09-2-PPO-stablebaselines.ipynb",
      "provenance": [],
      "toc_visible": true
    },
    "gpuClass": "standard",
    "kernelspec": {
      "display_name": "Python 3.9.13 ('rlx')",
      "language": "python",
      "name": "python3"
    },
    "language_info": {
      "codemirror_mode": {
        "name": "ipython",
        "version": 3
      },
      "file_extension": ".py",
      "mimetype": "text/x-python",
      "name": "python",
      "nbconvert_exporter": "python",
      "pygments_lexer": "ipython3",
      "version": "3.10.13"
    },
    "vscode": {
      "interpreter": {
        "hash": "27dbc9ce4cc602e4f15257b7b0018d8dff5b9ce9a7d73bc4399cb5afb1e02c4a"
      }
    }
  },
  "nbformat": 4,
  "nbformat_minor": 0
}
