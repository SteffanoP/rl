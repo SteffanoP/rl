{
  "nbformat": 4,
  "nbformat_minor": 0,
  "metadata": {
    "colab": {
      "provenance": [],
      "collapsed_sections": [
        "659YAN1F2VMu",
        "-7RVzsGP4UEE"
      ],
      "authorship_tag": "ABX9TyNPO8FtjsEtxWzIKLe3DMIu"
    },
    "kernelspec": {
      "name": "python3",
      "display_name": "Python 3"
    },
    "language_info": {
      "name": "python"
    }
  },
  "cells": [
    {
      "cell_type": "markdown",
      "source": [
        "Você pode rodar este notebook localmente ou no Colab. Para abrir diretamente no Colab, basta clicar no botão abaixo.\n",
        "\n",
        "[![Open In Colab](https://colab.research.google.com/assets/colab-badge.svg)](https://colab.research.google.com/github/pablo-sampaio/rl_facil/blob/main/cap01/cap01-main.ipynb) \n",
        "\n",
        "# Capítulo 1 - Explorando os ambientes\n",
        "\n",
        "Nosso objetivo nesta aula é apenas motivar para o estudo de **Aprendizagem por Reforço** (*Reinforcement Learning* ou *RL*).\n",
        "\n",
        "Para isso, vamos explorar os ambientes (simuladores de tarefas) oferecidos no pacote **`gym`**, originalmente criado pela OpenAI para praticar e pesquisar RL. \n",
        "\n",
        "A `gym` inclui diversos ambientes interessantes. E na internet, você encontra outros ambientes compatíveis com o `gym`.\n",
        "\n",
        "***Atenção***: *este pacote foi descontinuado em favor do pacote `gymnasium`, mas vou continuar com o `gym` pela simplicidade e para aguardar o `gymnasium` ficar mais estável.*"
      ],
      "metadata": {
        "id": "F7HLPQPeV94m"
      }
    },
    {
      "cell_type": "markdown",
      "source": [
        "## Configurações Iniciais\n",
        "\n",
        "Para instalar e importar pacotes e configurar algumas coisas..."
      ],
      "metadata": {
        "id": "MYKcHICW2HxW"
      }
    },
    {
      "cell_type": "code",
      "source": [
        "from IPython.display import clear_output\n",
        "\n",
        "# for saving videos\n",
        "!apt-get install ffmpeg freeglut3-dev xvfb\n",
        "\n",
        "# install gym\n",
        "!pip install swig\n",
        "!pip install gym[box2d]==0.23.1 \n",
        "\n",
        "# clone repository, to use \"util\" module \n",
        "!git clone https://github.com/pablo-sampaio/rl_facil\n",
        "\n",
        "clear_output()"
      ],
      "metadata": {
        "id": "twlMXZDa0DFY"
      },
      "execution_count": 1,
      "outputs": []
    },
    {
      "cell_type": "code",
      "source": [
        "# Set up fake display; otherwise rendering will fail\n",
        "import os\n",
        "os.system(\"Xvfb :1 -screen 0 1024x768x24 &\")\n",
        "os.environ['DISPLAY'] = ':1'"
      ],
      "metadata": {
        "id": "_9GfciGyvZA2"
      },
      "execution_count": 2,
      "outputs": []
    },
    {
      "cell_type": "code",
      "execution_count": 3,
      "metadata": {
        "id": "ibr-xyFVvZ44"
      },
      "outputs": [],
      "source": [
        "import gym\n",
        "import time\n",
        "\n",
        "import sys\n",
        "sys.path.append(\"/content/rl_facil\")\n",
        "\n",
        "from util.notebook import display_videos_from_path"
      ]
    },
    {
      "cell_type": "markdown",
      "source": [
        "## 1 - Testando Alguns Ambientes\n",
        "\n",
        "Veja a lista de ambientes do gym e a descrição de cada ambiente neste link: https://www.gymlibrary.dev/."
      ],
      "metadata": {
        "id": "659YAN1F2VMu"
      }
    },
    {
      "cell_type": "markdown",
      "source": [
        "### 1.1 Exemplo Detalhado\n",
        "\n",
        "A biblioteca gym oferece vários ambientes, que costuma ser criados pela string de identificação. Abaixo, mostramos como rodar o ambiente \"CartPole-v1\". \n",
        "\n",
        "Mostramos como passar **ações** para o ambiente e como ler as **observações** e **recompensas** vindas dele.\n",
        "\n",
        "Para entender todos esses valores, veja a documentação deste ambiente em: https://www.gymlibrary.dev/environments/classic_control/cart_pole/\n",
        "\n"
      ],
      "metadata": {
        "id": "-7RVzsGP4UEE"
      }
    },
    {
      "cell_type": "code",
      "source": [
        "# instancia o ambiente, usando o identificador do ambiente\n",
        "env = gym.make(\"CartPole-v1\")\n",
        "\n",
        "# para guardar a soma das recompensas\n",
        "sum_rewards = 0.0\n",
        "\n",
        "# inicia um episodio no ambiente e recebe a observação inicial\n",
        "obs = env.reset()\n",
        "\n",
        "# indica se o episódio encerrou\n",
        "done = False\n",
        "\n",
        "while not done:\n",
        "    # exibe visualmente o estado do ambiente (se você estiver rodando no PC)\n",
        "    #env.render()\n",
        "\n",
        "    # escolhe uma ação aleatória, usando uma função do próprio ambiente\n",
        "    # neste ponto, você pode usar um algoritmo qualquer para escolher a ação\n",
        "    action = env.action_space.sample()\n",
        "\n",
        "    # aplica a ação no ambiente e recebe uma 4-tupla\n",
        "    #      obs  - a próxima observação\n",
        "    #      r    - a recompensa deste passo\n",
        "    #      done - indica se o episódio acabou\n",
        "    #      info - dicionário com informações extras (pode ser ignorado)\n",
        "    (obs, r, done, _) = env.step(action)\n",
        "\n",
        "    # imprime as informações\n",
        "    print(\"action     :\", action)    \n",
        "    print(\"observation:\", obs)\n",
        "    print(\"reward     :\", r)\n",
        "    print(\"-\")\n",
        "\n",
        "    # calcula a soma das recompensas\n",
        "    sum_rewards += r\n",
        "\n",
        "    # espera um pouco, para mostrar os resultados mais lentamente\n",
        "    time.sleep(0.2)\n",
        "\n",
        "# encerra o ambiente, principalmente se usar renderização\n",
        "env.close()\n",
        "print(\"RETORNO DO EPISÓDIO (soma das recompensas):\", sum_rewards)"
      ],
      "metadata": {
        "id": "9QM99FoU6eXU",
        "outputId": "f3f30907-306d-4ead-a977-3246fffa51ff",
        "colab": {
          "base_uri": "https://localhost:8080/"
        }
      },
      "execution_count": 4,
      "outputs": [
        {
          "output_type": "stream",
          "name": "stderr",
          "text": [
            "/usr/local/lib/python3.10/dist-packages/ipykernel/ipkernel.py:283: DeprecationWarning: `should_run_async` will not call `transform_cell` automatically in the future. Please pass the result to `transformed_cell` argument and any exception that happen during thetransform in `preprocessing_exc_tuple` in IPython 7.17 and above.\n",
            "  and should_run_async(code)\n"
          ]
        },
        {
          "output_type": "stream",
          "name": "stdout",
          "text": [
            "action     : 1\n",
            "observation: [-0.0350988   0.17564824 -0.01218741 -0.27463013]\n",
            "reward     : 1.0\n",
            "-\n",
            "action     : 0\n",
            "observation: [-0.03158584 -0.01929771 -0.01768001  0.01418408]\n",
            "reward     : 1.0\n",
            "-\n",
            "action     : 1\n",
            "observation: [-0.03197179  0.17607327 -0.01739633 -0.28402424]\n",
            "reward     : 1.0\n",
            "-\n",
            "action     : 1\n",
            "observation: [-0.02845033  0.37143898 -0.02307682 -0.5821427 ]\n",
            "reward     : 1.0\n",
            "-\n",
            "action     : 1\n",
            "observation: [-0.02102155  0.56687653 -0.03471967 -0.882005  ]\n",
            "reward     : 1.0\n",
            "-\n",
            "action     : 1\n",
            "observation: [-0.00968402  0.7624524  -0.05235977 -1.1853975 ]\n",
            "reward     : 1.0\n",
            "-\n",
            "action     : 1\n",
            "observation: [ 0.00556503  0.9582129  -0.07606772 -1.4940226 ]\n",
            "reward     : 1.0\n",
            "-\n",
            "action     : 1\n",
            "observation: [ 0.02472929  1.1541733  -0.10594817 -1.8094555 ]\n",
            "reward     : 1.0\n",
            "-\n",
            "action     : 0\n",
            "observation: [ 0.04781276  0.96038026 -0.14213729 -1.5514864 ]\n",
            "reward     : 1.0\n",
            "-\n",
            "action     : 1\n",
            "observation: [ 0.06702036  1.1568921  -0.173167   -1.8849294 ]\n",
            "reward     : 1.0\n",
            "-\n",
            "action     : 1\n",
            "observation: [ 0.0901582  1.353424  -0.2108656 -2.2259753]\n",
            "reward     : 1.0\n",
            "-\n",
            "RETORNO DO EPISÓDIO (soma das recompensas): 11.0\n"
          ]
        }
      ]
    },
    {
      "cell_type": "markdown",
      "source": [
        "### 1.2 Gravando e Exibindo Vídeos\n",
        "\n",
        "Rodando no PC, você pode renderizar enquanto simula o ambiente. Se estiver rodando no Colab, a alternativa é salvar um vídeo e exibi-lo no final.\n",
        "\n",
        "A seguir, mostramos como **gravar vídeos** da execução do ambiente usando o wrapper `RecordVideo`. \n",
        "- Esta classe encapsula o ambiente original e pode ser usada como se fosse o próprio ambiente.\n",
        "- Internamente, ela executa o ambiente original e, adicionalmente, salva vídeos com a renderização dos passos. \n",
        "- Os vídeos são salvos em arquivos MP4 no diretório informado. Este exemplo salva apenas um vídeo, pois executa apenas um episódio."
      ],
      "metadata": {
        "id": "iA9fckVbsrBc"
      }
    },
    {
      "cell_type": "code",
      "source": [
        "# diretório onde serão salvos os vídeos\n",
        "video_path = '/content/videos'"
      ],
      "metadata": {
        "id": "n0c-0IH5f-se"
      },
      "execution_count": 5,
      "outputs": []
    },
    {
      "cell_type": "code",
      "source": [
        "# descomente apenas a linha do ambiente desejado\n",
        "env = gym.make(\"MountainCar-v0\")\n",
        "#env = gym.make(\"CartPole-v1\")\n",
        "#env = gym.make(\"Taxi-v3\")\n",
        "#env = gym.make(\"Pendulum-v1\")\n",
        "#env = gym.make(\"LunarLander-v2\")\n",
        "\n",
        "rec_env = gym.wrappers.RecordVideo(env, video_path)\n",
        "\n",
        "obs = rec_env.reset()\n",
        "done = False\n",
        "\n",
        "while not done:\n",
        "    action = rec_env.action_space.sample()\n",
        "    (obs, r, done, _) = rec_env.step(action)\n",
        "\n",
        "rec_env.close()\n"
      ],
      "metadata": {
        "id": "SlSc5UU-sIod",
        "outputId": "17016207-d935-4209-b759-36b76508b10b",
        "colab": {
          "base_uri": "https://localhost:8080/"
        }
      },
      "execution_count": 6,
      "outputs": [
        {
          "output_type": "stream",
          "name": "stderr",
          "text": [
            "/usr/local/lib/python3.10/dist-packages/gym/wrappers/monitoring/video_recorder.py:421: DeprecationWarning: distutils Version classes are deprecated. Use packaging.version instead.\n",
            "  if distutils.version.LooseVersion(\n"
          ]
        }
      ]
    },
    {
      "cell_type": "markdown",
      "source": [
        "Para exibir os vídeos em um notebook Jupyter/Python, usamos a função `display_videos_from_path()` passando o caminho do diretório dos vídeos."
      ],
      "metadata": {
        "id": "N8mQ34Iv1tVg"
      }
    },
    {
      "cell_type": "code",
      "source": [
        "display_videos_from_path(video_path)"
      ],
      "metadata": {
        "colab": {
          "base_uri": "https://localhost:8080/",
          "height": 477
        },
        "id": "oIRnRTza1vNe",
        "outputId": "4b289d48-f059-433b-b22d-a42b0ac956b9"
      },
      "execution_count": 7,
      "outputs": [
        {
          "output_type": "stream",
          "name": "stderr",
          "text": [
            "/usr/local/lib/python3.10/dist-packages/ipykernel/ipkernel.py:283: DeprecationWarning: `should_run_async` will not call `transform_cell` automatically in the future. Please pass the result to `transformed_cell` argument and any exception that happen during thetransform in `preprocessing_exc_tuple` in IPython 7.17 and above.\n",
            "  and should_run_async(code)\n"
          ]
        },
        {
          "output_type": "display_data",
          "data": {
            "text/plain": [
              "<IPython.core.display.HTML object>"
            ],
            "text/html": [
              "<video alt=\"/content/videos/rl-video-episode-0.mp4\" autoplay \n",
              "                    loop controls style=\"height: 400px;\">\n",
              "                    <source src=\"data:video/mp4;base64,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\" type=\"video/mp4\" />\n",
              "                    </video>"
            ]
          },
          "metadata": {}
        }
      ]
    },
    {
      "cell_type": "markdown",
      "source": [
        "## 2 - Solução Manual"
      ],
      "metadata": {
        "id": "A5YgHc745SKc"
      }
    },
    {
      "cell_type": "markdown",
      "source": [
        "Vamos tentar resolver o ambiente **Mountain Car** criando um algoritmo \"manual\" para escolher a ação.\n",
        "\n",
        "Vejas as informações sobre este ambiente aqui: https://www.gymlibrary.dev/environments/classic_control/mountain_car/ . \n",
        "\n",
        "Segue um resumo:\n",
        "\n",
        "- O episódio **termina**:\n",
        "  - quando o carro chega na *bandeira* no lado direito\n",
        "  - ou quando atingir o máximo de 200 passos sem chegar lá\n",
        "- Cada **observação** deste ambiente é uma lista com estas duas informações:\n",
        "  - *índice 0* - posição no carro no eixo *x*\n",
        "  - *índice 1* - velocidade do carro \n",
        "- As **ações** possíveis são:\n",
        "  - *0* - acelerar para a esquerda\n",
        "  - *1* - deixar livre\n",
        "  - *2* - acelerar para a direita\n",
        "- A cada passo, a **recompensa** é -1, para incentivar o agente a encerrar a tarefa rapidamente\n",
        "\n"
      ],
      "metadata": {
        "id": "-ga0cRcwdC4f"
      }
    },
    {
      "cell_type": "markdown",
      "source": [
        "***Agora, tente criar sua solução!*** \n",
        "\n",
        "Você saberá que resolveu o ambiente se o retorno do episódio for acima de -200 (por exemplo: -157)."
      ],
      "metadata": {
        "id": "3Z_OK4bVi3Dz"
      }
    },
    {
      "cell_type": "code",
      "source": [
        "env = gym.make(\"MountainCar-v0\")\n",
        "env = gym.wrappers.RecordVideo(env, video_path)\n",
        "\n",
        "obs = env.reset()\n",
        "done = False\n",
        "sum_rewards = 0.0\n",
        "\n",
        "while not done:\n",
        "    #env.render()\n",
        "    \n",
        "    # CRIE AQUI uma forma de escolher a ação, entre as três possíveis ações\n",
        "    action = 0\n",
        "\n",
        "    obs, reward, done, _ = env.step(action)\n",
        "    sum_rewards += reward\n",
        "    \n",
        "    time.sleep(0.01)\n",
        "\n",
        "print(\"Retorno:\", sum_rewards)"
      ],
      "metadata": {
        "colab": {
          "base_uri": "https://localhost:8080/"
        },
        "id": "5VVRaDTH5T67",
        "outputId": "2e3a1582-1f9d-44ff-acd6-60347bfe2028"
      },
      "execution_count": 8,
      "outputs": [
        {
          "output_type": "stream",
          "name": "stderr",
          "text": [
            "/usr/local/lib/python3.10/dist-packages/gym/wrappers/record_video.py:41: UserWarning: \u001b[33mWARN: Overwriting existing videos at /content/videos folder (try specifying a different `video_folder` for the `RecordVideo` wrapper if this is not desired)\u001b[0m\n",
            "  logger.warn(\n",
            "/usr/local/lib/python3.10/dist-packages/gym/wrappers/monitoring/video_recorder.py:421: DeprecationWarning: distutils Version classes are deprecated. Use packaging.version instead.\n",
            "  if distutils.version.LooseVersion(\n"
          ]
        },
        {
          "output_type": "stream",
          "name": "stdout",
          "text": [
            "Retorno: -200.0\n"
          ]
        }
      ]
    },
    {
      "cell_type": "code",
      "source": [
        "display_videos_from_path(video_path)"
      ],
      "metadata": {
        "id": "6ZIBTMdUWKpW",
        "outputId": "d1aa1505-e227-4b7f-cd29-9067eaa1f8a8",
        "colab": {
          "base_uri": "https://localhost:8080/",
          "height": 477
        }
      },
      "execution_count": 9,
      "outputs": [
        {
          "output_type": "stream",
          "name": "stderr",
          "text": [
            "/usr/local/lib/python3.10/dist-packages/ipykernel/ipkernel.py:283: DeprecationWarning: `should_run_async` will not call `transform_cell` automatically in the future. Please pass the result to `transformed_cell` argument and any exception that happen during thetransform in `preprocessing_exc_tuple` in IPython 7.17 and above.\n",
            "  and should_run_async(code)\n"
          ]
        },
        {
          "output_type": "display_data",
          "data": {
            "text/plain": [
              "<IPython.core.display.HTML object>"
            ],
            "text/html": [
              "<video alt=\"/content/videos/rl-video-episode-0.mp4\" autoplay \n",
              "                    loop controls style=\"height: 400px;\">\n",
              "                    <source src=\"data:video/mp4;base64,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\" type=\"video/mp4\" />\n",
              "                    </video>"
            ]
          },
          "metadata": {}
        }
      ]
    },
    {
      "cell_type": "markdown",
      "source": [
        "Você consegue fazer uma boa solução sem precisar deixar o carrinho livre (`action=1`).\n",
        "\n",
        "Para chegar a uma boa solução, pense no seguinte:\n",
        "- em quais situações faz sentido acelerar para a esquerda (`action=0`)?\n",
        "- em quais situações faz sentido acelerar para a direita (`action=2`)?"
      ],
      "metadata": {
        "id": "IoS1sK38deLH"
      }
    },
    {
      "cell_type": "markdown",
      "source": [
        "## 3 - Informações Sobre o Ambiente"
      ],
      "metadata": {
        "id": "B_F2AShc4K_K"
      }
    },
    {
      "cell_type": "markdown",
      "source": [
        "Os ambientes podem ter observações contínuas (geralmente como listas de valores float) ou discretas (geralmente um único inteiro).\n",
        "\n",
        "Também as ações podem ser contínuas ou discretas. Cada ambiente do `gym` informa:\n",
        "- qual o seu **espaço de observações** (atributo `env.observation_space`)\n",
        "- e o seu **espaço de ações** (atributo `env.action_space`)\n",
        "\n",
        "Criamos a função abaixo para ler um espaço (de ações ou observações) e detalhar suas informações"
      ],
      "metadata": {
        "id": "swPxD3Cth1PM"
      }
    },
    {
      "cell_type": "code",
      "source": [
        "def print_space_info(space):\n",
        "    if isinstance(space, gym.spaces.Discrete):\n",
        "        print(\"   - quantidade de valores:\", space.n)\n",
        "    elif isinstance(space, gym.spaces.Box):\n",
        "        print(\"   - formato/shape:\", space.shape)\n",
        "        print(\"   - valores mínimos (por item):\", space.low)\n",
        "        print(\"   - valores máximos (por item):\", space.high)\n"
      ],
      "metadata": {
        "id": "pLbDE6KHhzcE"
      },
      "execution_count": 10,
      "outputs": []
    },
    {
      "cell_type": "code",
      "source": [
        "#env = gym.make(\"MountainCar-v0\")\n",
        "#env = gym.make(\"Taxi-v3\")\n",
        "#env = gym.make(\"CartPole-v1\")\n",
        "env = gym.make(\"Pendulum-v1\")\n",
        "#env = gym.make(\"LunarLander-v2\")\n",
        "\n",
        "print(\"INFORMAÇÕES SOBRE O AMBIENTE\", env)\n",
        "print()\n",
        "print(\"=> OBSERVATION SPACE:\", env.observation_space)\n",
        "print_space_info(env.observation_space)\n",
        "\n",
        "print()\n",
        "print(\"=> ACTION SPACE:\", env.action_space)\n",
        "print_space_info(env.action_space)\n",
        "print()\n"
      ],
      "metadata": {
        "colab": {
          "base_uri": "https://localhost:8080/"
        },
        "id": "b9NYqAmPztCH",
        "outputId": "c50cb3b1-0b7f-40cd-bf37-8a660cc3cafd"
      },
      "execution_count": 11,
      "outputs": [
        {
          "output_type": "stream",
          "name": "stdout",
          "text": [
            "INFORMAÇÕES SOBRE O AMBIENTE <TimeLimit<OrderEnforcing<PendulumEnv<Pendulum-v1>>>>\n",
            "\n",
            "=> OBSERVATION SPACE: Box([-1. -1. -8.], [1. 1. 8.], (3,), float32)\n",
            "   - formato/shape: (3,)\n",
            "   - valores mínimos (por item): [-1. -1. -8.]\n",
            "   - valores máximos (por item): [1. 1. 8.]\n",
            "\n",
            "=> ACTION SPACE: Box(-2.0, 2.0, (1,), float32)\n",
            "   - formato/shape: (1,)\n",
            "   - valores mínimos (por item): [-2.]\n",
            "   - valores máximos (por item): [2.]\n",
            "\n"
          ]
        }
      ]
    },
    {
      "cell_type": "markdown",
      "source": [
        "## 4 - Definindo Wrappers"
      ],
      "metadata": {
        "id": "smg02K4E2QKN"
      }
    },
    {
      "cell_type": "code",
      "source": [
        "class PunishEarlyStop(gym.Wrapper):\n",
        "    def __init__(self, env):\n",
        "        super().__init__(env)\n",
        "    \n",
        "    def step(self, action):\n",
        "        obs, reward, done, info = self.env.step(action)\n",
        "        # if ended because the pole fell down\n",
        "        if done and ('TimeLimit.truncated' not in info):\n",
        "            reward = -100\n",
        "        return obs, reward, done, info\n",
        "\n",
        "\n",
        "env = gym.make(\"CartPole-v1\")\n",
        "env = PunishEarlyStop(env)\n",
        "\n",
        "obs = env.reset()\n",
        "done = False\n",
        "sum_rewards = 0.0\n",
        "\n",
        "while not done:\n",
        "    action = env.action_space.sample()\n",
        "\n",
        "    obs, reward, done, info = env.step(action)\n",
        "    sum_rewards += reward\n",
        "\n",
        "env.close()\n",
        "print(\"Recompensa total:\", sum_rewards)"
      ],
      "metadata": {
        "colab": {
          "base_uri": "https://localhost:8080/"
        },
        "id": "WDUfFU0q0nkH",
        "outputId": "0bbb6f1e-96c4-4919-cd7b-800b5fa588c9"
      },
      "execution_count": 12,
      "outputs": [
        {
          "output_type": "stream",
          "name": "stdout",
          "text": [
            "Recompensa total: -80.0\n"
          ]
        }
      ]
    }
  ]
}