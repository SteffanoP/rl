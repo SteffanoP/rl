{
  "cells": [
    {
      "attachments": {},
      "cell_type": "markdown",
      "metadata": {
        "id": "SeJ3wCaKe2Wl"
      },
      "source": [
        "# Capítulo 8 - Introdução à Família Actor-Critic\n"
      ]
    },
    {
      "attachments": {},
      "cell_type": "markdown",
      "metadata": {
        "id": "3AT7LdIRGf4I"
      },
      "source": [
        "Você pode rodar este notebook no Colab ou localmente. Para abrir diretamente no Colab, basta clicar no link abaixo.\n",
        "\n",
        "[![Open In Colab](https://colab.research.google.com/assets/colab-badge.svg)](https://colab.research.google.com/github/pablo-sampaio/rl_facil/blob/main/cap08/cap08-main-2.ipynb) \n"
      ]
    },
    {
      "attachments": {},
      "cell_type": "markdown",
      "metadata": {
        "id": "uAHITU7VhsM7"
      },
      "source": [
        "## Configurações Iniciais"
      ]
    },
    {
      "cell_type": "code",
      "execution_count": null,
      "metadata": {
        "id": "NS23BU8R1vq-"
      },
      "outputs": [],
      "source": [
        "import sys\n",
        "from IPython.display import clear_output\n",
        "\n",
        "IN_COLAB = 'google.colab' in sys.modules\n",
        "\n",
        "if IN_COLAB:\n",
        "    !pip install gym==0.23.1  # also works with 0.25.2\n",
        "    !pip install gym[box2d]\n",
        "\n",
        "    # para salvar videos\n",
        "    !apt-get install -y ffmpeg xvfb x11-utils\n",
        "\n",
        "    !git clone https://github.com/pablo-sampaio/rl_facil\n",
        "    sys.path.append(\"/content/rl_facil\")\n",
        "\n",
        "    clear_output()\n",
        "else:\n",
        "    from os import path\n",
        "    sys.path.append( path.dirname( path.dirname( path.abspath(\"__main__\") ) ) )\n",
        "\n",
        "clear_output()"
      ]
    },
    {
      "cell_type": "code",
      "execution_count": null,
      "metadata": {},
      "outputs": [],
      "source": [
        "if IN_COLAB:\n",
        "    import os\n",
        "    os.system(\"Xvfb :1 -screen 0 1400x900x24 &\")\n",
        "    os.environ['DISPLAY'] = ':1'"
      ]
    },
    {
      "cell_type": "code",
      "execution_count": null,
      "metadata": {
        "id": "0Gzf7VhkiHxQ"
      },
      "outputs": [],
      "source": [
        "import gym\n",
        "import numpy as np\n",
        "\n",
        "from util.experiments import repeated_exec\n",
        "from util.plot import plot_result, plot_multiple_results\n",
        "from util.notebook import display_videos_from_path\n",
        "\n",
        "from cap08.models_torch_pg import PolicyModelPG, PolicyModelPGWithExploration, ValueModel \n",
        "from cap08.models_torch_pg import test_policy"
      ]
    },
    {
      "attachments": {},
      "cell_type": "markdown",
      "metadata": {
        "id": "ztvJdbKVh20Y"
      },
      "source": [
        "## 1 - Rodando o Vanilla Actor-Critic de 1 passo"
      ]
    },
    {
      "cell_type": "code",
      "execution_count": null,
      "metadata": {},
      "outputs": [],
      "source": [
        "from cap08.actor_critic import run_vanilla_actor_critic"
      ]
    },
    {
      "cell_type": "code",
      "execution_count": null,
      "metadata": {
        "id": "8OACm0r-iuh2"
      },
      "outputs": [],
      "source": [
        "ENV_NAME, rmax = \"CartPole-v1\", 500\n",
        "#ENV_NAME, rmax = \"Acrobot-v1\", 0\n",
        "#ENV_NAME, rmax = \"LunarLander-v2\", 150\n",
        "#ENV_NAME, rmax = \"MountainCar-v0\", -20\n",
        "\n",
        "NUM_STEPS = 10_000\n",
        "GAMMA    = 0.99\n",
        "\n",
        "env = gym.make(ENV_NAME)\n",
        "inputs = env.observation_space.shape[0]\n",
        "outputs = env.action_space.n\n",
        "policy1 = PolicyModelPG(inputs, [256,256], outputs, lr=4e-5)\n",
        "v_model = ValueModel(inputs, [256,32], lr=1e-4)\n",
        "\n",
        "returns1, policy = run_vanilla_actor_critic(env, NUM_STEPS, GAMMA, initial_policy=policy1, initial_v_model=v_model)\n",
        "clear_output()\n",
        "\n",
        "print(\"Últimos episódios do treinamento: media =\", np.mean(returns1[-20:]), \", desvio padrao =\", np.std(returns1[-20:]))"
      ]
    },
    {
      "cell_type": "code",
      "execution_count": null,
      "metadata": {
        "colab": {
          "base_uri": "https://localhost:8080/",
          "height": 513
        },
        "id": "AE8aezOFJIBv",
        "outputId": "9e74d363-09c0-4334-e56a-579bf9c5ef52"
      },
      "outputs": [],
      "source": [
        "# Exibe um gráfico episódios x retornos (não descontados)\n",
        "plot_result(returns1, rmax, x_axis='steps')"
      ]
    },
    {
      "cell_type": "code",
      "execution_count": null,
      "metadata": {},
      "outputs": [],
      "source": [
        "# Roda alguns episódigos com o modelo e salva os vídeos em arquivos\n",
        "env1 = gym.make(ENV_NAME)\n",
        "video_env=gym.wrappers.RecordVideo(env1, \"./vid-ac-basic\", episode_trigger=(lambda ep : True))\n",
        "test_policy(video_env, policy1, False, 3, render=False)\n",
        "video_env.close()"
      ]
    },
    {
      "cell_type": "code",
      "execution_count": null,
      "metadata": {},
      "outputs": [],
      "source": [
        "display_videos_from_path('./vid-ac-basic')"
      ]
    },
    {
      "attachments": {},
      "cell_type": "markdown",
      "metadata": {
        "id": "AKgs_SqvJIBw"
      },
      "source": [
        "## 2 - Rodando o Vanilla Actor-Critic de n Passos"
      ]
    },
    {
      "cell_type": "code",
      "execution_count": null,
      "metadata": {},
      "outputs": [],
      "source": [
        "from cap08.actor_critic_nstep import run_vanilla_actor_critic_nstep"
      ]
    },
    {
      "cell_type": "code",
      "execution_count": null,
      "metadata": {
        "id": "gSSg57UHJIBw"
      },
      "outputs": [],
      "source": [
        "ENV_NAME, rmax = \"CartPole-v1\", 500\n",
        "#ENV_NAME, rmax = \"Acrobot-v1\", 0\n",
        "#ENV_NAME, rmax = \"LunarLander-v2\", 150\n",
        "#ENV_NAME, rmax = \"MountainCar-v0\", -20\n",
        "\n",
        "# ATENÇÃO para a mudança: agora, o critério de parada é pela quantidade de passos\n",
        "# e não pela quantidade de episódios (agora estamos seguindo o padrão da área)\n",
        "NUM_STEPS = 20_000\n",
        "GAMMA     = 0.99\n",
        "NSTEP     = 32\n",
        "EXPLORATION_FACTOR = 0.05  # no CartPole, funciona bem com 0.0\n",
        "\n",
        "env = gym.make(ENV_NAME)\n",
        "inputs = env.observation_space.shape[0]\n",
        "outputs = env.action_space.n\n",
        "\n",
        "#policy2 = PolicyModelPGWithExploration(inputs, [256, 256], outputs, exploration_factor=EXPLORATION_FACTOR, lr=3e-5)\n",
        "policy2 = PolicyModelPG(inputs, [256, 256], outputs, lr=4e-5) #5e-5\n",
        "v_model = ValueModel(inputs, [256,32], lr=8e-5) #1e-4\n",
        "\n",
        "returns2, policy2 = run_vanilla_actor_critic_nstep(env, NUM_STEPS, GAMMA, nstep=NSTEP, initial_policy=policy2, initial_v_model=v_model)\n",
        "clear_output()\n",
        "\n",
        "print(\"Últimos episódios do treinamento: media =\", np.mean(returns2[-20:]), \", desvio padrao =\", np.std(returns2[-20:]))"
      ]
    },
    {
      "cell_type": "code",
      "execution_count": null,
      "metadata": {
        "colab": {
          "base_uri": "https://localhost:8080/",
          "height": 513
        },
        "id": "4G1ltM3TJIBx",
        "outputId": "5065c696-a83c-432c-991f-431425007778"
      },
      "outputs": [],
      "source": [
        "# Exibe um gráfico episódios x retornos (não descontados)\n",
        "plot_result(returns2, rmax, x_axis='steps')"
      ]
    },
    {
      "cell_type": "code",
      "execution_count": null,
      "metadata": {},
      "outputs": [],
      "source": [
        "# Roda alguns episódigos com o modelo e salva os vídeos em arquivos\n",
        "env2 = gym.make(ENV_NAME)\n",
        "video_env=gym.wrappers.RecordVideo(env2, \"./vid-ac-nsteps\", episode_trigger=(lambda ep : True))\n",
        "test_policy(video_env, policy2, False, 3, render=False)\n",
        "video_env.close()"
      ]
    },
    {
      "cell_type": "code",
      "execution_count": null,
      "metadata": {
        "colab": {
          "base_uri": "https://localhost:8080/",
          "height": 288
        },
        "id": "NTIjbY6CJIBx",
        "outputId": "5aad62ba-4e3b-489f-9eb0-ba8d877715ff"
      },
      "outputs": [],
      "source": [
        "display_videos_from_path('./vid-ac-nsteps')"
      ]
    },
    {
      "attachments": {},
      "cell_type": "markdown",
      "metadata": {
        "id": "M8roKzCgsuCl"
      },
      "source": [
        "## 3 - Experimentos\n"
      ]
    },
    {
      "attachments": {},
      "cell_type": "markdown",
      "metadata": {
        "id": "QwhQnziOGf4Q"
      },
      "source": [
        "### 3.1 Comparações Básicas\n"
      ]
    },
    {
      "cell_type": "code",
      "execution_count": null,
      "metadata": {},
      "outputs": [],
      "source": [
        "#from cap08.reinforce_advantage import run_reinforce_with_adv"
      ]
    },
    {
      "cell_type": "code",
      "execution_count": null,
      "metadata": {},
      "outputs": [],
      "source": [
        "AUTO_LOAD = False"
      ]
    },
    {
      "cell_type": "code",
      "execution_count": null,
      "metadata": {
        "id": "aU8DNpphvcRa"
      },
      "outputs": [],
      "source": [
        "env = gym.make(\"CartPole-v1\")\n",
        "NUM_STEPS = 20_000\n",
        "\n",
        "results3 = []\n",
        "\n",
        "results3.append( repeated_exec(3, f\"VAC 1-step\", run_vanilla_actor_critic, env, NUM_STEPS, gamma=0.99, verbose=False, auto_load=AUTO_LOAD) )\n",
        "clear_output()\n",
        "\n",
        "results3.append( repeated_exec(3, f\"VAC 32-steps\", run_vanilla_actor_critic_nstep, env, NUM_STEPS, gamma=0.99, verbose=False, auto_load=AUTO_LOAD) )\n",
        "clear_output()"
      ]
    },
    {
      "cell_type": "code",
      "execution_count": null,
      "metadata": {},
      "outputs": [],
      "source": [
        "plot_multiple_results(results3, x_axis='step', cumulative=False, x_log_scale=False)"
      ]
    },
    {
      "cell_type": "code",
      "execution_count": null,
      "metadata": {},
      "outputs": [],
      "source": [
        "plot_multiple_results(results3, x_axis='step', cumulative=False, plot_stddev=True)"
      ]
    },
    {
      "cell_type": "code",
      "execution_count": null,
      "metadata": {},
      "outputs": [],
      "source": []
    }
  ],
  "metadata": {
    "accelerator": "GPU",
    "colab": {
      "collapsed_sections": [],
      "name": "cap08-main-2.ipynb",
      "provenance": []
    },
    "gpuClass": "standard",
    "kernelspec": {
      "display_name": "Python 3.9.13 ('rlx')",
      "language": "python",
      "name": "python3"
    },
    "language_info": {
      "codemirror_mode": {
        "name": "ipython",
        "version": 3
      },
      "file_extension": ".py",
      "mimetype": "text/x-python",
      "name": "python",
      "nbconvert_exporter": "python",
      "pygments_lexer": "ipython3",
      "version": "3.9.17"
    },
    "vscode": {
      "interpreter": {
        "hash": "27dbc9ce4cc602e4f15257b7b0018d8dff5b9ce9a7d73bc4399cb5afb1e02c4a"
      }
    }
  },
  "nbformat": 4,
  "nbformat_minor": 0
}
