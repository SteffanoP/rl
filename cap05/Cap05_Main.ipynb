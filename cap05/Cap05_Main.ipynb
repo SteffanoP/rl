{
  "cells": [
    {
      "cell_type": "markdown",
      "metadata": {
        "id": "SeJ3wCaKe2Wl"
      },
      "source": [
        "# Capítulo 5 - Scripts Principais\n"
      ]
    },
    {
      "cell_type": "code",
      "execution_count": 1,
      "metadata": {},
      "outputs": [],
      "source": [
        "!mkdir results"
      ]
    },
    {
      "cell_type": "markdown",
      "metadata": {
        "id": "uAHITU7VhsM7"
      },
      "source": [
        "## 1. Para Rodar no Colab\n",
        "\n",
        "Basta clicar no link abaixo para abrir no Colab. Depois, execute a célula abaixo para fazer as configurações necessárias.\n",
        "\n",
        "[![Open In Colab](https://colab.research.google.com/assets/colab-badge.svg)](https://colab.research.google.com/github/pablo-sampaio/rl_facil/blob/main/cap03/MDPs%20e%20retornos.ipynb) \n",
        "\n",
        "Se você não estiver rodando no Google Colab, o import inicial vai fazer a célula dar um erro."
      ]
    },
    {
      "cell_type": "code",
      "execution_count": 27,
      "metadata": {
        "id": "NS23BU8R1vq-"
      },
      "outputs": [
        {
          "ename": "ModuleNotFoundError",
          "evalue": "No module named 'google'",
          "output_type": "error",
          "traceback": [
            "\u001b[1;31m---------------------------------------------------------------------------\u001b[0m",
            "\u001b[1;31mModuleNotFoundError\u001b[0m                       Traceback (most recent call last)",
            "\u001b[1;32md:\\Pablo\\Documents\\Projects\\pablo-sampaio\\rl_facil\\cap04\\Cap05_Main.ipynb Célula: 4\u001b[0m in \u001b[0;36m<cell line: 1>\u001b[1;34m()\u001b[0m\n\u001b[1;32m----> <a href='vscode-notebook-cell:/d%3A/Pablo/Documents/Projects/pablo-sampaio/rl_facil/cap04/Cap05_Main.ipynb#ch0000002?line=0'>1</a>\u001b[0m \u001b[39mimport\u001b[39;00m \u001b[39mgoogle\u001b[39;00m\u001b[39m.\u001b[39;00m\u001b[39mcolab\u001b[39;00m\n\u001b[0;32m      <a href='vscode-notebook-cell:/d%3A/Pablo/Documents/Projects/pablo-sampaio/rl_facil/cap04/Cap05_Main.ipynb#ch0000002?line=2'>3</a>\u001b[0m get_ipython()\u001b[39m.\u001b[39msystem(\u001b[39m'\u001b[39m\u001b[39mpip install gym\u001b[39m\u001b[39m'\u001b[39m)\n\u001b[0;32m      <a href='vscode-notebook-cell:/d%3A/Pablo/Documents/Projects/pablo-sampaio/rl_facil/cap04/Cap05_Main.ipynb#ch0000002?line=3'>4</a>\u001b[0m get_ipython()\u001b[39m.\u001b[39msystem(\u001b[39m'\u001b[39m\u001b[39mpip install gym[box2d]\u001b[39m\u001b[39m'\u001b[39m)\n",
            "\u001b[1;31mModuleNotFoundError\u001b[0m: No module named 'google'"
          ]
        }
      ],
      "source": [
        "from google.colab import output\n",
        "\n",
        "!pip install gym\n",
        "!pip install gym[box2d]\n",
        "!pip install optuna\n",
        "\n",
        "!git clone https://github.com/pablo-sampaio/rl_facil\n",
        "\n",
        "!mv /content/rl_facil/cap04/* /content/\n",
        "!mv /content/rl_facil/cap05/* /content/\n",
        "\n",
        "output.clear()"
      ]
    },
    {
      "cell_type": "markdown",
      "metadata": {
        "id": "ztvJdbKVh20Y"
      },
      "source": [
        "## 2. Lidando com Ambientes Contínuos\n",
        "\n",
        "Vamos usar os mesmos algoritmos de antes, baseados em Q-Table, para lidar com ambientes contínuos. Para isso, vamos usar um wrapper."
      ]
    },
    {
      "cell_type": "code",
      "execution_count": 4,
      "metadata": {
        "id": "0Gzf7VhkiHxQ"
      },
      "outputs": [],
      "source": [
        "import gym\n",
        "import numpy as np\n",
        "\n",
        "from util_experiments import test_greedy_Q_policy\n",
        "from util_plot import plot_returns\n",
        "\n",
        "from expected_sarsa import run_expected_sarsa\n",
        "#from qlearning import run_qlearning\n",
        "\n",
        "from wrappers import DiscreteObservationWrapper"
      ]
    },
    {
      "cell_type": "code",
      "execution_count": 5,
      "metadata": {
        "id": "8OACm0r-iuh2"
      },
      "outputs": [
        {
          "name": "stderr",
          "output_type": "stream",
          "text": [
            "d:\\Pablo\\anaconda3\\envs\\rlx\\lib\\site-packages\\gym\\utils\\passive_env_checker.py:97: UserWarning: \u001b[33mWARN: We recommend you to use a symmetric and normalized Box action space (range=[-1, 1]) https://stable-baselines3.readthedocs.io/en/master/guide/rl_tips.html\u001b[0m\n",
            "  logger.warn(\n"
          ]
        }
      ],
      "source": [
        "# 1. Cria o ambiente contínuo\n",
        "ENV_NAME = \"CartPole-v1\"\n",
        "r_max_plot = 200\n",
        "\n",
        "env = gym.make(ENV_NAME)"
      ]
    },
    {
      "cell_type": "code",
      "execution_count": 6,
      "metadata": {
        "colab": {
          "base_uri": "https://localhost:8080/"
        },
        "id": "RvmKlh8St2cV",
        "outputId": "774735f5-c187-4220-91da-eb400157ad02"
      },
      "outputs": [
        {
          "name": "stdout",
          "output_type": "stream",
          "text": [
            "Espaço de estados/observações:  Box([-4.8000002e+00 -3.4028235e+38 -4.1887903e-01 -3.4028235e+38], [4.8000002e+00 3.4028235e+38 4.1887903e-01 3.4028235e+38], (4,), float32)\n",
            "  - formato:  (4,)\n",
            "  - exemplo:  [ 0.04362579  0.04925568 -0.01075318  0.01277133]\n"
          ]
        }
      ],
      "source": [
        "# vamos ver como é um estado deste ambiente?\n",
        "print(\"Espaço de estados/observações: \", env.observation_space)\n",
        "print(\"  - formato: \", env.observation_space.shape)\n",
        "print(\"  - exemplo: \", env.reset())"
      ]
    },
    {
      "cell_type": "code",
      "execution_count": 7,
      "metadata": {
        "id": "vplFS4jKuA4m"
      },
      "outputs": [],
      "source": [
        "# 2. Encapsula o ambiente em nosso wrapper\n",
        "# atenção para o 2o parâmetro: deve ter um valor para cada componente do estado\n",
        "env = DiscreteObservationWrapper(env, [20,50,10,20]) "
      ]
    },
    {
      "cell_type": "code",
      "execution_count": 8,
      "metadata": {
        "colab": {
          "base_uri": "https://localhost:8080/",
          "height": 357
        },
        "id": "Le0wNU9PrA8f",
        "outputId": "1ad5c78e-c2f9-4f41-e8f2-8a390e200767"
      },
      "outputs": [
        {
          "name": "stdout",
          "output_type": "stream",
          "text": [
            "Episode 100 Average Reward (last 100): 32.690\n",
            "Episode 200 Average Reward (last 100): 49.610\n",
            "Episode 300 Average Reward (last 100): 37.910\n",
            "Episode 400 Average Reward (last 100): 43.810\n",
            "Episode 500 Average Reward (last 100): 61.340\n",
            "Episode 600 Average Reward (last 100): 50.550\n",
            "Episode 700 Average Reward (last 100): 49.800\n",
            "Episode 800 Average Reward (last 100): 61.270\n",
            "Episode 900 Average Reward (last 100): 50.970\n",
            "Episode 1000 Average Reward (last 100): 59.590\n",
            "Últimos resultados: media = 80.1 , desvio padrao = 78.9936073362902\n"
          ]
        }
      ],
      "source": [
        "# 3. Roda um algoritmo de treinamento\n",
        "\n",
        "EPISODES = 1000\n",
        "LR = 0.5\n",
        "GAMMA = 0.95\n",
        "EPSILON = 0.1\n",
        "\n",
        "rewards, Qtable = run_expected_sarsa(env, EPISODES, LR, GAMMA, EPSILON, render=False)\n",
        "\n",
        "print(\"Últimos resultados: media =\", np.mean(rewards[-20:]), \", desvio padrao =\", np.std(rewards[-20:]))\n"
      ]
    },
    {
      "cell_type": "code",
      "execution_count": 9,
      "metadata": {
        "id": "oXlD7B-pshru"
      },
      "outputs": [
        {
          "data": {
            "image/png": "[encoded data removed]",
            "text/plain": [
              "<Figure size 432x288 with 1 Axes>"
            ]
          },
          "metadata": {
            "needs_background": "light"
          },
          "output_type": "display_data"
        },
        {
          "name": "stdout",
          "output_type": "stream",
          "text": [
            "Nenhum arquivo salvo.\n"
          ]
        }
      ],
      "source": [
        "# 4. Gera um gráfico de episódios x retornos (não descontados)\n",
        "\n",
        "filename = f\"results/expected_sarsa-{ENV_NAME.lower()[0:8]}-ep{EPISODES}-lr{LR}.png\"\n",
        "plot_returns(rewards, r_max_plot, None)"
      ]
    },
    {
      "cell_type": "code",
      "execution_count": 10,
      "metadata": {
        "id": "8Bz2Pp1Wsi_P"
      },
      "outputs": [
        {
          "name": "stdout",
          "output_type": "stream",
          "text": [
            "Retorno médio (por episódio): 54.6, episódios: 10, total de passos: 546\n"
          ]
        }
      ],
      "source": [
        "# 5. Faz alguns testes, usando a tabela de forma greedy\n",
        "\n",
        "test_greedy_Q_policy(env, Qtable, 10, render=False)\n",
        "env.close()"
      ]
    },
    {
      "cell_type": "markdown",
      "metadata": {
        "id": "M8roKzCgsuCl"
      },
      "source": [
        "## 3. Otimizando Parâmetros\n",
        "\n",
        "Vamos usar a biblioteca *Optuna* para otimizar (hiper-)parâmetros dos algoritmos de treinamento."
      ]
    },
    {
      "cell_type": "code",
      "execution_count": 22,
      "metadata": {
        "id": "lSclkJIQtHgW"
      },
      "outputs": [],
      "source": [
        "import optuna\n",
        "\n",
        "# vamos usar para limpar a saída\n",
        "from IPython.display import clear_output\n"
      ]
    },
    {
      "cell_type": "markdown",
      "metadata": {
        "id": "MBsJRMCstj0N"
      },
      "source": [
        "### Otimizando um ambiente discreto\n",
        "\n",
        "É um caso um pouco mais simples, porque não precisamos aplicar o wrapper."
      ]
    },
    {
      "cell_type": "code",
      "execution_count": 17,
      "metadata": {
        "id": "WPHzH2jstuXV"
      },
      "outputs": [],
      "source": [
        "ENV = gym.make(\"Taxi-v3\")\n"
      ]
    },
    {
      "cell_type": "markdown",
      "metadata": {
        "id": "IzukYLWcveU9"
      },
      "source": [
        "Primeiro, você precisa fazer uma função que receber um parâmetro \"Trial\" (objeto do optuna) e retorna uma medida de desempenho. \n",
        "\n",
        "Dentro da função, você usa o trial para pedir \"sugestões\" de valores para os hiper-parâmetros do seu algoritmo."
      ]
    },
    {
      "cell_type": "code",
      "execution_count": 23,
      "metadata": {
        "id": "aU8DNpphvcRa"
      },
      "outputs": [],
      "source": [
        "def train_exp_sarsa(trial : optuna.Trial):   \n",
        "    # chama os métodos do \"trial\" (tentativa) para sugerir valores para os parâmetros\n",
        "    lr = trial.suggest_uniform('learning_rate', 0.001, 1.0)\n",
        "    #lr = trial.suggest_loguniform('learning_rate', 0.001, 1.0)\n",
        "    eps = trial.suggest_uniform('epsilon', 0.01, 0.2)\n",
        "    \n",
        "    print(f\"\\nTRIAL #{trial.number}: lr={lr}, eps={eps}\")\n",
        "\n",
        "    # roda o algoritmo e recebe os retornos não-descontados\n",
        "    (returns, _) = run_expected_sarsa(ENV, 2000, lr=lr, epsilon=eps)\n",
        "    \n",
        "    # limpa a saída da célula do notebook\n",
        "    clear_output()\n",
        "\n",
        "    # média dos retornos dos últimos 100 episódios\n",
        "    return sum(returns[-100:])/100 \n"
      ]
    },
    {
      "cell_type": "markdown",
      "metadata": {
        "id": "OUpVCri3v7v9"
      },
      "source": [
        "Depois, você cria um \"study\" do Optuna e manda otimizar sua função, indicando quantas tentativas (trials) ele vai fazer -- ou seja, quantas vezes a sua função vai ser executada, com o optuna oferecendo diferentes sugestões dos parâmetros."
      ]
    },
    {
      "cell_type": "code",
      "execution_count": 24,
      "metadata": {
        "id": "ZTVBjiirtOUP"
      },
      "outputs": [
        {
          "name": "stderr",
          "output_type": "stream",
          "text": [
            "\u001b[32m[I 2022-07-21 10:14:15,380]\u001b[0m Trial 25 finished with value: 6.56 and parameters: {'learning_rate': 0.37918100089921614, 'epsilon': 0.02753129311804936}. Best is trial 17 with value: 7.99.\u001b[0m\n"
          ]
        },
        {
          "name": "stdout",
          "output_type": "stream",
          "text": [
            "MELHORES PARÂMETROS:\n",
            "{'epsilon': 0.01095238596675123, 'learning_rate': 0.6100081089269185}\n"
          ]
        }
      ],
      "source": [
        "study = optuna.create_study(direction='maximize', \n",
        "                        storage='sqlite:///resultado_esarsa.db', \n",
        "                        study_name='resultado_esarsa',\n",
        "                        load_if_exists=True)\n",
        "\n",
        "# maximiza o valor de retorno de train_exp_sarsa, rodando \"n_trials\" vezes\n",
        "study.optimize(train_exp_sarsa, n_trials=15) \n",
        "\n",
        "print(\"MELHORES PARÂMETROS:\")\n",
        "print(study.best_params)"
      ]
    },
    {
      "cell_type": "markdown",
      "metadata": {
        "id": "_N6eLcX7yfqd"
      },
      "source": [
        "### Otimizando um ambiente contínuo\n",
        "\n",
        "Neste cao, nós aplicamos o wrapper, que tem novos parâmetros (quantidade de \"bins\" por valor do estado). \n",
        "\n",
        "O wrapper é considerado parte da solução e, por isso, o ideal é tentar otimizar esses parâmetros. Por isso, o wrapper será criado dentro da função a ser otimizada."
      ]
    },
    {
      "cell_type": "code",
      "execution_count": 25,
      "metadata": {
        "id": "a1Fk_ZsGyz3E"
      },
      "outputs": [
        {
          "name": "stderr",
          "output_type": "stream",
          "text": [
            "d:\\Pablo\\anaconda3\\envs\\rlx\\lib\\site-packages\\gym\\utils\\passive_env_checker.py:97: UserWarning: \u001b[33mWARN: We recommend you to use a symmetric and normalized Box action space (range=[-1, 1]) https://stable-baselines3.readthedocs.io/en/master/guide/rl_tips.html\u001b[0m\n",
            "  logger.warn(\n"
          ]
        }
      ],
      "source": [
        "# cria apenas a versão contínua\n",
        "ENV = gym.make(\"CartPole-v1\")\n"
      ]
    },
    {
      "cell_type": "code",
      "execution_count": 26,
      "metadata": {
        "id": "t7Jbppx7zr8u"
      },
      "outputs": [],
      "source": [
        "def train_exp_sarsa_continuous(trial : optuna.Trial):\n",
        "    \n",
        "    # chama os métodos do \"trial\" (tentativa) para sugerir valores para os parâmetros\n",
        "    lr = trial.suggest_uniform('learning_rate', 0.001, 1.0)\n",
        "    eps = trial.suggest_uniform('epsilon', 0.01, 0.2)\n",
        "    bins1 = trial.suggest_int('bins1', 5, 100)\n",
        "    bins2 = trial.suggest_int('bins2', 5, 100)\n",
        "    \n",
        "    print(f\"\\nTRIAL #{trial.number}: lr={lr}, eps={eps}, bins=[{bins1},{bins2}]\")\n",
        "\n",
        "    # cria o wrapper e roda o algoritmo, recebendo os retornos não-descontados\n",
        "    env_wrapper = DiscreteObservationWrapper(ENV, [bins1,bins2])\n",
        "    (returns, _) = run_expected_sarsa(env_wrapper, 2000, lr=lr, epsilon=eps)\n",
        "\n",
        "    # limpa a saída da célula do notebook\n",
        "    clear_output()\n",
        "\n",
        "    # média dos retornos dos últimos 100 episódios\n",
        "    return sum(returns[-100:])/100 \n"
      ]
    },
    {
      "cell_type": "code",
      "execution_count": null,
      "metadata": {
        "id": "T_6xX6d_0lht"
      },
      "outputs": [],
      "source": [
        "study = optuna.create_study(direction='maximize', \n",
        "                        storage='sqlite:///resultado_esarsa_cont.db', \n",
        "                        study_name='resultado_esarsa_cont',\n",
        "                        load_if_exists=True)\n",
        "\n",
        "# maximiza o valor de retorno de train_exp_sarsa_continuous, rodando \"n_trials\" vezes\n",
        "study.optimize(train_exp_sarsa_continuous, n_trials=20) \n",
        "\n",
        "print(\"MELHORES PARÂMETROS:\")\n",
        "print(study.best_params)"
      ]
    },
    {
      "cell_type": "markdown",
      "metadata": {
        "id": "yF9fggfZzFVV"
      },
      "source": [
        "## 4. Fazer Experimentos Completos\n",
        "\n",
        "Agora que você descobriu bons parâmetros, que tal rodar um treinamento mais longo com o seu algoritmo?"
      ]
    },
    {
      "cell_type": "code",
      "execution_count": null,
      "metadata": {
        "id": "jYSG9xiHxBKe"
      },
      "outputs": [],
      "source": [
        "# o código é por sua conta aqui!"
      ]
    }
  ],
  "metadata": {
    "accelerator": "TPU",
    "colab": {
      "collapsed_sections": [],
      "name": "Cap05-Main.ipynb",
      "provenance": []
    },
    "gpuClass": "standard",
    "kernelspec": {
      "display_name": "Python 3.9.13 ('rlx')",
      "language": "python",
      "name": "python3"
    },
    "language_info": {
      "codemirror_mode": {
        "name": "ipython",
        "version": 3
      },
      "file_extension": ".py",
      "mimetype": "text/x-python",
      "name": "python",
      "nbconvert_exporter": "python",
      "pygments_lexer": "ipython3",
      "version": "3.9.13"
    },
    "vscode": {
      "interpreter": {
        "hash": "27dbc9ce4cc602e4f15257b7b0018d8dff5b9ce9a7d73bc4399cb5afb1e02c4a"
      }
    }
  },
  "nbformat": 4,
  "nbformat_minor": 0
}
