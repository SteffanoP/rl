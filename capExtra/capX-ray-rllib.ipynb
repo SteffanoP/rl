{
  "cells": [
    {
      "cell_type": "markdown",
      "metadata": {},
      "source": [
        "# Usando a Biblioteca Ray rllib\n",
        "\n",
        "[![Open In Colab](https://colab.research.google.com/assets/colab-badge.svg)](https://colab.research.google.com/github/pablo-sampaio/rl_facil/blob/main/capExtra/capX-ray-rllib.ipynb)\n"
      ]
    },
    {
      "cell_type": "code",
      "execution_count": null,
      "metadata": {
        "id": "Sp2sD2qEpdyv"
      },
      "outputs": [],
      "source": [
        "!pip install \"ray[rllib]\""
      ]
    },
    {
      "cell_type": "code",
      "execution_count": null,
      "metadata": {
        "id": "O-lNOa_Kre4_"
      },
      "outputs": [],
      "source": [
        "from IPython.display import clear_output\n",
        "import tensorboard\n",
        "\n",
        "%load_ext tensorboard\n",
        "\n",
        "from ray.rllib.algorithms.ppo import PPOConfig\n",
        "from ray.tune.logger import pretty_print"
      ]
    },
    {
      "cell_type": "markdown",
      "metadata": {
        "id": "0NdPDuelsfr-"
      },
      "source": [
        "## 1 - Tensorboard"
      ]
    },
    {
      "cell_type": "markdown",
      "metadata": {
        "id": "DMMtj_AQsjE1"
      },
      "source": [
        "Acompanhe, em especial, a métrica `ray/tune/episode_reward_mean` ou `ray/tune/sampler_results\n",
        "/episode_reward_mean`."
      ]
    },
    {
      "cell_type": "code",
      "execution_count": null,
      "metadata": {
        "id": "nmCY7US9sbIs"
      },
      "outputs": [],
      "source": [
        "%tensorboard --logdir=~/ray_results  # no Colab, os resultados ficam em \"root/ray_results\""
      ]
    },
    {
      "cell_type": "markdown",
      "metadata": {
        "id": "UPgs8IIIrmpn"
      },
      "source": [
        "## 2 - Treinamento com o PPO"
      ]
    },
    {
      "cell_type": "code",
      "execution_count": null,
      "metadata": {
        "id": "182zXNv_359n"
      },
      "outputs": [],
      "source": [
        "ENV_NAME = 'CartPole-v1'  # 'MountainCarContinuous-v0'"
      ]
    },
    {
      "cell_type": "code",
      "execution_count": null,
      "metadata": {
        "id": "0K1oKdrZpeer"
      },
      "outputs": [],
      "source": [
        "algo = (\n",
        "    PPOConfig()\n",
        "    .rollouts(num_rollout_workers=0)\n",
        "    .resources(num_gpus=1)           # atenção: 1 GPU\n",
        "    .environment(env=ENV_NAME)\n",
        "    .build()\n",
        ")\n",
        "\n",
        "# treina 4 mil passos por iteração\n",
        "for i in range(20):\n",
        "    result = algo.train()\n",
        "    clear_output()\n",
        "\n",
        "    # result é um dicionário com muitas informações do treinamento\n",
        "    # se quiser tamanho e recompensa de cada episódio, acesse result['sampler_results']['hist_stats'].keys()\n",
        "    print(pretty_print(result))\n",
        "\n",
        "    if (i+1) % 5 == 0:\n",
        "        checkpoint_dir = algo.save()\n",
        "        print(f\"Checkpoint saved in directory {checkpoint_dir}\")"
      ]
    },
    {
      "cell_type": "markdown",
      "metadata": {
        "id": "9nzKOitQrpxu"
      },
      "source": [
        "## 3 - Execução do Agente Treinado"
      ]
    },
    {
      "cell_type": "code",
      "execution_count": null,
      "metadata": {
        "id": "ykaGs87tqJU0"
      },
      "outputs": [],
      "source": [
        "import gymnasium as gym\n",
        "\n",
        "env = gym.make(ENV_NAME)\n",
        "\n",
        "for i in range(5):\n",
        "  episode_reward = 0\n",
        "  terminated = truncated = False\n",
        "  obs, info = env.reset()\n",
        "\n",
        "  while not terminated and not truncated:\n",
        "      action = algo.compute_single_action(obs)\n",
        "      obs, reward, terminated, truncated, info = env.step(action)\n",
        "      episode_reward += reward\n",
        "\n",
        "  print(f'Episode {i+1} -> {episode_reward=}')\n"
      ]
    },
    {
      "cell_type": "code",
      "execution_count": null,
      "metadata": {
        "id": "TAx3QbIqDfwo"
      },
      "outputs": [],
      "source": []
    }
  ],
  "metadata": {
    "accelerator": "GPU",
    "colab": {
      "authorship_tag": "ABX9TyOlyxZeywSxk4/tpmOJkyOK",
      "gpuType": "T4",
      "provenance": []
    },
    "kernelspec": {
      "display_name": "Python 3",
      "name": "python3"
    },
    "language_info": {
      "name": "python"
    }
  },
  "nbformat": 4,
  "nbformat_minor": 0
}
