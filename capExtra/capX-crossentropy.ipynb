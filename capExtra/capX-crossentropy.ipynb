{
  "cells": [
    {
      "cell_type": "markdown",
      "metadata": {
        "id": "SeJ3wCaKe2Wl"
      },
      "source": [
        "[![Open In Colab](https://colab.research.google.com/assets/colab-badge.svg)](https://colab.research.google.com/github/pablo-sampaio/rl_facil/blob/main/capExtra/capX-crossentropy.ipynb)\n",
        "\n",
        "# Método Cross-Entropy\n"
      ]
    },
    {
      "cell_type": "markdown",
      "metadata": {
        "id": "uAHITU7VhsM7"
      },
      "source": [
        "## 1 - Configurações Iniciais"
      ]
    },
    {
      "cell_type": "markdown",
      "metadata": {
        "id": "hG4byJmEPE3Q"
      },
      "source": [
        "### Cria Diretório para Experimentos"
      ]
    },
    {
      "cell_type": "code",
      "execution_count": null,
      "metadata": {
        "id": "zHXAzRPLO8-W"
      },
      "outputs": [],
      "source": [
        "!mkdir results"
      ]
    },
    {
      "cell_type": "markdown",
      "metadata": {
        "id": "RyTpn6lxGf4J"
      },
      "source": [
        "### Configurações Dependentes do Sistema\n",
        "\n",
        "Rode a célula abaixo, mesmo sem estar no Colab."
      ]
    },
    {
      "cell_type": "code",
      "execution_count": null,
      "metadata": {
        "id": "NS23BU8R1vq-"
      },
      "outputs": [],
      "source": [
        "import sys\n",
        "from IPython.display import clear_output\n",
        "\n",
        "if 'google.colab' in sys.modules:\n",
        "    !pip install swig\n",
        "    !pip install gymnasium[box2d]\n",
        "\n",
        "    !git clone https://github.com/pablo-sampaio/rl_facil\n",
        "    sys.path.append(\"/content/rl_facil\")\n",
        "\n",
        "    clear_output()\n",
        "else:\n",
        "    from os import path\n",
        "    sys.path.append( path.dirname( path.dirname( path.abspath(\"__main__\") ) ) )\n"
      ]
    },
    {
      "cell_type": "markdown",
      "metadata": {
        "id": "zbNaGpBVGf4N"
      },
      "source": [
        "### Imports Principais\n",
        "\n",
        "Import algoritmos, ambientes e outros módulos."
      ]
    },
    {
      "cell_type": "code",
      "execution_count": null,
      "metadata": {
        "id": "0Gzf7VhkiHxQ"
      },
      "outputs": [],
      "source": [
        "import gymnasium as gym\n",
        "import numpy as np\n",
        "\n",
        "from util.experiments import repeated_exec\n",
        "from util.plot import plot_result, plot_multiple_results\n",
        "from util.notebook import display_videos_from_path\n",
        "\n",
        "from capExtra.models_torch import test_policy\n",
        "from capExtra.crossentropy_method import run_crossentropy_method, PolicyModelCrossentropy"
      ]
    },
    {
      "cell_type": "markdown",
      "metadata": {
        "id": "ztvJdbKVh20Y"
      },
      "source": [
        "## 2 - Rodando o Método Cross-Entropy (v1)"
      ]
    },
    {
      "cell_type": "code",
      "execution_count": null,
      "metadata": {
        "id": "8OACm0r-iuh2"
      },
      "outputs": [],
      "source": [
        "#ENV_NAME, rmax = \"CartPole-v1\", 500\n",
        "ENV_NAME, rmax = \"Acrobot-v1\", 0\n",
        "#ENV_NAME, rmax = \"LunarLander-v2\", 300\n",
        "#ENV_NAME, rmax = \"MountainCar-v0\", 0  # resultados ruins\n",
        "\n",
        "env = gym.make(ENV_NAME)\n",
        "\n",
        "EPISODES   = 500    # total de episódios\n",
        "BATCH_SIZE = 10      # quantidade de episódios executados por época de treinamento\n",
        "PROPORTION = 0.2    # percentual dos episódios (do batch) que serão selecionados\n",
        "\n",
        "policy_model = PolicyModelCrossentropy(env.observation_space.shape[0], [512], env.action_space.n, lr=0.005)\n",
        "returns, policy1 = run_crossentropy_method(env, EPISODES, BATCH_SIZE, PROPORTION, verbose=True)\n",
        "clear_output()\n",
        "\n",
        "print(\"Últimos episódios do treinamento: media =\", np.mean(returns[-20:]), \", desvio padrao =\", np.std(returns[-20:]))\n"
      ]
    },
    {
      "cell_type": "code",
      "execution_count": null,
      "metadata": {
        "id": "JR0b8YMB7PLE"
      },
      "outputs": [],
      "source": [
        "# Exibe um gráfico episódios x retornos (não descontados)\n",
        "plot_result(returns, rmax)"
      ]
    },
    {
      "cell_type": "code",
      "execution_count": null,
      "metadata": {
        "id": "RJL2f95f7PLE"
      },
      "outputs": [],
      "source": [
        "# Roda alguns episódigos com o modelo e salva os vídeos em arquivos\n",
        "env1 = gym.make(ENV_NAME, render_mode=\"rgb_array\")\n",
        "video_env=gym.wrappers.RecordVideo(env1, \"./videos\", episode_trigger=(lambda ep : True), video_length=3_000)\n",
        "test_policy(video_env, policy1, False, 3)\n",
        "video_env.close()"
      ]
    },
    {
      "cell_type": "code",
      "execution_count": null,
      "metadata": {
        "id": "oVa15jmMIDrI"
      },
      "outputs": [],
      "source": [
        "display_videos_from_path('./videos')"
      ]
    },
    {
      "cell_type": "markdown",
      "metadata": {
        "id": "M8roKzCgsuCl"
      },
      "source": [
        "## 3 - Experimentos\n"
      ]
    },
    {
      "cell_type": "code",
      "execution_count": null,
      "metadata": {
        "id": "aYPvgZYC8yoK"
      },
      "outputs": [],
      "source": [
        "NUM_EPISODES = 500\n",
        "RUNS         = 5\n",
        "AUTO_LOAD    = True"
      ]
    },
    {
      "cell_type": "markdown",
      "metadata": {
        "id": "QwhQnziOGf4Q"
      },
      "source": [
        "### 3.1 Variando Parâmetros do Algoritmo\n",
        "\n",
        "Abaixo, mostramos experimentos variando os dois parâmetros mais diretos do método:\n",
        "- o tamanho de batch (de episódios)\n",
        "- a proporção dos episódios selecionados\n",
        "\n",
        "***Atenção***: de forma geral, os resultados variam muito, porque dependem da inicialização da rede neural, que é aleatória. Para resultados mais confiáveis, use um número mais alto de repetições do que estamos usando abaixo. Tente com algumas *dezenas*."
      ]
    },
    {
      "cell_type": "code",
      "execution_count": null,
      "metadata": {
        "id": "aU8DNpphvcRa"
      },
      "outputs": [],
      "source": [
        "env = gym.make(ENV_NAME)\n",
        "\n",
        "\n",
        "results1 = []\n",
        "\n",
        "for batch_size in [5, 20]:\n",
        "    _results = []\n",
        "    for proportion in [1/5.0, 2/5.0, 4/5.0]:\n",
        "        _results.append( repeated_exec(RUNS, f\"CrossEntropy ({batch_size}; {proportion:.2f})\", run_crossentropy_method, env, NUM_EPISODES, batch_size, proportion, auto_load=AUTO_LOAD) )\n",
        "    plot_multiple_results(_results, cumulative='no')\n",
        "    results1.extend(_results)\n"
      ]
    },
    {
      "cell_type": "code",
      "execution_count": null,
      "metadata": {
        "id": "i44Tj3CG8m4D"
      },
      "outputs": [],
      "source": [
        "plot_multiple_results(results1, cumulative='no')"
      ]
    },
    {
      "cell_type": "markdown",
      "metadata": {
        "id": "y5T13ZeqGf4Q"
      },
      "source": [
        "### 3.2 Variando Parâmetros da Rede Neural (da Política)\n",
        "\n",
        "Você também pode variar todos os parâmetros da rede neural: quantidade de camadas, taxa de aprendizagem, etc."
      ]
    },
    {
      "cell_type": "code",
      "execution_count": null,
      "metadata": {
        "id": "tiB3f9R97PLF"
      },
      "outputs": [],
      "source": [
        "env = gym.make(ENV_NAME)\n",
        "\n",
        "BATCH_SIZE   = 20\n",
        "PROPORTION   = 0.4\n",
        "AUTO_LOAD    = True"
      ]
    },
    {
      "cell_type": "code",
      "execution_count": null,
      "metadata": {
        "id": "I7zUcdS5Gf4R"
      },
      "outputs": [],
      "source": [
        "results2 = []\n",
        "\n",
        "for hidden_layers in [ [32], [256], [256,256] ]:\n",
        "    policy_model = PolicyModelCrossentropy(env.observation_space.shape[0], hidden_layers, env.action_space.n, lr=0.005)\n",
        "    results2.append( repeated_exec(RUNS, f\"CrossEntropy (hlayers={hidden_layers})\", run_crossentropy_method, env, NUM_EPISODES, BATCH_SIZE, PROPORTION, policy_model, auto_load=AUTO_LOAD) )\n",
        "    clear_output()\n",
        "\n",
        "plot_multiple_results(results2, cumulative='no', x_log_scale=False)"
      ]
    },
    {
      "cell_type": "code",
      "execution_count": null,
      "metadata": {
        "id": "zcP5NlVQ7PLG"
      },
      "outputs": [],
      "source": []
    }
  ],
  "metadata": {
    "accelerator": "GPU",
    "colab": {
      "name": "cap06-main.ipynb",
      "provenance": []
    },
    "gpuClass": "standard",
    "kernelspec": {
      "display_name": "rl23y",
      "language": "python",
      "name": "python3"
    },
    "language_info": {
      "codemirror_mode": {
        "name": "ipython",
        "version": 3
      },
      "file_extension": ".py",
      "mimetype": "text/x-python",
      "name": "python",
      "nbconvert_exporter": "python",
      "pygments_lexer": "ipython3",
      "version": "3.11.6"
    }
  },
  "nbformat": 4,
  "nbformat_minor": 0
}
